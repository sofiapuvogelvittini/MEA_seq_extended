{
 "cells": [
  {
   "cell_type": "code",
   "execution_count": 1,
   "id": "424d10b2-454b-4e53-ab7b-5c524e98f469",
   "metadata": {},
   "outputs": [],
   "source": [
    "setwd(\"T:/PIgroup Nael NadifKasri/Sofia/2025/MEA_seq_patient/Analysis/Developmental\")"
   ]
  },
  {
   "cell_type": "code",
   "execution_count": 27,
   "id": "1dbed161-769e-4265-96a8-caa352c9febd",
   "metadata": {},
   "outputs": [],
   "source": [
    "library(RColorBrewer)\n",
    "library(dtwclust)\n",
    "set.seed(123)\n",
    "library(tidyverse)\n",
    "library(reshape2)\n",
    "library(dplyr)"
   ]
  },
  {
   "cell_type": "code",
   "execution_count": 46,
   "id": "d4463e81-4bc7-4033-9c3c-8e766a083927",
   "metadata": {},
   "outputs": [
    {
     "data": {
      "text/plain": [
       "R version 4.2.1 (2022-06-23 ucrt)\n",
       "Platform: x86_64-w64-mingw32/x64 (64-bit)\n",
       "Running under: Windows 10 x64 (build 19045)\n",
       "\n",
       "Matrix products: default\n",
       "\n",
       "Random number generation:\n",
       " RNG:     L'Ecuyer-CMRG \n",
       " Normal:  Inversion \n",
       " Sample:  Rejection \n",
       " \n",
       "locale:\n",
       "[1] LC_COLLATE=English_VIR.utf8  LC_CTYPE=English_VIR.utf8   \n",
       "[3] LC_MONETARY=English_VIR.utf8 LC_NUMERIC=C                \n",
       "[5] LC_TIME=English_VIR.utf8    \n",
       "\n",
       "attached base packages:\n",
       "[1] stats     graphics  grDevices utils     datasets  methods   base     \n",
       "\n",
       "other attached packages:\n",
       " [1] cluster_2.1.6      reshape2_1.4.4     lubridate_1.9.3    forcats_1.0.0     \n",
       " [5] stringr_1.5.1      dplyr_1.1.2        purrr_1.0.2        readr_2.1.5       \n",
       " [9] tidyr_1.3.1        tibble_3.2.1       ggplot2_3.5.2      tidyverse_2.0.0   \n",
       "[13] dtwclust_5.5.12    dtw_1.23-1         proxy_0.4-27       RColorBrewer_1.1-3\n",
       "\n",
       "loaded via a namespace (and not attached):\n",
       " [1] ggrepel_0.9.5      Rcpp_1.0.12        flexclust_1.4-1    lattice_0.22-6    \n",
       " [5] class_7.3-22       digest_0.6.33      foreach_1.5.2      RSpectra_0.16-1   \n",
       " [9] mime_0.12          IRdisplay_1.1      R6_2.6.1           plyr_1.8.9        \n",
       "[13] repr_1.1.7         stats4_4.2.1       evaluate_1.0.4     pillar_1.11.0     \n",
       "[17] rlang_1.1.1        uuid_1.1-0         Matrix_1.6-5       labeling_0.4.3    \n",
       "[21] textshaping_0.3.7  shinyjs_2.1.0      shiny_1.7.5        compiler_4.2.1    \n",
       "[25] httpuv_1.6.15      pkgconfig_2.0.3    systemfonts_1.0.6  base64enc_0.1-3   \n",
       "[29] htmltools_0.5.8.1  tidyselect_1.2.1   codetools_0.2-20   tzdb_0.4.0        \n",
       "[33] withr_3.0.2        crayon_1.5.3       later_1.3.2        grid_4.2.1        \n",
       "[37] jsonlite_1.8.7     xtable_1.8-4       gtable_0.3.6       lifecycle_1.0.4   \n",
       "[41] magrittr_2.0.3     scales_1.4.0       RcppParallel_5.1.7 cli_3.6.1         \n",
       "[45] stringi_1.8.3      farver_2.1.1       promises_1.3.0     ellipsis_0.3.2    \n",
       "[49] ragg_1.3.0         generics_0.1.4     vctrs_0.6.3        IRkernel_1.3.2    \n",
       "[53] Cairo_1.6-2        iterators_1.0.14   tools_4.2.1        glue_1.6.2        \n",
       "[57] hms_1.1.3          parallel_4.2.1     fastmap_1.1.1      timechange_0.3.0  \n",
       "[61] colorspace_2.1-0   clue_0.3-65        pbdZMQ_0.3-9       modeltools_0.2-24 "
      ]
     },
     "metadata": {},
     "output_type": "display_data"
    }
   ],
   "source": [
    "sessionInfo()"
   ]
  },
  {
   "cell_type": "code",
   "execution_count": 3,
   "id": "22acdf3b-cd56-42b7-a601-5871938c96ba",
   "metadata": {},
   "outputs": [],
   "source": [
    "data<-read.csv(\"T:/PIgroup Nael NadifKasri/Sofia/2025/MEA_seq_patient/Code/0.Data/MEA_data/ready/Well_summary_parameters_NB_hf_043_06_2025.csv\") \n",
    "#color\n",
    "color<-read.csv(\"T:/PIgroup Nael NadifKasri/Sofia/2025/MEA_seq_patient/Code/0.Data/cell_lines/colors.csv\")\n",
    "data<-data[-1]\n",
    "data$color<-color$Color[match(data$Phenotype,color$Phenotype)]\n",
    "rownames(data)<-data$Unique_ID\n",
    "#used combined hfNB_rate NB_rate instead, otherwsie too many zeros\n",
    "data <- data %>% select(-hfNB_rate)\n"
   ]
  },
  {
   "cell_type": "code",
   "execution_count": 4,
   "id": "ea855b84-1e5e-4e99-b8ff-d9b66bdafc31",
   "metadata": {},
   "outputs": [],
   "source": [
    "data$batch<-ifelse(data$Phenotype == \"SETD1A_clone 2\" & data$batch == \"Batch1\", \"Plate 1\",data$batch) #rename, Batch1 is same as Palate 1"
   ]
  },
  {
   "cell_type": "code",
   "execution_count": 5,
   "id": "c92c748f-7f6b-42ea-a482-c13ab05d56d1",
   "metadata": {},
   "outputs": [],
   "source": [
    "final_selected_variables<-read.csv(\"T:/PIgroup Nael NadifKasri/Sofia/2025/MEA_seq_patient/Analysis/DIV28/final_selected_variables_001_top4.csv\")\n",
    "final_selected_variables<-final_selected_variables$x\n",
    "final_selected_variables<-c(final_selected_variables,\"hf_and_NB_rate\")\n",
    "final_selected_variables <- final_selected_variables[!final_selected_variables %in% c(\"hfNB_rate\",\"NB_rate\")]\n"
   ]
  },
  {
   "cell_type": "code",
   "execution_count": 6,
   "id": "7e82cf9b-7940-48eb-996e-3fc855979d48",
   "metadata": {},
   "outputs": [],
   "source": [
    "#Fix the problem with the dravet lines, FS and dravet are different NDDs\n",
    "data$Syndrome<-ifelse(data$Phenotype==\"FAM001_FS\",\"FS\",data$Syndrome)\n",
    "cell_lines<-read.csv(\"T:/PIgroup Nael NadifKasri/Sofia/2025/MEA_seq_patient/Code/0.Data/cell_lines/cell_lines.csv\")\n",
    "data$cell_line<-cell_lines$cell_line_v2[match(data$Phenotype,cell_lines$Phenotype)]\n",
    "color$cell_line<-cell_lines$cell_line_v2[match(color$Phenotype,cell_lines$Phenotype)]#try cell_line_v2\n",
    "data$cell_line<-factor(data$cell_line, levels=cell_lines$order)\n",
    "phenotype_colors <- setNames(color$Color, color$cell_line)\n"
   ]
  },
  {
   "cell_type": "code",
   "execution_count": 7,
   "id": "2bf724b1-0d87-470a-93e2-319406267ac7",
   "metadata": {},
   "outputs": [],
   "source": [
    "# Identify character and factor columns\n",
    "char_factor_cols <- names(data)[sapply(data, function(x) is.character(x) || is.factor(x))]\n",
    "\n",
    "# Combine with final_selected_variables\n",
    "cols_to_keep <- union(char_factor_cols, final_selected_variables)\n",
    "\n",
    "# Subset the dataframe\n",
    "data <- data[, cols_to_keep, drop = FALSE]"
   ]
  },
  {
   "cell_type": "code",
   "execution_count": 8,
   "id": "f2b3a21c-18c5-4848-af05-9af7284e3280",
   "metadata": {},
   "outputs": [],
   "source": [
    "data$dev_sample<-paste0(data$Phenotype,\"_\",data$batch,\"_\", data$Well_Label)"
   ]
  },
  {
   "cell_type": "code",
   "execution_count": 9,
   "id": "249651fe-a858-4c38-92cd-9380820b796c",
   "metadata": {},
   "outputs": [],
   "source": [
    "#split  patients and controls!\n",
    "patients<-data[which(data$Syndrome !=\"Control\"), ]\n",
    "controls<-data[which(data$Syndrome ==\"Control\"), ]\n",
    "\n",
    "patients<-droplevels(patients)\n",
    "controls<-droplevels(controls)"
   ]
  },
  {
   "cell_type": "code",
   "execution_count": 10,
   "id": "57ccb373-f638-474b-99da-7623b80b766c",
   "metadata": {},
   "outputs": [],
   "source": [
    "#remove early DIVs when there is very low activity\n",
    "patients_DEV<-patients[!patients$DIV_range %in% c(\"DIV14\",\"DIV21\"),]\n",
    "controls_DEV<-controls[!controls$DIV_range %in% c(\"DIV14\",\"DIV21\"),]"
   ]
  },
  {
   "cell_type": "code",
   "execution_count": 11,
   "id": "83d1c2bc-6187-4af1-9f0b-faf4a1b90fc2",
   "metadata": {},
   "outputs": [],
   "source": [
    "patients_DEV<-droplevels(patients_DEV)\n",
    "controls_DEV<-droplevels(controls_DEV)"
   ]
  },
  {
   "cell_type": "code",
   "execution_count": 12,
   "id": "9b8a092d-3c66-4a38-ae9a-f2d284ec48cf",
   "metadata": {},
   "outputs": [],
   "source": [
    "# Assign matching control group\n",
    "#normalize based on DIV_range!\n",
    "patients_DEV$Own_control<-ifelse(patients_DEV$isogenic==\"yes\",patients_DEV$Own_control,\"median_controls\")\n",
    "patients_DEV$Dev_control<-paste0(patients_DEV$DIV_range,\"_\",patients_DEV$Own_control)"
   ]
  },
  {
   "cell_type": "code",
   "execution_count": 13,
   "id": "34f142cd-fba4-4bd2-af5c-a35cc3ee1d24",
   "metadata": {},
   "outputs": [],
   "source": [
    "#group by phenotype first and then all\n",
    "numeric_var<-names(controls_DEV)[sapply(controls_DEV, is.numeric)]\n",
    "\n",
    "median_individual_controls<-controls_DEV %>% group_by(DIV_range,Phenotype)   %>% \n",
    "             summarise_at(numeric_var, median) %>% as.data.frame()\n",
    "\n",
    "median_controls<-median_individual_controls %>% group_by(DIV_range)  %>%\n",
    "             summarise_at(numeric_var, median) %>% as.data.frame()\n",
    "\n",
    "median_individual_controls$DIV_range_Phenotype<-paste0(median_individual_controls$DIV_range,\"_\",median_individual_controls$Phenotype)\n",
    "\n",
    "median_controls$DIV_range_Phenotype<-paste0(median_controls$DIV_range,\"_median_controls\")\n",
    "\n",
    "rownames(median_individual_controls)<-median_individual_controls$DIV_range_Phenotype\n",
    "\n",
    "rownames(median_controls)<-median_controls$DIV_range_Phenotype\n",
    "\n",
    "\n"
   ]
  },
  {
   "cell_type": "code",
   "execution_count": 16,
   "id": "4a5e48fa-2e77-481b-941b-3f3979899fbc",
   "metadata": {},
   "outputs": [],
   "source": [
    "median_individual_controls<-median_individual_controls[,-c(1,2,23)] #keep only numeric\n",
    "median_controls<-median_controls[,-c(1,22)]#keep only numeric\n",
    "all_control_median_of_medians<-rbind(median_individual_controls,median_controls)"
   ]
  },
  {
   "cell_type": "code",
   "execution_count": 17,
   "id": "01df1ef7-e144-4f2b-a80a-3ad224cd9a97",
   "metadata": {},
   "outputs": [],
   "source": [
    "patients_meta<-patients_DEV %>%  select(where(is.factor) | where(is.character))\n",
    "patients_normalized<- merge(patients_DEV[final_selected_variables], patients_meta, by = 0)\n",
    "rownames(patients_normalized)<-patients_normalized$Row.names\n",
    "patients_normalized<-patients_normalized[-1]\n",
    "patients_normalized_list<-list()"
   ]
  },
  {
   "cell_type": "code",
   "execution_count": 18,
   "id": "5d43e53b-6fb6-4ee0-beff-c361c01b682b",
   "metadata": {},
   "outputs": [
    {
     "name": "stdout",
     "output_type": "stream",
     "text": [
      "[1] 0.0002392453\n"
     ]
    }
   ],
   "source": [
    "\n",
    "\n",
    "#define epsilon\n",
    "#Convert to numeric matrix to handle all numeric columns\n",
    "all_values <- unlist(all_control_median_of_medians)\n",
    "\n",
    "# Keep only numeric and positive values\n",
    "all_values <- as.numeric(all_values)\n",
    "all_values <- all_values[all_values > 0]\n",
    "\n",
    "# Find the minimum\n",
    "epsilon <- min(all_values, na.rm = TRUE) * 0.05\n",
    "#epsilon <-1e-10\n",
    "print(epsilon)"
   ]
  },
  {
   "cell_type": "code",
   "execution_count": 19,
   "id": "9f010ca5-d452-4ea4-9b5f-dcd0437e8d9f",
   "metadata": {},
   "outputs": [],
   "source": [
    "#log2 FC normalization\n",
    "for (r in rownames(patients_normalized)){\n",
    "    df<-patients_normalized[r,]\n",
    "    pool_to_norm<-df[,\"Dev_control\"]\n",
    "    norm_row<-all_control_median_of_medians[pool_to_norm,final_selected_variables]#all_control_medians\n",
    "  # Add epsilon to both sample and control, then divide\n",
    "    num_vars <- colnames(df)[colnames(df) %in% numeric_var]\n",
    "    df[, num_vars] <- log2((df[, num_vars] + epsilon) / (norm_row + epsilon))#log2 for making similar up and downreguation differences\n",
    "    patients_normalized_list[[r]]<-df\n",
    "}\n",
    "patients_normalized_list<-do.call(rbind,patients_normalized_list)\n"
   ]
  },
  {
   "cell_type": "code",
   "execution_count": 20,
   "id": "e7a631c7-4e02-45a7-a609-314115dd8dc4",
   "metadata": {},
   "outputs": [],
   "source": [
    "patients_DEV_list_normalized_all<-patients_normalized_list"
   ]
  },
  {
   "cell_type": "code",
   "execution_count": null,
   "id": "51c99fdb-5d79-4372-9eb1-16e82c3e5dec",
   "metadata": {},
   "outputs": [],
   "source": [
    "sum(is.na(patients_DEV_list_normalized_all %>% dplyr::select(where(is.numeric))))\n"
   ]
  },
  {
   "cell_type": "code",
   "execution_count": 21,
   "id": "4543eb9b-3d7c-4b9d-b9b9-3a5e3be35027",
   "metadata": {},
   "outputs": [],
   "source": [
    "patients_DEV_list_normalized_all_dev_sample<-split(patients_DEV_list_normalized_all,\n",
    "                                                  f=patients_DEV_list_normalized_all$dev_sample)"
   ]
  },
  {
   "cell_type": "code",
   "execution_count": 22,
   "id": "70c06c21-2539-4a1b-b904-766b69d9d523",
   "metadata": {},
   "outputs": [],
   "source": [
    "patients_DEV_list_normalized_all_dev_sample_full_DIV<-list()\n",
    "# dimensions<-c()\n",
    "for (sample in names(patients_DEV_list_normalized_all_dev_sample)){\n",
    "    df<-patients_DEV_list_normalized_all_dev_sample[[sample]]\n",
    "#     dimensions<-c(dimensions,dim(df)[1])\n",
    "    dimension<-dim(df)[1]\n",
    "    if (dimension==4){\n",
    "        patients_DEV_list_normalized_all_dev_sample_full_DIV[[sample]]<-df\n",
    "    }#else{print(\"no full DIV range\")}\n",
    "}\n",
    "\n",
    "#lets keep samples that have all DIVS! "
   ]
  },
  {
   "cell_type": "code",
   "execution_count": 24,
   "id": "199cf00b-3adc-41ad-b9ca-519ecd0e9b20",
   "metadata": {},
   "outputs": [
    {
     "data": {
      "text/html": [
       "45"
      ],
      "text/latex": [
       "45"
      ],
      "text/markdown": [
       "45"
      ],
      "text/plain": [
       "[1] 45"
      ]
     },
     "metadata": {},
     "output_type": "display_data"
    }
   ],
   "source": [
    "#str(patients_DEV_list_normalized_all)\n",
    "length(levels(factor(patients_DEV_list_normalized_all$Phenotype)))"
   ]
  },
  {
   "cell_type": "code",
   "execution_count": 25,
   "id": "8be1ff74-a441-4f71-8eca-b57a951a7495",
   "metadata": {},
   "outputs": [
    {
     "data": {
      "text/html": [
       "442"
      ],
      "text/latex": [
       "442"
      ],
      "text/markdown": [
       "442"
      ],
      "text/plain": [
       "[1] 442"
      ]
     },
     "metadata": {},
     "output_type": "display_data"
    }
   ],
   "source": [
    "dev_sample_names<-names(patients_DEV_list_normalized_all_dev_sample_full_DIV)#patients_DEV_list_normalized_all_dev_sample_full_DIV\n",
    "length(dev_sample_names)\n",
    "#names(patients_DEV_list_normalized_all_dev_sample_full_DIV)"
   ]
  },
  {
   "cell_type": "code",
   "execution_count": 26,
   "id": "71f0117b-b814-458d-a503-d072b94242e2",
   "metadata": {},
   "outputs": [],
   "source": [
    "patients_DEV_list_normalized_all_dev_sample_full_DIV_just_numeric<-list()\n",
    "for (sample in names(patients_DEV_list_normalized_all_dev_sample_full_DIV)){\n",
    "    df<-patients_DEV_list_normalized_all_dev_sample_full_DIV[[sample]]\n",
    "    df_num<-df %>% dplyr::select(where(is.numeric)) %>% scale() %>% as.data.frame()\n",
    "    patients_DEV_list_normalized_all_dev_sample_full_DIV_just_numeric[[sample]]<-df_num\n",
    "}"
   ]
  },
  {
   "cell_type": "code",
   "execution_count": 28,
   "id": "df274245-3da6-4e53-9148-e0af2e2d6265",
   "metadata": {},
   "outputs": [],
   "source": [
    "meta_cols <- sapply(patients_DEV_list_normalized_all, function(col) is.character(col) || is.factor(col))\n",
    "patients_meta <- patients_DEV_list_normalized_all[, meta_cols]\n"
   ]
  },
  {
   "cell_type": "code",
   "execution_count": null,
   "id": "794a3fc4-bfff-43f9-a1a6-4fe6d325bc79",
   "metadata": {},
   "outputs": [],
   "source": [
    "colnames(patients_DEV)"
   ]
  },
  {
   "cell_type": "code",
   "execution_count": 29,
   "id": "a8d9ade9-ecae-4d68-93b1-46098d2b6e4a",
   "metadata": {},
   "outputs": [],
   "source": [
    "n_colors <- c(\"1\"=\"#CDCD00\",\"2\"=\"#00CDCD\",\"3\"=\"#FF1493\",\"4\"=\"#999999\",\"5\"=\"#009933\",\"6\"=\"#3399FF\")\n"
   ]
  },
  {
   "cell_type": "code",
   "execution_count": 45,
   "id": "5211f96f-8c91-4617-a999-0d24590caa94",
   "metadata": {},
   "outputs": [
    {
     "name": "stdout",
     "output_type": "stream",
     "text": [
      "Computing for k = 2 \n",
      "Computing for k = 3 \n",
      "Computing for k = 4 \n",
      "Computing for k = 5 \n"
     ]
    }
   ],
   "source": [
    "# Range of clusters to test\n",
    "k_values <- 2:5\n",
    "\n",
    "# Store metrics\n",
    "metrics_results <- data.frame(\n",
    "  k = integer(),\n",
    "  D = numeric(),\n",
    "  DB = numeric(),\n",
    "  CH = numeric()\n",
    ")\n",
    "\n",
    "for (k in k_values) {\n",
    "  cat(\"Computing for k =\", k, \"\\n\")\n",
    "  \n",
    "  hc <- tsclust(\n",
    "    series = patients_DEV_list_normalized_all_dev_sample_full_DIV_just_numeric,\n",
    "    type = \"h\",\n",
    "    k = k,\n",
    "    distance = \"dtw_basic\",\n",
    "    preproc = NULL,\n",
    "    control = hierarchical_control(method = \"ward.D2\")\n",
    "  )\n",
    "  \n",
    "  # Compute metrics\n",
    "  dunn_val <- tryCatch(cvi(hc, type = \"D\"), error = function(e) NA)\n",
    "  db_val   <- tryCatch(cvi(hc, type = \"DB\"), error = function(e) NA)\n",
    "  ch_val   <- tryCatch(cvi(hc, type = \"CH\"), error = function(e) NA)\n",
    "  \n",
    "  metrics_results <- rbind(metrics_results,\n",
    "                           data.frame(k = k, D = dunn_val, DB = db_val, CH = ch_val))\n",
    "}\n",
    "\n",
    "# Normalize each metric for plotting\n",
    "metrics_scaled <- metrics_results %>%\n",
    "  mutate(\n",
    "    D_scaled = (D - min(D, na.rm = TRUE)) / (max(D, na.rm = TRUE) - min(D, na.rm = TRUE)),\n",
    "    DB_scaled = 1 - (DB - min(DB, na.rm = TRUE)) / (max(DB, na.rm = TRUE) - min(DB, na.rm = TRUE)), # invert DB\n",
    "    CH_scaled = (CH - min(CH, na.rm = TRUE)) / (max(CH, na.rm = TRUE) - min(CH, na.rm = TRUE))\n",
    "  ) %>%\n",
    "  select(k, D_scaled, DB_scaled, CH_scaled) %>%\n",
    "  pivot_longer(-k, names_to = \"metric\", values_to = \"value\")\n",
    "\n",
    "# Plot\n",
    "p<-ggplot(metrics_scaled, aes(x = k, y = value, color = metric)) +\n",
    "  geom_line(size = 1.2) +\n",
    "  geom_point(size = 3) +\n",
    "  theme_minimal() +\n",
    "  labs(x = \"Number of clusters (k)\", y = \"Scaled metric (0-1)\",\n",
    "       title = \"Internal Clustering Metrics (scaled)\") +\n",
    "  scale_color_manual(values = c(\"D_scaled\" = \"blue\", \"DB_scaled\" = \"red\", \"CH_scaled\" = \"green\"),\n",
    "                     labels = c(\"Dunn\", \"Davies-Bouldin\", \"Calinski-Harabasz\"))\n",
    "ggsave(paste0('clustering_metrics.pdf'),bg = \"transparent\",\n",
    "                  width = 5,   # inches\n",
    "                  height = 5,\n",
    "                   plot=p# inches\n",
    "                )"
   ]
  },
  {
   "cell_type": "code",
   "execution_count": 30,
   "id": "97b4832e-4119-475d-b30e-b9305885c00f",
   "metadata": {},
   "outputs": [],
   "source": [
    " for (cl in 3){\n",
    "     distance<- \"dtw_basic\"\n",
    "     h_method<-\"ward.D2\"\n",
    "        culsters<-tsclust(series=patients_DEV_list_normalized_all_dev_sample_full_DIV_just_numeric, type = \"h\", k =cl,\n",
    "                  distance = distance,  preproc = NULL,control = hierarchical_control(method = h_method))\n",
    "\n",
    "\n",
    "        clust_results<-data.frame(\"dev_sample\"=names(patients_DEV_list_normalized_all_dev_sample_full_DIV_just_numeric),\n",
    "                                \"cluster\"=culsters@cluster)\n",
    "        clust_results$cell_line <- patients_DEV$cell_line[match(clust_results$dev_sample, patients_DEV$dev_sample)]\n",
    "        clust_results$Syndrome <- patients_DEV$Syndrome[match(clust_results$dev_sample, patients_DEV$dev_sample)]\n",
    "        clust_results$Syndrome<-factor(clust_results$Syndrome)\n",
    "       clust_results<-droplevels(clust_results)\n",
    "        rel_counts <- table(clust_results$cell_line,clust_results$cluster)\n",
    "            for (i in 1:nrow(rel_counts)){\n",
    "            rel_counts[i,] <- (prop.table(rel_counts[i,]))*100 }\n",
    "            dg <- as.data.frame(rel_counts)\n",
    "            colnames(dg) <- c(\"cell_line\", \"cluster\", \"percentage\")\n",
    "            dg$Syndrome<-clust_results$Syndrome[match(dg$cell_line, clust_results$cell_line)]\n",
    "            dg<-droplevels(dg)\n",
    "            p<-ggplot(dg, aes(x=cell_line, y=percentage, fill = cluster)) + geom_bar(stat = \"identity\") +\n",
    "\n",
    "                theme_minimal()+theme(axis.text.x = element_text(angle = 45, vjust = 1, \n",
    "               hjust = 1)) +scale_fill_manual(values=n_colors)+ facet_wrap(~Syndrome,scales = \"free\",ncol=5)+labs(y=NULL)\n",
    "            p\n",
    "            # tiff(paste0('MTS_dev_',distance,'_',h_method,'clus',cl,'.tiff'), res =200, units = \"in\", width =9, height = 5)\n",
    "             # print(p)\n",
    "             # dev.off()\n",
    "\n",
    "            ggsave(paste0('MTS_dev_',distance,'_',h_method,'clus',cl,'.pdf'),bg = \"transparent\",\n",
    "                  width = 9,   # inches\n",
    "                  height = 5,\n",
    "                   plot=p# inches\n",
    "                )\n",
    "            \n",
    "            patients_DEV_list_normalized_all_dev_sample_full_DIV_just_numeric_bind<-patients_DEV_list_normalized_all_dev_sample_full_DIV_just_numeric\n",
    "            names(patients_DEV_list_normalized_all_dev_sample_full_DIV_just_numeric_bind)<-NULL\n",
    "            patients_DEV_list_normalized_all_dev_sample_full_DIV_just_numeric_bind<-do.call(rbind,patients_DEV_list_normalized_all_dev_sample_full_DIV_just_numeric_bind)\n",
    "            \n",
    "            patients_DEV_list_normalized_all_dev_sample_full_DIV_just_numeric_bind<-merge(patients_DEV_list_normalized_all_dev_sample_full_DIV_just_numeric_bind,\n",
    "                                                                             patients_meta,by=0)\n",
    "            \n",
    "            patients_DEV_list_normalized_all_dev_sample_full_DIV_just_numeric_bind$DIV_int<-as.integer(gsub('DIV','',\n",
    "                                                                                patients_DEV_list_normalized_all_dev_sample_full_DIV_just_numeric_bind$DIV_range))\n",
    "            clust_results$dev_cluster<-paste0(\"cluster_\",clust_results$cluster)\n",
    "            patients_DEV_list_normalized_all_dev_sample_full_DIV_just_numeric_bind$dev_cluster<-clust_results$dev_cluster[match(patients_DEV_list_normalized_all_dev_sample_full_DIV_just_numeric_bind$dev_sample, clust_results$dev_sample)]\n",
    "            write.csv(patients_DEV_list_normalized_all_dev_sample_full_DIV_just_numeric_bind, paste0(\"MEA_features_dev_cluster\",cl,\"_\",distance,h_method,\".csv\"))       \n",
    "             \n",
    "            \n",
    "        }\n"
   ]
  }
 ],
 "metadata": {
  "kernelspec": {
   "display_name": "R 4.2.1 (native)",
   "language": "R",
   "name": "ir421_native"
  },
  "language_info": {
   "codemirror_mode": "r",
   "file_extension": ".r",
   "mimetype": "text/x-r-source",
   "name": "R",
   "pygments_lexer": "r",
   "version": "4.2.1"
  }
 },
 "nbformat": 4,
 "nbformat_minor": 5
}
