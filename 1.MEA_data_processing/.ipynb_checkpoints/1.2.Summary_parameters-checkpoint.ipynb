{
 "cells": [
  {
   "cell_type": "code",
   "execution_count": null,
   "id": "138c7c94-cd90-4d23-95ec-7f70a734c841",
   "metadata": {},
   "outputs": [],
   "source": [
    "setwd(\"/Output\")\n",
    "library(reshape2)\n",
    "library(stringr)\n",
    "library(tidyverse)\n",
    "library(dplyr)\n",
    "library(data.table)"
   ]
  },
  {
   "cell_type": "code",
   "execution_count": null,
   "id": "6d77a0b0-8d27-4079-a095-a348bd4935c8",
   "metadata": {},
   "outputs": [],
   "source": [
    "parent.folder<-\"T:/PIgroup Nael NadifKasri/Sofia/2025/MEA_seq_patient/Code/Data/MEA_data\""
   ]
  },
  {
   "cell_type": "code",
   "execution_count": null,
   "id": "4c382dac-c59e-4fc0-863e-65c138217ac3",
   "metadata": {},
   "outputs": [],
   "source": [
    "all_summary_files <- list.files(parent.folder, full.names = T, recursive = T, pattern = \"Well_Summary_Parameters_hfNB_s150.csv\")#list.files( full.names = F, recursive = T, pattern = \".*PT_all*\")\n",
    "\n",
    "#only if you need to subset for specific files, if you have run 1.Automatic_burst_detection_MCS_axion multiple times with different settings \n",
    "#toMatch <- c(\"2024_v4_results_hf_s150prop0.4_freqNB9_in_0.25\",\"2024_v4_results_nohf_s150prop0.4_freqNB9_in_0.25\")\n",
    "#matches <- unique (grep(paste(toMatch,collapse=\"|\"), \n",
    "#                        all_summary_files, value=TRUE))\n",
    "\n",
    "all_summary_files<-all_summary_files[all_summary_files %in% matches]\n",
    "all_summary_files <- lapply(all_summary_files,read.csv)\n",
    "all_summary_files<-do.call(rbind, all_summary_files)\n",
    "all_summary_files<-all_summary_files[-1]\n"
   ]
  },
  {
   "cell_type": "code",
   "execution_count": null,
   "id": "3cf778da-a05c-4f41-b853-47a7e9d49e2e",
   "metadata": {},
   "outputs": [],
   "source": [
    "cell_line_overview<-read.csv(\"T:/PIgroup Nael NadifKasri/Patient paper/2025/Data/Cell_line_overview.csv\") #drav cell lines are norm to WTC"
   ]
  },
  {
   "cell_type": "code",
   "execution_count": null,
   "id": "2bf25ced-86f3-4ef2-bef9-b09ca68d286a",
   "metadata": {},
   "outputs": [],
   "source": [
    "cell_line_overview<-read.csv(\"T:/PIgroup Nael NadifKasri/Sofia/2025/MEA_seq_patient/Code/Data/cell_lines/Cell_line_overview.csv\")"
   ]
  },
  {
   "cell_type": "code",
   "execution_count": null,
   "id": "0647934c-872e-4bec-9791-ea20812f910c",
   "metadata": {},
   "outputs": [],
   "source": [
    "full_results<-dplyr::left_join(all_summary_files, cell_line_overview, by=c(\"Phenotype\" = \"Cell_line_name\"))\n",
    "full_results<-dplyr::left_join(all_summary_files, cell_line_overview, by=c(\"Phenotype\" = \"Cell_line_name\"))\n",
    "exclude_cell_lines<-rownames(full_results[full_results$Phenotype==\"EXCLUDE\",]) #if you need to exclude cell lines\n",
    "\n",
    "full_results<-full_results[!rownames(full_results) %in% exclude_cell_lines,]\n",
    "exclude_cell_lines<-rownames(full_results[full_results$Phenotype==\"ChaserrKO\",]) #not included\n",
    "full_results<-full_results[!rownames(full_results) %in% exclude_cell_lines,]\n",
    "\n",
    "full_results<-full_results[!full_results$Remove==\"yes\",]\n",
    "full_results<-droplevels(full_results)\n",
    "levels(factor(full_results$Phenotype))\n",
    "length(levels(factor(full_results$Phenotype)))"
   ]
  },
  {
   "cell_type": "code",
   "execution_count": null,
   "id": "037da7d0-c111-4e44-9529-4e8810d4a9d9",
   "metadata": {},
   "outputs": [],
   "source": [
    "full_results <- full_results %>%\n",
    "  mutate(Phenotype = ifelse(Phenotype == \"EHMT_CR\", \"EHMT1_CR\", Phenotype)) #consistent naming\n"
   ]
  },
  {
   "cell_type": "code",
   "execution_count": null,
   "id": "54627ad2-02d6-42a8-88da-d93d21fdd3ad",
   "metadata": {},
   "outputs": [],
   "source": [
    "levels(factor(full_results$Phenotype))\n",
    "length(levels(factor(full_results$Phenotype)))"
   ]
  },
  {
   "cell_type": "code",
   "execution_count": null,
   "id": "ef34f710-cb06-434e-9020-35ddc801651d",
   "metadata": {},
   "outputs": [],
   "source": [
    "full_results$numb_electrodes<-ifelse(full_results$machine==\"mcs\",12,16)\n",
    "full_results$hf_Network_Burst_Percentage[is.na(full_results$hf_Network_Burst_Percentage)] <- 0\n",
    "full_results$hf_and_NB_Percentage<-full_results$hf_Network_Burst_Percentage+full_results$Network_Burst_Percentage\n",
    "full_results$hf_Network_Burst_Frequency[is.na(full_results$hf_Network_Burst_Frequency)] <- 0\n",
    "full_results$hf_and_NB_rate<-full_results$hf_Network_Burst_Frequency+full_results$Network_Burst_Frequency\n",
    "all_registered_variables<-colnames(full_results)\n",
    "hf_variables<-grep(\"*hf\", all_registered_variables, value = TRUE)#all_registered_variables[grepl(\"*hf\", all_registered_variables)]\n",
    "hf_variables<-hf_variables[-c(2,10,11)]#define which ones o keep. \n",
    "full_results<-full_results[,!colnames(full_results) %in% hf_variables]\n"
   ]
  },
  {
   "cell_type": "code",
   "execution_count": null,
   "id": "ae77a2ba-fe7e-4e15-afb7-c0e544370b00",
   "metadata": {},
   "outputs": [],
   "source": [
    "weird_or_same<-c(\"Random_Spikes_Percentage_Avg\",\"Spike_Frequency_per_Electrode\",\n",
    "         \"total_spikes_in_all_NBs_d_nNB\",\"numb_electrodes\",\"propr_active_electrodes\",\"Network_Burst_Frequency\")#removing redundant or un need output from 1.Automatic_burst_detection_MCS_axion\n",
    "\n",
    "full_results<-full_results[,!colnames(full_results) %in% weird_or_same]\n",
    "no_NB<-rownames(full_results[full_results$Number_of_Bursts<=1 |full_results$Number_of_Bursting_Electrodes<=1 |full_results$Number_of_Network_Bursts<=2|is.na(full_results$Number_of_Network_Bursts),])\n",
    "\n",
    "no_NB<-full_results[no_NB,]\n",
    "no_NB<-droplevels(no_NB)\n",
    "write.csv(no_NB,\"wells_with_no_bursting_NB_activity.csv\")\n",
    "dep_on_recording_time<-c(\"Number_of_spikes\",\"Number_of_Bursting_Electrodes\",\n",
    "                         \"Number_of_Bursts\",\"Number_of_Network_Bursts\")\n",
    "n_ID<-c(1:dim(full_results)[1])\n",
    "full_results$Unique_ID<-paste0(full_results$PT_all_path,\"_\",full_results$Well_Label,\"_\",n_ID)\n",
    "full_results$PT_all_path_Well_Label<-paste0(full_results$PT_all_path,\"_\",full_results$Well_Label)\n",
    "\n",
    "full_results_NB<-full_results[!rownames(full_results) %in% rownames(no_NB),!colnames(full_results) %in% dep_on_recording_time]\n",
    "full_results<-full_results[,!colnames(full_results) %in% dep_on_recording_time]"
   ]
  },
  {
   "cell_type": "code",
   "execution_count": null,
   "id": "c649c009-07a0-4a8a-8004-4007fe89d7b5",
   "metadata": {},
   "outputs": [],
   "source": [
    "colnames(full_results_NB)\n",
    "length(colnames(full_results_NB))"
   ]
  },
  {
   "cell_type": "code",
   "execution_count": null,
   "id": "061f04f6-f349-4d0f-99d5-035b6c429495",
   "metadata": {},
   "outputs": [],
   "source": [
    "short_names<-c('Well_Label','Phenotype','Firing_rate_Hz','EB_Dur','EB_Dur_Std','Spikes_per_EB',\n",
    "  'Spikes_per_EB_Std','EB_ISI','EB_ISI_Std','IEBI','IEBI_Std','IEBI_CV','IEBI_CV_Std',\n",
    "  'EB_rate_Hz','EB_rate_Std','EB_prop','EB_prop_Std',\n",
    "  'hfNB_rate','NB_prop',\n",
    "  'NB_dur','NB_dur_Std','Firing_Rate_in_NB_Hz', 'Firing_Rate_in_NB_Std','INBI','INBI_Std',\n",
    "  'batch','cell_line_batch','machine','PT_all_path','DIV_range','Syndrome','Gene','Identidy','Own_control',\n",
    "   'Remove','isogenic','Remarks',\n",
    "  'Pool_Kleefstra','Pool_WTC_CHD2','Pool_CACNA1A','Pool_SMARCB1','Pool_ARID1B_2_rescue','Pool_dravet',\n",
    "   'hfNB_and_NB_prop','hf_and_NB_rate','Unique_ID','PT_all_path_Well_Label')#re-naming\n",
    "length(short_names)"
   ]
  },
  {
   "cell_type": "code",
   "execution_count": null,
   "id": "9f97a71f-caad-460f-b80b-f2cbbb408743",
   "metadata": {},
   "outputs": [],
   "source": [
    "colnames(full_results_NB)<-short_names\n",
    "colnames(full_results)<-short_names"
   ]
  },
  {
   "cell_type": "code",
   "execution_count": null,
   "id": "ed0af566-4482-4c1a-be0f-512c8b896a64",
   "metadata": {},
   "outputs": [],
   "source": [
    "full_results<-droplevels(full_results)\n",
    "full_results_NB<-droplevels(full_results_NB)\n",
    "full_results_NB[apply(is.na(full_results_NB[, sapply(full_results_NB, is.numeric)]), 1, any), ]"
   ]
  },
  {
   "cell_type": "code",
   "execution_count": null,
   "id": "711d0493-1357-4dbe-9741-6e318a4ea327",
   "metadata": {},
   "outputs": [],
   "source": [
    "DIV49_sub<-levels(factor(full_results_NB[full_results_NB$DIV_range==\"DIV49\",\"Phenotype\"]))\n",
    "dev_sub<-full_results_NB %>%\n",
    "  filter(DIV_range %in% c(\"DIV28\", \"DIV35\", \"DIV42\", \"DIV49\")) %>%\n",
    "  group_by(Phenotype) %>%\n",
    "  filter(all(c(\"DIV28\", \"DIV35\", \"DIV42\", \"DIV49\") %in% DIV_range)) %>%\n",
    "  summarise() %>%\n",
    "  ungroup()\n",
    "dev_sub<-dev_sub$Phenotype #annotate if we have until DIV49 data"
   ]
  },
  {
   "cell_type": "code",
   "execution_count": null,
   "id": "15392eb6-d5c0-4076-9d13-0f9f9281daf9",
   "metadata": {},
   "outputs": [],
   "source": [
    "full_results_NB$DIV49_sub<-ifelse(full_results_NB$Phenotype %in% DIV49_sub, \"yes\",\"no\")\n",
    "full_results_NB$dev_sub<-ifelse(full_results_NB$Phenotype %in% dev_sub, \"yes\",\"no\")"
   ]
  },
  {
   "cell_type": "code",
   "execution_count": null,
   "id": "509e9a54-faf7-431b-9d83-88d116f9db1b",
   "metadata": {},
   "outputs": [],
   "source": [
    "full_results$DIV49_sub<-ifelse(full_results$Phenotype %in% DIV49_sub, \"yes\",\"no\")\n",
    "full_results$dev_sub<-ifelse(full_results$Phenotype %in% dev_sub, \"yes\",\"no\")"
   ]
  },
  {
   "cell_type": "code",
   "execution_count": null,
   "id": "c939e864-bad1-46d9-b616-a215e2995702",
   "metadata": {},
   "outputs": [],
   "source": [
    "setdiff(DIV49_sub,dev_sub)# find that aptient!\n",
    "#Interestigly!! CHD2_PAT002 only shows NB at div 49!, that is whyt it is not in the developmental data!!"
   ]
  },
  {
   "cell_type": "code",
   "execution_count": null,
   "id": "870ed942-c000-4f3b-b509-654bb2b5ccc8",
   "metadata": {},
   "outputs": [],
   "source": [
    "write.csv(full_results,\"Well_summary_parameters_all_hf_043_06_2025.csv\")\n",
    "write.csv(full_results_NB,\"Well_summary_parameters_NB_hf_043_06_2025.csv\")"
   ]
  },
  {
   "cell_type": "code",
   "execution_count": null,
   "id": "8d4af8e2-e7fb-4177-8eb2-e7efef5d8fcb",
   "metadata": {},
   "outputs": [],
   "source": [
    "getwd()"
   ]
  }
 ],
 "metadata": {
  "kernelspec": {
   "display_name": "R 4.2.1 (native)",
   "language": "R",
   "name": "ir421_native"
  },
  "language_info": {
   "codemirror_mode": "r",
   "file_extension": ".r",
   "mimetype": "text/x-r-source",
   "name": "R",
   "pygments_lexer": "r",
   "version": "4.2.1"
  }
 },
 "nbformat": 4,
 "nbformat_minor": 5
}
