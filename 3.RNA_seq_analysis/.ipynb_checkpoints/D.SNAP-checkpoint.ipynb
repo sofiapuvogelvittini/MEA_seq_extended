{
 "cells": [
  {
   "cell_type": "code",
   "execution_count": 1,
   "id": "58ad7227-28b6-47a4-aad8-8b6ed083e479",
   "metadata": {},
   "outputs": [],
   "source": [
    "setwd(\"T:/PIgroup Nael NadifKasri/RNAseq/Analysis_2024/MEAseq_all/Output/Astrocytes/PRPS_integration/PRPS_2000/interactions/SNAP\")"
   ]
  },
  {
   "cell_type": "code",
   "execution_count": 2,
   "id": "68fa09e6-1357-4b45-8b7a-a8f85274c407",
   "metadata": {},
   "outputs": [
    {
     "name": "stderr",
     "output_type": "stream",
     "text": [
      "Warning message:\n",
      "\"package 'ggrepel' was built under R version 4.2.3\"\n",
      "Warning message:\n",
      "\"package 'tidyverse' was built under R version 4.2.3\"\n",
      "Warning message:\n",
      "\"package 'tibble' was built under R version 4.2.3\"\n",
      "Warning message:\n",
      "\"package 'tidyr' was built under R version 4.2.3\"\n",
      "Warning message:\n",
      "\"package 'readr' was built under R version 4.2.3\"\n",
      "Warning message:\n",
      "\"package 'purrr' was built under R version 4.2.3\"\n",
      "Warning message:\n",
      "\"package 'dplyr' was built under R version 4.2.3\"\n",
      "Warning message:\n",
      "\"package 'stringr' was built under R version 4.2.3\"\n",
      "Warning message:\n",
      "\"package 'forcats' was built under R version 4.2.3\"\n",
      "Warning message:\n",
      "\"package 'lubridate' was built under R version 4.2.3\"\n",
      "── \u001b[1mAttaching core tidyverse packages\u001b[22m ──────────────────────────────────────────────────────────────── tidyverse 2.0.0 ──\n",
      "\u001b[32m✔\u001b[39m \u001b[34mdplyr    \u001b[39m 1.1.2     \u001b[32m✔\u001b[39m \u001b[34mreadr    \u001b[39m 2.1.5\n",
      "\u001b[32m✔\u001b[39m \u001b[34mforcats  \u001b[39m 1.0.0     \u001b[32m✔\u001b[39m \u001b[34mstringr  \u001b[39m 1.5.1\n",
      "\u001b[32m✔\u001b[39m \u001b[34mlubridate\u001b[39m 1.9.3     \u001b[32m✔\u001b[39m \u001b[34mtibble   \u001b[39m 3.2.1\n",
      "\u001b[32m✔\u001b[39m \u001b[34mpurrr    \u001b[39m 1.0.2     \u001b[32m✔\u001b[39m \u001b[34mtidyr    \u001b[39m 1.3.1\n",
      "── \u001b[1mConflicts\u001b[22m ────────────────────────────────────────────────────────────────────────────────── tidyverse_conflicts() ──\n",
      "\u001b[31m✖\u001b[39m \u001b[34mdplyr\u001b[39m::\u001b[32mfilter()\u001b[39m masks \u001b[34mstats\u001b[39m::filter()\n",
      "\u001b[31m✖\u001b[39m \u001b[34mdplyr\u001b[39m::\u001b[32mlag()\u001b[39m    masks \u001b[34mstats\u001b[39m::lag()\n",
      "\u001b[36mℹ\u001b[39m Use the conflicted package (\u001b[3m\u001b[34m<http://conflicted.r-lib.org/>\u001b[39m\u001b[23m) to force all conflicts to become errors\n",
      "\n",
      "Attaching package: 'gridExtra'\n",
      "\n",
      "\n",
      "The following object is masked from 'package:dplyr':\n",
      "\n",
      "    combine\n",
      "\n",
      "\n",
      "\n",
      "Attaching package: 'reshape2'\n",
      "\n",
      "\n",
      "The following object is masked from 'package:tidyr':\n",
      "\n",
      "    smiths\n",
      "\n",
      "\n",
      "Warning message:\n",
      "\"package 'matrixStats' was built under R version 4.2.3\"\n",
      "\n",
      "Attaching package: 'matrixStats'\n",
      "\n",
      "\n",
      "The following object is masked from 'package:dplyr':\n",
      "\n",
      "    count\n",
      "\n",
      "\n"
     ]
    }
   ],
   "source": [
    "library(ggplot2)\n",
    "library(ggrepel)\n",
    "library(tidyverse)\n",
    "library(gridExtra)\n",
    "library(ggpubr)\n",
    "library(reshape2)\n",
    "library(purrr)\n",
    "library(RColorBrewer)\n",
    "library(matrixStats)\n",
    "library(dplyr)"
   ]
  },
  {
   "cell_type": "code",
   "execution_count": 31,
   "id": "48cd7658-d5fa-43cb-ba5f-512022430e39",
   "metadata": {},
   "outputs": [],
   "source": [
    "SNAP_a<-read.csv(\"SNAP-a.csv\")\n",
    "SNAP_a<-SNAP_a %>% arrange(desc(SNAP.a))  %>%  # sort descending\n",
    "  slice_head(n = 4000)        # select top 10 rows"
   ]
  },
  {
   "cell_type": "code",
   "execution_count": 32,
   "id": "36bb29d5-705d-4761-b222-6d50503358e4",
   "metadata": {},
   "outputs": [],
   "source": [
    "SNAP_n<-read.csv(\"SNAP-n.csv\")\n",
    "SNAP_n<-SNAP_n %>% arrange(desc(SNAP.n))  %>%  # sort descending\n",
    "  slice_head(n = 4000)        # select top 10 rows\n",
    "#SNAP_n"
   ]
  },
  {
   "cell_type": "code",
   "execution_count": 5,
   "id": "dbea9ebb-f699-473a-ad49-648e38009972",
   "metadata": {},
   "outputs": [
    {
     "data": {
      "text/html": [
       "900"
      ],
      "text/latex": [
       "900"
      ],
      "text/markdown": [
       "900"
      ],
      "text/plain": [
       "[1] 900"
      ]
     },
     "metadata": {},
     "output_type": "display_data"
    }
   ],
   "source": [
    "length(intersect(SNAP_a$Gene,SNAP_n$Gene))"
   ]
  },
  {
   "cell_type": "code",
   "execution_count": 37,
   "id": "6df16f30-9b3f-4f2f-943c-d6df0cda9877",
   "metadata": {},
   "outputs": [],
   "source": [
    "corr_network<-read.csv(\"T:/PIgroup Nael NadifKasri/RNAseq/Analysis_2024/MEAseq_all/Output/Astrocytes/PRPS_integration/PRPS_2000/interactions/CCA/cor_network_2000hv_b1000_100genes.csv\")\n",
    "cor_network_filtered <- corr_network %>% filter(abs(r) > 0.7)  # adjust threshold"
   ]
  },
  {
   "cell_type": "code",
   "execution_count": 22,
   "id": "123ac9c8-dd05-4dae-973c-9d887c29f8ad",
   "metadata": {},
   "outputs": [
    {
     "data": {
      "text/html": [
       "14"
      ],
      "text/latex": [
       "14"
      ],
      "text/markdown": [
       "14"
      ],
      "text/plain": [
       "[1] 14"
      ]
     },
     "metadata": {},
     "output_type": "display_data"
    }
   ],
   "source": [
    "length(intersect(SNAP_a$Gene,unique(corr_network$astro_gene_h)))"
   ]
  },
  {
   "cell_type": "code",
   "execution_count": 23,
   "id": "b22017c6-31da-492b-980e-a33905a8de00",
   "metadata": {},
   "outputs": [
    {
     "data": {
      "text/html": [
       "<style>\n",
       ".list-inline {list-style: none; margin:0; padding: 0}\n",
       ".list-inline>li {display: inline-block}\n",
       ".list-inline>li:not(:last-child)::after {content: \"\\00b7\"; padding: 0 .5ex}\n",
       "</style>\n",
       "<ol class=list-inline><li>'ABTB2'</li><li>'ERBB3'</li><li>'GRM3'</li><li>'HES5'</li><li>'KCNJ16'</li><li>'LRRC3B'</li><li>'LUZP2'</li><li>'PGBD5'</li><li>'PLPPR1'</li><li>'PNPLA3'</li><li>'SEL1L3'</li><li>'SP140'</li><li>'STOX1'</li><li>'TNR'</li></ol>\n"
      ],
      "text/latex": [
       "\\begin{enumerate*}\n",
       "\\item 'ABTB2'\n",
       "\\item 'ERBB3'\n",
       "\\item 'GRM3'\n",
       "\\item 'HES5'\n",
       "\\item 'KCNJ16'\n",
       "\\item 'LRRC3B'\n",
       "\\item 'LUZP2'\n",
       "\\item 'PGBD5'\n",
       "\\item 'PLPPR1'\n",
       "\\item 'PNPLA3'\n",
       "\\item 'SEL1L3'\n",
       "\\item 'SP140'\n",
       "\\item 'STOX1'\n",
       "\\item 'TNR'\n",
       "\\end{enumerate*}\n"
      ],
      "text/markdown": [
       "1. 'ABTB2'\n",
       "2. 'ERBB3'\n",
       "3. 'GRM3'\n",
       "4. 'HES5'\n",
       "5. 'KCNJ16'\n",
       "6. 'LRRC3B'\n",
       "7. 'LUZP2'\n",
       "8. 'PGBD5'\n",
       "9. 'PLPPR1'\n",
       "10. 'PNPLA3'\n",
       "11. 'SEL1L3'\n",
       "12. 'SP140'\n",
       "13. 'STOX1'\n",
       "14. 'TNR'\n",
       "\n",
       "\n"
      ],
      "text/plain": [
       " [1] \"ABTB2\"  \"ERBB3\"  \"GRM3\"   \"HES5\"   \"KCNJ16\" \"LRRC3B\" \"LUZP2\"  \"PGBD5\" \n",
       " [9] \"PLPPR1\" \"PNPLA3\" \"SEL1L3\" \"SP140\"  \"STOX1\"  \"TNR\"   "
      ]
     },
     "metadata": {},
     "output_type": "display_data"
    }
   ],
   "source": [
    "intersect(corr_network$astro_gene_h,SNAP_a$Gene)"
   ]
  },
  {
   "cell_type": "code",
   "execution_count": 33,
   "id": "2159bcae-2086-409b-b3c9-e51be0ac388c",
   "metadata": {},
   "outputs": [
    {
     "data": {
      "text/html": [
       "15"
      ],
      "text/latex": [
       "15"
      ],
      "text/markdown": [
       "15"
      ],
      "text/plain": [
       "[1] 15"
      ]
     },
     "metadata": {},
     "output_type": "display_data"
    },
    {
     "data": {
      "text/html": [
       "<style>\n",
       ".list-inline {list-style: none; margin:0; padding: 0}\n",
       ".list-inline>li {display: inline-block}\n",
       ".list-inline>li:not(:last-child)::after {content: \"\\00b7\"; padding: 0 .5ex}\n",
       "</style>\n",
       "<ol class=list-inline><li>'RPH3A'</li><li>'STUM'</li><li>'NPFFR2'</li><li>'TCEAL5'</li><li>'RBFOX1'</li><li>'RPS4Y1'</li><li>'COL22A1'</li><li>'CCKBR'</li><li>'TRPA1'</li><li>'GCNT4'</li><li>'SLC15A4'</li><li>'LINC02253'</li><li>'MEG8'</li><li>'SHISA6'</li><li>'SLITRK4'</li></ol>\n"
      ],
      "text/latex": [
       "\\begin{enumerate*}\n",
       "\\item 'RPH3A'\n",
       "\\item 'STUM'\n",
       "\\item 'NPFFR2'\n",
       "\\item 'TCEAL5'\n",
       "\\item 'RBFOX1'\n",
       "\\item 'RPS4Y1'\n",
       "\\item 'COL22A1'\n",
       "\\item 'CCKBR'\n",
       "\\item 'TRPA1'\n",
       "\\item 'GCNT4'\n",
       "\\item 'SLC15A4'\n",
       "\\item 'LINC02253'\n",
       "\\item 'MEG8'\n",
       "\\item 'SHISA6'\n",
       "\\item 'SLITRK4'\n",
       "\\end{enumerate*}\n"
      ],
      "text/markdown": [
       "1. 'RPH3A'\n",
       "2. 'STUM'\n",
       "3. 'NPFFR2'\n",
       "4. 'TCEAL5'\n",
       "5. 'RBFOX1'\n",
       "6. 'RPS4Y1'\n",
       "7. 'COL22A1'\n",
       "8. 'CCKBR'\n",
       "9. 'TRPA1'\n",
       "10. 'GCNT4'\n",
       "11. 'SLC15A4'\n",
       "12. 'LINC02253'\n",
       "13. 'MEG8'\n",
       "14. 'SHISA6'\n",
       "15. 'SLITRK4'\n",
       "\n",
       "\n"
      ],
      "text/plain": [
       " [1] \"RPH3A\"     \"STUM\"      \"NPFFR2\"    \"TCEAL5\"    \"RBFOX1\"    \"RPS4Y1\"   \n",
       " [7] \"COL22A1\"   \"CCKBR\"     \"TRPA1\"     \"GCNT4\"     \"SLC15A4\"   \"LINC02253\"\n",
       "[13] \"MEG8\"      \"SHISA6\"    \"SLITRK4\"  "
      ]
     },
     "metadata": {},
     "output_type": "display_data"
    }
   ],
   "source": [
    "length(intersect(SNAP_n$Gene,unique(corr_network$neuron_gene)))\n",
    "intersect(SNAP_n$Gene,unique(corr_network$neuron_gene))"
   ]
  },
  {
   "cell_type": "code",
   "execution_count": null,
   "id": "c7bf2d97-f704-470d-babd-c95c79296b2b",
   "metadata": {},
   "outputs": [],
   "source": [
    "#how define which genes highlight"
   ]
  },
  {
   "cell_type": "code",
   "execution_count": 39,
   "id": "7fc7c65a-0d0f-42c3-96a0-a5223930d620",
   "metadata": {},
   "outputs": [
    {
     "data": {
      "text/html": [
       "<table class=\"dataframe\">\n",
       "<caption>A data.frame: 1511 × 6</caption>\n",
       "<thead>\n",
       "\t<tr><th></th><th scope=col>X</th><th scope=col>neuron_gene</th><th scope=col>astro_gene</th><th scope=col>r</th><th scope=col>component</th><th scope=col>astro_gene_h</th></tr>\n",
       "\t<tr><th></th><th scope=col>&lt;int&gt;</th><th scope=col>&lt;chr&gt;</th><th scope=col>&lt;chr&gt;</th><th scope=col>&lt;dbl&gt;</th><th scope=col>&lt;chr&gt;</th><th scope=col>&lt;chr&gt;</th></tr>\n",
       "</thead>\n",
       "<tbody>\n",
       "\t<tr><th scope=row>3</th><td>  3</td><td>BCL11B    </td><td>AABR07025140.1</td><td>-0.50321258</td><td>Comp1</td><td>AABR07025140.1</td></tr>\n",
       "\t<tr><th scope=row>11</th><td> 11</td><td>CENPI     </td><td>AABR07025140.1</td><td>-0.44586466</td><td>Comp1</td><td>AABR07025140.1</td></tr>\n",
       "\t<tr><th scope=row>12</th><td> 12</td><td>CLRN1-AS1 </td><td>AABR07025140.1</td><td> 0.57682843</td><td>Comp1</td><td>AABR07025140.1</td></tr>\n",
       "\t<tr><th scope=row>13</th><td> 13</td><td>CMPK2     </td><td>AABR07025140.1</td><td>-0.44231032</td><td>Comp1</td><td>AABR07025140.1</td></tr>\n",
       "\t<tr><th scope=row>14</th><td> 14</td><td>COL22A1   </td><td>AABR07025140.1</td><td>-0.42317157</td><td>Comp1</td><td>AABR07025140.1</td></tr>\n",
       "\t<tr><th scope=row>22</th><td> 22</td><td>FAM135B   </td><td>AABR07025140.1</td><td>-0.12822967</td><td>Comp1</td><td>AABR07025140.1</td></tr>\n",
       "\t<tr><th scope=row>32</th><td> 32</td><td>HSD11B2   </td><td>AABR07025140.1</td><td>-0.43110048</td><td>Comp1</td><td>AABR07025140.1</td></tr>\n",
       "\t<tr><th scope=row>50</th><td> 50</td><td>LINC02418 </td><td>AABR07025140.1</td><td> 0.02624744</td><td>Comp1</td><td>AABR07025140.1</td></tr>\n",
       "\t<tr><th scope=row>54</th><td> 54</td><td>MEG8      </td><td>AABR07025140.1</td><td> 0.52904990</td><td>Comp1</td><td>AABR07025140.1</td></tr>\n",
       "\t<tr><th scope=row>59</th><td> 59</td><td>MTND2P5   </td><td>AABR07025140.1</td><td> 0.43328776</td><td>Comp1</td><td>AABR07025140.1</td></tr>\n",
       "\t<tr><th scope=row>61</th><td> 61</td><td>MX2       </td><td>AABR07025140.1</td><td>-0.49029392</td><td>Comp1</td><td>AABR07025140.1</td></tr>\n",
       "\t<tr><th scope=row>62</th><td> 62</td><td>NPFFR2    </td><td>AABR07025140.1</td><td> 0.39767601</td><td>Comp1</td><td>AABR07025140.1</td></tr>\n",
       "\t<tr><th scope=row>67</th><td> 67</td><td>PPIEL     </td><td>AABR07025140.1</td><td>-0.51114149</td><td>Comp1</td><td>AABR07025140.1</td></tr>\n",
       "\t<tr><th scope=row>71</th><td> 71</td><td>PTPRN2    </td><td>AABR07025140.1</td><td> 0.45837321</td><td>Comp1</td><td>AABR07025140.1</td></tr>\n",
       "\t<tr><th scope=row>73</th><td> 73</td><td>RBFOX1    </td><td>AABR07025140.1</td><td>-0.46322625</td><td>Comp1</td><td>AABR07025140.1</td></tr>\n",
       "\t<tr><th scope=row>75</th><td> 75</td><td>RHOXF1    </td><td>AABR07025140.1</td><td>-0.47505126</td><td>Comp1</td><td>AABR07025140.1</td></tr>\n",
       "\t<tr><th scope=row>76</th><td> 76</td><td>RHOXF1-AS1</td><td>AABR07025140.1</td><td> 0.48345865</td><td>Comp1</td><td>AABR07025140.1</td></tr>\n",
       "\t<tr><th scope=row>84</th><td> 84</td><td>SHISA6    </td><td>AABR07025140.1</td><td>-0.48879016</td><td>Comp1</td><td>AABR07025140.1</td></tr>\n",
       "\t<tr><th scope=row>85</th><td> 85</td><td>SHOX2     </td><td>AABR07025140.1</td><td>-0.44101162</td><td>Comp1</td><td>AABR07025140.1</td></tr>\n",
       "\t<tr><th scope=row>99</th><td> 99</td><td>TRIM31    </td><td>AABR07025140.1</td><td> 0.55434040</td><td>Comp1</td><td>AABR07025140.1</td></tr>\n",
       "\t<tr><th scope=row>120</th><td>120</td><td>CLRN1-AS1 </td><td>AABR07031533.3</td><td> 0.44340396</td><td>Comp1</td><td>AABR07031533.3</td></tr>\n",
       "\t<tr><th scope=row>131</th><td>131</td><td>FAM224A   </td><td>AABR07031533.3</td><td> 0.39856459</td><td>Comp1</td><td>AABR07031533.3</td></tr>\n",
       "\t<tr><th scope=row>145</th><td>145</td><td>KCNK18    </td><td>AABR07031533.3</td><td>-0.43902939</td><td>Comp1</td><td>AABR07031533.3</td></tr>\n",
       "\t<tr><th scope=row>153</th><td>153</td><td>LINC00842 </td><td>AABR07031533.3</td><td>-0.50929597</td><td>Comp1</td><td>AABR07031533.3</td></tr>\n",
       "\t<tr><th scope=row>164</th><td>164</td><td>MICOS10P3 </td><td>AABR07031533.3</td><td> 0.41052632</td><td>Comp1</td><td>AABR07031533.3</td></tr>\n",
       "\t<tr><th scope=row>168</th><td>168</td><td>MTND4P24  </td><td>AABR07031533.3</td><td> 0.36951470</td><td>Comp1</td><td>AABR07031533.3</td></tr>\n",
       "\t<tr><th scope=row>171</th><td>171</td><td>OMG       </td><td>AABR07031533.3</td><td> 0.39152427</td><td>Comp1</td><td>AABR07031533.3</td></tr>\n",
       "\t<tr><th scope=row>178</th><td>178</td><td>PTGER2    </td><td>AABR07031533.3</td><td>-0.36418319</td><td>Comp1</td><td>AABR07031533.3</td></tr>\n",
       "\t<tr><th scope=row>180</th><td>180</td><td>RAB19     </td><td>AABR07031533.3</td><td>-0.42734108</td><td>Comp1</td><td>AABR07031533.3</td></tr>\n",
       "\t<tr><th scope=row>188</th><td>188</td><td>SAMSN1-AS1</td><td>AABR07031533.3</td><td> 0.58892686</td><td>Comp1</td><td>AABR07031533.3</td></tr>\n",
       "\t<tr><th scope=row>⋮</th><td>⋮</td><td>⋮</td><td>⋮</td><td>⋮</td><td>⋮</td><td>⋮</td></tr>\n",
       "\t<tr><th scope=row>9564</th><td>9564</td><td>MTND4P24 </td><td>Tspan8</td><td>-0.40997949</td><td>Comp1</td><td>TSPAN8</td></tr>\n",
       "\t<tr><th scope=row>9572</th><td>9572</td><td>PRIMA1   </td><td>Tspan8</td><td> 0.46705400</td><td>Comp1</td><td>TSPAN8</td></tr>\n",
       "\t<tr><th scope=row>9588</th><td>9588</td><td>SHISA6   </td><td>Tspan8</td><td> 0.46185919</td><td>Comp1</td><td>TSPAN8</td></tr>\n",
       "\t<tr><th scope=row>9594</th><td>9594</td><td>SLCO4C1  </td><td>Tspan8</td><td> 0.44155844</td><td>Comp1</td><td>TSPAN8</td></tr>\n",
       "\t<tr><th scope=row>9598</th><td>9598</td><td>STUM     </td><td>Tspan8</td><td> 0.41134655</td><td>Comp1</td><td>TSPAN8</td></tr>\n",
       "\t<tr><th scope=row>9600</th><td>9600</td><td>TAFA4    </td><td>Tspan8</td><td> 0.45714286</td><td>Comp1</td><td>TSPAN8</td></tr>\n",
       "\t<tr><th scope=row>9605</th><td>9605</td><td>UGT2A3   </td><td>Tspan8</td><td>-0.39753930</td><td>Comp1</td><td>TSPAN8</td></tr>\n",
       "\t<tr><th scope=row>9607</th><td>9607</td><td>VSIG1    </td><td>Tspan8</td><td> 0.45529733</td><td>Comp1</td><td>TSPAN8</td></tr>\n",
       "\t<tr><th scope=row>9608</th><td>9608</td><td>WNT5A    </td><td>Tspan8</td><td> 0.33957621</td><td>Comp1</td><td>TSPAN8</td></tr>\n",
       "\t<tr><th scope=row>9614</th><td>9614</td><td>ASB2     </td><td>Xdh   </td><td>-0.42870813</td><td>Comp1</td><td>XDH   </td></tr>\n",
       "\t<tr><th scope=row>9621</th><td>9621</td><td>CDK15    </td><td>Xdh   </td><td>-0.44661654</td><td>Comp1</td><td>XDH   </td></tr>\n",
       "\t<tr><th scope=row>9629</th><td>9629</td><td>DES      </td><td>Xdh   </td><td>-0.48332194</td><td>Comp1</td><td>XDH   </td></tr>\n",
       "\t<tr><th scope=row>9630</th><td>9630</td><td>DGCR6    </td><td>Xdh   </td><td> 0.51223513</td><td>Comp1</td><td>XDH   </td></tr>\n",
       "\t<tr><th scope=row>9631</th><td>9631</td><td>DOC2GP   </td><td>Xdh   </td><td> 0.53896104</td><td>Comp1</td><td>XDH   </td></tr>\n",
       "\t<tr><th scope=row>9632</th><td>9632</td><td>ESPL1    </td><td>Xdh   </td><td>-0.06165414</td><td>Comp1</td><td>XDH   </td></tr>\n",
       "\t<tr><th scope=row>9640</th><td>9640</td><td>GPC3     </td><td>Xdh   </td><td>-0.53089542</td><td>Comp1</td><td>XDH   </td></tr>\n",
       "\t<tr><th scope=row>9650</th><td>9650</td><td>KCNK9    </td><td>Xdh   </td><td>-0.36664388</td><td>Comp1</td><td>XDH   </td></tr>\n",
       "\t<tr><th scope=row>9668</th><td>9668</td><td>MICOS10P3</td><td>Xdh   </td><td> 0.52761449</td><td>Comp1</td><td>XDH   </td></tr>\n",
       "\t<tr><th scope=row>9672</th><td>9672</td><td>MTND4P24 </td><td>Xdh   </td><td> 0.49350649</td><td>Comp1</td><td>XDH   </td></tr>\n",
       "\t<tr><th scope=row>9677</th><td>9677</td><td>PHYHD1   </td><td>Xdh   </td><td> 0.49152427</td><td>Comp1</td><td>XDH   </td></tr>\n",
       "\t<tr><th scope=row>9679</th><td>9679</td><td>PPIEL    </td><td>Xdh   </td><td>-0.62474368</td><td>Comp1</td><td>XDH   </td></tr>\n",
       "\t<tr><th scope=row>9680</th><td>9680</td><td>PRIMA1   </td><td>Xdh   </td><td>-0.62057416</td><td>Comp1</td><td>XDH   </td></tr>\n",
       "\t<tr><th scope=row>9685</th><td>9685</td><td>RBFOX1   </td><td>Xdh   </td><td>-0.48092960</td><td>Comp1</td><td>XDH   </td></tr>\n",
       "\t<tr><th scope=row>9689</th><td>9689</td><td>RPH3A    </td><td>Xdh   </td><td>-0.52166781</td><td>Comp1</td><td>XDH   </td></tr>\n",
       "\t<tr><th scope=row>9691</th><td>9691</td><td>S100A11  </td><td>Xdh   </td><td>-0.53089542</td><td>Comp1</td><td>XDH   </td></tr>\n",
       "\t<tr><th scope=row>9693</th><td>9693</td><td>SCN10A   </td><td>Xdh   </td><td>-0.51196172</td><td>Comp1</td><td>XDH   </td></tr>\n",
       "\t<tr><th scope=row>9694</th><td>9694</td><td>SENP3    </td><td>Xdh   </td><td> 0.49104580</td><td>Comp1</td><td>XDH   </td></tr>\n",
       "\t<tr><th scope=row>9702</th><td>9702</td><td>SLCO4C1  </td><td>Xdh   </td><td>-0.52358168</td><td>Comp1</td><td>XDH   </td></tr>\n",
       "\t<tr><th scope=row>9703</th><td>9703</td><td>SLITRK4  </td><td>Xdh   </td><td>-0.51818182</td><td>Comp1</td><td>XDH   </td></tr>\n",
       "\t<tr><th scope=row>9717</th><td>9717</td><td>WNT7B    </td><td>Xdh   </td><td>-0.53233083</td><td>Comp1</td><td>XDH   </td></tr>\n",
       "</tbody>\n",
       "</table>\n"
      ],
      "text/latex": [
       "A data.frame: 1511 × 6\n",
       "\\begin{tabular}{r|llllll}\n",
       "  & X & neuron\\_gene & astro\\_gene & r & component & astro\\_gene\\_h\\\\\n",
       "  & <int> & <chr> & <chr> & <dbl> & <chr> & <chr>\\\\\n",
       "\\hline\n",
       "\t3 &   3 & BCL11B     & AABR07025140.1 & -0.50321258 & Comp1 & AABR07025140.1\\\\\n",
       "\t11 &  11 & CENPI      & AABR07025140.1 & -0.44586466 & Comp1 & AABR07025140.1\\\\\n",
       "\t12 &  12 & CLRN1-AS1  & AABR07025140.1 &  0.57682843 & Comp1 & AABR07025140.1\\\\\n",
       "\t13 &  13 & CMPK2      & AABR07025140.1 & -0.44231032 & Comp1 & AABR07025140.1\\\\\n",
       "\t14 &  14 & COL22A1    & AABR07025140.1 & -0.42317157 & Comp1 & AABR07025140.1\\\\\n",
       "\t22 &  22 & FAM135B    & AABR07025140.1 & -0.12822967 & Comp1 & AABR07025140.1\\\\\n",
       "\t32 &  32 & HSD11B2    & AABR07025140.1 & -0.43110048 & Comp1 & AABR07025140.1\\\\\n",
       "\t50 &  50 & LINC02418  & AABR07025140.1 &  0.02624744 & Comp1 & AABR07025140.1\\\\\n",
       "\t54 &  54 & MEG8       & AABR07025140.1 &  0.52904990 & Comp1 & AABR07025140.1\\\\\n",
       "\t59 &  59 & MTND2P5    & AABR07025140.1 &  0.43328776 & Comp1 & AABR07025140.1\\\\\n",
       "\t61 &  61 & MX2        & AABR07025140.1 & -0.49029392 & Comp1 & AABR07025140.1\\\\\n",
       "\t62 &  62 & NPFFR2     & AABR07025140.1 &  0.39767601 & Comp1 & AABR07025140.1\\\\\n",
       "\t67 &  67 & PPIEL      & AABR07025140.1 & -0.51114149 & Comp1 & AABR07025140.1\\\\\n",
       "\t71 &  71 & PTPRN2     & AABR07025140.1 &  0.45837321 & Comp1 & AABR07025140.1\\\\\n",
       "\t73 &  73 & RBFOX1     & AABR07025140.1 & -0.46322625 & Comp1 & AABR07025140.1\\\\\n",
       "\t75 &  75 & RHOXF1     & AABR07025140.1 & -0.47505126 & Comp1 & AABR07025140.1\\\\\n",
       "\t76 &  76 & RHOXF1-AS1 & AABR07025140.1 &  0.48345865 & Comp1 & AABR07025140.1\\\\\n",
       "\t84 &  84 & SHISA6     & AABR07025140.1 & -0.48879016 & Comp1 & AABR07025140.1\\\\\n",
       "\t85 &  85 & SHOX2      & AABR07025140.1 & -0.44101162 & Comp1 & AABR07025140.1\\\\\n",
       "\t99 &  99 & TRIM31     & AABR07025140.1 &  0.55434040 & Comp1 & AABR07025140.1\\\\\n",
       "\t120 & 120 & CLRN1-AS1  & AABR07031533.3 &  0.44340396 & Comp1 & AABR07031533.3\\\\\n",
       "\t131 & 131 & FAM224A    & AABR07031533.3 &  0.39856459 & Comp1 & AABR07031533.3\\\\\n",
       "\t145 & 145 & KCNK18     & AABR07031533.3 & -0.43902939 & Comp1 & AABR07031533.3\\\\\n",
       "\t153 & 153 & LINC00842  & AABR07031533.3 & -0.50929597 & Comp1 & AABR07031533.3\\\\\n",
       "\t164 & 164 & MICOS10P3  & AABR07031533.3 &  0.41052632 & Comp1 & AABR07031533.3\\\\\n",
       "\t168 & 168 & MTND4P24   & AABR07031533.3 &  0.36951470 & Comp1 & AABR07031533.3\\\\\n",
       "\t171 & 171 & OMG        & AABR07031533.3 &  0.39152427 & Comp1 & AABR07031533.3\\\\\n",
       "\t178 & 178 & PTGER2     & AABR07031533.3 & -0.36418319 & Comp1 & AABR07031533.3\\\\\n",
       "\t180 & 180 & RAB19      & AABR07031533.3 & -0.42734108 & Comp1 & AABR07031533.3\\\\\n",
       "\t188 & 188 & SAMSN1-AS1 & AABR07031533.3 &  0.58892686 & Comp1 & AABR07031533.3\\\\\n",
       "\t⋮ & ⋮ & ⋮ & ⋮ & ⋮ & ⋮ & ⋮\\\\\n",
       "\t9564 & 9564 & MTND4P24  & Tspan8 & -0.40997949 & Comp1 & TSPAN8\\\\\n",
       "\t9572 & 9572 & PRIMA1    & Tspan8 &  0.46705400 & Comp1 & TSPAN8\\\\\n",
       "\t9588 & 9588 & SHISA6    & Tspan8 &  0.46185919 & Comp1 & TSPAN8\\\\\n",
       "\t9594 & 9594 & SLCO4C1   & Tspan8 &  0.44155844 & Comp1 & TSPAN8\\\\\n",
       "\t9598 & 9598 & STUM      & Tspan8 &  0.41134655 & Comp1 & TSPAN8\\\\\n",
       "\t9600 & 9600 & TAFA4     & Tspan8 &  0.45714286 & Comp1 & TSPAN8\\\\\n",
       "\t9605 & 9605 & UGT2A3    & Tspan8 & -0.39753930 & Comp1 & TSPAN8\\\\\n",
       "\t9607 & 9607 & VSIG1     & Tspan8 &  0.45529733 & Comp1 & TSPAN8\\\\\n",
       "\t9608 & 9608 & WNT5A     & Tspan8 &  0.33957621 & Comp1 & TSPAN8\\\\\n",
       "\t9614 & 9614 & ASB2      & Xdh    & -0.42870813 & Comp1 & XDH   \\\\\n",
       "\t9621 & 9621 & CDK15     & Xdh    & -0.44661654 & Comp1 & XDH   \\\\\n",
       "\t9629 & 9629 & DES       & Xdh    & -0.48332194 & Comp1 & XDH   \\\\\n",
       "\t9630 & 9630 & DGCR6     & Xdh    &  0.51223513 & Comp1 & XDH   \\\\\n",
       "\t9631 & 9631 & DOC2GP    & Xdh    &  0.53896104 & Comp1 & XDH   \\\\\n",
       "\t9632 & 9632 & ESPL1     & Xdh    & -0.06165414 & Comp1 & XDH   \\\\\n",
       "\t9640 & 9640 & GPC3      & Xdh    & -0.53089542 & Comp1 & XDH   \\\\\n",
       "\t9650 & 9650 & KCNK9     & Xdh    & -0.36664388 & Comp1 & XDH   \\\\\n",
       "\t9668 & 9668 & MICOS10P3 & Xdh    &  0.52761449 & Comp1 & XDH   \\\\\n",
       "\t9672 & 9672 & MTND4P24  & Xdh    &  0.49350649 & Comp1 & XDH   \\\\\n",
       "\t9677 & 9677 & PHYHD1    & Xdh    &  0.49152427 & Comp1 & XDH   \\\\\n",
       "\t9679 & 9679 & PPIEL     & Xdh    & -0.62474368 & Comp1 & XDH   \\\\\n",
       "\t9680 & 9680 & PRIMA1    & Xdh    & -0.62057416 & Comp1 & XDH   \\\\\n",
       "\t9685 & 9685 & RBFOX1    & Xdh    & -0.48092960 & Comp1 & XDH   \\\\\n",
       "\t9689 & 9689 & RPH3A     & Xdh    & -0.52166781 & Comp1 & XDH   \\\\\n",
       "\t9691 & 9691 & S100A11   & Xdh    & -0.53089542 & Comp1 & XDH   \\\\\n",
       "\t9693 & 9693 & SCN10A    & Xdh    & -0.51196172 & Comp1 & XDH   \\\\\n",
       "\t9694 & 9694 & SENP3     & Xdh    &  0.49104580 & Comp1 & XDH   \\\\\n",
       "\t9702 & 9702 & SLCO4C1   & Xdh    & -0.52358168 & Comp1 & XDH   \\\\\n",
       "\t9703 & 9703 & SLITRK4   & Xdh    & -0.51818182 & Comp1 & XDH   \\\\\n",
       "\t9717 & 9717 & WNT7B     & Xdh    & -0.53233083 & Comp1 & XDH   \\\\\n",
       "\\end{tabular}\n"
      ],
      "text/markdown": [
       "\n",
       "A data.frame: 1511 × 6\n",
       "\n",
       "| <!--/--> | X &lt;int&gt; | neuron_gene &lt;chr&gt; | astro_gene &lt;chr&gt; | r &lt;dbl&gt; | component &lt;chr&gt; | astro_gene_h &lt;chr&gt; |\n",
       "|---|---|---|---|---|---|---|\n",
       "| 3 |   3 | BCL11B     | AABR07025140.1 | -0.50321258 | Comp1 | AABR07025140.1 |\n",
       "| 11 |  11 | CENPI      | AABR07025140.1 | -0.44586466 | Comp1 | AABR07025140.1 |\n",
       "| 12 |  12 | CLRN1-AS1  | AABR07025140.1 |  0.57682843 | Comp1 | AABR07025140.1 |\n",
       "| 13 |  13 | CMPK2      | AABR07025140.1 | -0.44231032 | Comp1 | AABR07025140.1 |\n",
       "| 14 |  14 | COL22A1    | AABR07025140.1 | -0.42317157 | Comp1 | AABR07025140.1 |\n",
       "| 22 |  22 | FAM135B    | AABR07025140.1 | -0.12822967 | Comp1 | AABR07025140.1 |\n",
       "| 32 |  32 | HSD11B2    | AABR07025140.1 | -0.43110048 | Comp1 | AABR07025140.1 |\n",
       "| 50 |  50 | LINC02418  | AABR07025140.1 |  0.02624744 | Comp1 | AABR07025140.1 |\n",
       "| 54 |  54 | MEG8       | AABR07025140.1 |  0.52904990 | Comp1 | AABR07025140.1 |\n",
       "| 59 |  59 | MTND2P5    | AABR07025140.1 |  0.43328776 | Comp1 | AABR07025140.1 |\n",
       "| 61 |  61 | MX2        | AABR07025140.1 | -0.49029392 | Comp1 | AABR07025140.1 |\n",
       "| 62 |  62 | NPFFR2     | AABR07025140.1 |  0.39767601 | Comp1 | AABR07025140.1 |\n",
       "| 67 |  67 | PPIEL      | AABR07025140.1 | -0.51114149 | Comp1 | AABR07025140.1 |\n",
       "| 71 |  71 | PTPRN2     | AABR07025140.1 |  0.45837321 | Comp1 | AABR07025140.1 |\n",
       "| 73 |  73 | RBFOX1     | AABR07025140.1 | -0.46322625 | Comp1 | AABR07025140.1 |\n",
       "| 75 |  75 | RHOXF1     | AABR07025140.1 | -0.47505126 | Comp1 | AABR07025140.1 |\n",
       "| 76 |  76 | RHOXF1-AS1 | AABR07025140.1 |  0.48345865 | Comp1 | AABR07025140.1 |\n",
       "| 84 |  84 | SHISA6     | AABR07025140.1 | -0.48879016 | Comp1 | AABR07025140.1 |\n",
       "| 85 |  85 | SHOX2      | AABR07025140.1 | -0.44101162 | Comp1 | AABR07025140.1 |\n",
       "| 99 |  99 | TRIM31     | AABR07025140.1 |  0.55434040 | Comp1 | AABR07025140.1 |\n",
       "| 120 | 120 | CLRN1-AS1  | AABR07031533.3 |  0.44340396 | Comp1 | AABR07031533.3 |\n",
       "| 131 | 131 | FAM224A    | AABR07031533.3 |  0.39856459 | Comp1 | AABR07031533.3 |\n",
       "| 145 | 145 | KCNK18     | AABR07031533.3 | -0.43902939 | Comp1 | AABR07031533.3 |\n",
       "| 153 | 153 | LINC00842  | AABR07031533.3 | -0.50929597 | Comp1 | AABR07031533.3 |\n",
       "| 164 | 164 | MICOS10P3  | AABR07031533.3 |  0.41052632 | Comp1 | AABR07031533.3 |\n",
       "| 168 | 168 | MTND4P24   | AABR07031533.3 |  0.36951470 | Comp1 | AABR07031533.3 |\n",
       "| 171 | 171 | OMG        | AABR07031533.3 |  0.39152427 | Comp1 | AABR07031533.3 |\n",
       "| 178 | 178 | PTGER2     | AABR07031533.3 | -0.36418319 | Comp1 | AABR07031533.3 |\n",
       "| 180 | 180 | RAB19      | AABR07031533.3 | -0.42734108 | Comp1 | AABR07031533.3 |\n",
       "| 188 | 188 | SAMSN1-AS1 | AABR07031533.3 |  0.58892686 | Comp1 | AABR07031533.3 |\n",
       "| ⋮ | ⋮ | ⋮ | ⋮ | ⋮ | ⋮ | ⋮ |\n",
       "| 9564 | 9564 | MTND4P24  | Tspan8 | -0.40997949 | Comp1 | TSPAN8 |\n",
       "| 9572 | 9572 | PRIMA1    | Tspan8 |  0.46705400 | Comp1 | TSPAN8 |\n",
       "| 9588 | 9588 | SHISA6    | Tspan8 |  0.46185919 | Comp1 | TSPAN8 |\n",
       "| 9594 | 9594 | SLCO4C1   | Tspan8 |  0.44155844 | Comp1 | TSPAN8 |\n",
       "| 9598 | 9598 | STUM      | Tspan8 |  0.41134655 | Comp1 | TSPAN8 |\n",
       "| 9600 | 9600 | TAFA4     | Tspan8 |  0.45714286 | Comp1 | TSPAN8 |\n",
       "| 9605 | 9605 | UGT2A3    | Tspan8 | -0.39753930 | Comp1 | TSPAN8 |\n",
       "| 9607 | 9607 | VSIG1     | Tspan8 |  0.45529733 | Comp1 | TSPAN8 |\n",
       "| 9608 | 9608 | WNT5A     | Tspan8 |  0.33957621 | Comp1 | TSPAN8 |\n",
       "| 9614 | 9614 | ASB2      | Xdh    | -0.42870813 | Comp1 | XDH    |\n",
       "| 9621 | 9621 | CDK15     | Xdh    | -0.44661654 | Comp1 | XDH    |\n",
       "| 9629 | 9629 | DES       | Xdh    | -0.48332194 | Comp1 | XDH    |\n",
       "| 9630 | 9630 | DGCR6     | Xdh    |  0.51223513 | Comp1 | XDH    |\n",
       "| 9631 | 9631 | DOC2GP    | Xdh    |  0.53896104 | Comp1 | XDH    |\n",
       "| 9632 | 9632 | ESPL1     | Xdh    | -0.06165414 | Comp1 | XDH    |\n",
       "| 9640 | 9640 | GPC3      | Xdh    | -0.53089542 | Comp1 | XDH    |\n",
       "| 9650 | 9650 | KCNK9     | Xdh    | -0.36664388 | Comp1 | XDH    |\n",
       "| 9668 | 9668 | MICOS10P3 | Xdh    |  0.52761449 | Comp1 | XDH    |\n",
       "| 9672 | 9672 | MTND4P24  | Xdh    |  0.49350649 | Comp1 | XDH    |\n",
       "| 9677 | 9677 | PHYHD1    | Xdh    |  0.49152427 | Comp1 | XDH    |\n",
       "| 9679 | 9679 | PPIEL     | Xdh    | -0.62474368 | Comp1 | XDH    |\n",
       "| 9680 | 9680 | PRIMA1    | Xdh    | -0.62057416 | Comp1 | XDH    |\n",
       "| 9685 | 9685 | RBFOX1    | Xdh    | -0.48092960 | Comp1 | XDH    |\n",
       "| 9689 | 9689 | RPH3A     | Xdh    | -0.52166781 | Comp1 | XDH    |\n",
       "| 9691 | 9691 | S100A11   | Xdh    | -0.53089542 | Comp1 | XDH    |\n",
       "| 9693 | 9693 | SCN10A    | Xdh    | -0.51196172 | Comp1 | XDH    |\n",
       "| 9694 | 9694 | SENP3     | Xdh    |  0.49104580 | Comp1 | XDH    |\n",
       "| 9702 | 9702 | SLCO4C1   | Xdh    | -0.52358168 | Comp1 | XDH    |\n",
       "| 9703 | 9703 | SLITRK4   | Xdh    | -0.51818182 | Comp1 | XDH    |\n",
       "| 9717 | 9717 | WNT7B     | Xdh    | -0.53233083 | Comp1 | XDH    |\n",
       "\n"
      ],
      "text/plain": [
       "     X    neuron_gene astro_gene     r           component astro_gene_h  \n",
       "3      3  BCL11B      AABR07025140.1 -0.50321258 Comp1     AABR07025140.1\n",
       "11    11  CENPI       AABR07025140.1 -0.44586466 Comp1     AABR07025140.1\n",
       "12    12  CLRN1-AS1   AABR07025140.1  0.57682843 Comp1     AABR07025140.1\n",
       "13    13  CMPK2       AABR07025140.1 -0.44231032 Comp1     AABR07025140.1\n",
       "14    14  COL22A1     AABR07025140.1 -0.42317157 Comp1     AABR07025140.1\n",
       "22    22  FAM135B     AABR07025140.1 -0.12822967 Comp1     AABR07025140.1\n",
       "32    32  HSD11B2     AABR07025140.1 -0.43110048 Comp1     AABR07025140.1\n",
       "50    50  LINC02418   AABR07025140.1  0.02624744 Comp1     AABR07025140.1\n",
       "54    54  MEG8        AABR07025140.1  0.52904990 Comp1     AABR07025140.1\n",
       "59    59  MTND2P5     AABR07025140.1  0.43328776 Comp1     AABR07025140.1\n",
       "61    61  MX2         AABR07025140.1 -0.49029392 Comp1     AABR07025140.1\n",
       "62    62  NPFFR2      AABR07025140.1  0.39767601 Comp1     AABR07025140.1\n",
       "67    67  PPIEL       AABR07025140.1 -0.51114149 Comp1     AABR07025140.1\n",
       "71    71  PTPRN2      AABR07025140.1  0.45837321 Comp1     AABR07025140.1\n",
       "73    73  RBFOX1      AABR07025140.1 -0.46322625 Comp1     AABR07025140.1\n",
       "75    75  RHOXF1      AABR07025140.1 -0.47505126 Comp1     AABR07025140.1\n",
       "76    76  RHOXF1-AS1  AABR07025140.1  0.48345865 Comp1     AABR07025140.1\n",
       "84    84  SHISA6      AABR07025140.1 -0.48879016 Comp1     AABR07025140.1\n",
       "85    85  SHOX2       AABR07025140.1 -0.44101162 Comp1     AABR07025140.1\n",
       "99    99  TRIM31      AABR07025140.1  0.55434040 Comp1     AABR07025140.1\n",
       "120  120  CLRN1-AS1   AABR07031533.3  0.44340396 Comp1     AABR07031533.3\n",
       "131  131  FAM224A     AABR07031533.3  0.39856459 Comp1     AABR07031533.3\n",
       "145  145  KCNK18      AABR07031533.3 -0.43902939 Comp1     AABR07031533.3\n",
       "153  153  LINC00842   AABR07031533.3 -0.50929597 Comp1     AABR07031533.3\n",
       "164  164  MICOS10P3   AABR07031533.3  0.41052632 Comp1     AABR07031533.3\n",
       "168  168  MTND4P24    AABR07031533.3  0.36951470 Comp1     AABR07031533.3\n",
       "171  171  OMG         AABR07031533.3  0.39152427 Comp1     AABR07031533.3\n",
       "178  178  PTGER2      AABR07031533.3 -0.36418319 Comp1     AABR07031533.3\n",
       "180  180  RAB19       AABR07031533.3 -0.42734108 Comp1     AABR07031533.3\n",
       "188  188  SAMSN1-AS1  AABR07031533.3  0.58892686 Comp1     AABR07031533.3\n",
       "⋮    ⋮    ⋮           ⋮              ⋮           ⋮         ⋮             \n",
       "9564 9564 MTND4P24    Tspan8         -0.40997949 Comp1     TSPAN8        \n",
       "9572 9572 PRIMA1      Tspan8          0.46705400 Comp1     TSPAN8        \n",
       "9588 9588 SHISA6      Tspan8          0.46185919 Comp1     TSPAN8        \n",
       "9594 9594 SLCO4C1     Tspan8          0.44155844 Comp1     TSPAN8        \n",
       "9598 9598 STUM        Tspan8          0.41134655 Comp1     TSPAN8        \n",
       "9600 9600 TAFA4       Tspan8          0.45714286 Comp1     TSPAN8        \n",
       "9605 9605 UGT2A3      Tspan8         -0.39753930 Comp1     TSPAN8        \n",
       "9607 9607 VSIG1       Tspan8          0.45529733 Comp1     TSPAN8        \n",
       "9608 9608 WNT5A       Tspan8          0.33957621 Comp1     TSPAN8        \n",
       "9614 9614 ASB2        Xdh            -0.42870813 Comp1     XDH           \n",
       "9621 9621 CDK15       Xdh            -0.44661654 Comp1     XDH           \n",
       "9629 9629 DES         Xdh            -0.48332194 Comp1     XDH           \n",
       "9630 9630 DGCR6       Xdh             0.51223513 Comp1     XDH           \n",
       "9631 9631 DOC2GP      Xdh             0.53896104 Comp1     XDH           \n",
       "9632 9632 ESPL1       Xdh            -0.06165414 Comp1     XDH           \n",
       "9640 9640 GPC3        Xdh            -0.53089542 Comp1     XDH           \n",
       "9650 9650 KCNK9       Xdh            -0.36664388 Comp1     XDH           \n",
       "9668 9668 MICOS10P3   Xdh             0.52761449 Comp1     XDH           \n",
       "9672 9672 MTND4P24    Xdh             0.49350649 Comp1     XDH           \n",
       "9677 9677 PHYHD1      Xdh             0.49152427 Comp1     XDH           \n",
       "9679 9679 PPIEL       Xdh            -0.62474368 Comp1     XDH           \n",
       "9680 9680 PRIMA1      Xdh            -0.62057416 Comp1     XDH           \n",
       "9685 9685 RBFOX1      Xdh            -0.48092960 Comp1     XDH           \n",
       "9689 9689 RPH3A       Xdh            -0.52166781 Comp1     XDH           \n",
       "9691 9691 S100A11     Xdh            -0.53089542 Comp1     XDH           \n",
       "9693 9693 SCN10A      Xdh            -0.51196172 Comp1     XDH           \n",
       "9694 9694 SENP3       Xdh             0.49104580 Comp1     XDH           \n",
       "9702 9702 SLCO4C1     Xdh            -0.52358168 Comp1     XDH           \n",
       "9703 9703 SLITRK4     Xdh            -0.51818182 Comp1     XDH           \n",
       "9717 9717 WNT7B       Xdh            -0.53233083 Comp1     XDH           "
      ]
     },
     "metadata": {},
     "output_type": "display_data"
    }
   ],
   "source": [
    "corr_network[cor_network_filtered$neuron_gene %in% intersect(SNAP_n$Gene,unique(corr_network$neuron_gene)),]"
   ]
  },
  {
   "cell_type": "code",
   "execution_count": 19,
   "id": "c1fafa85-ec6a-4100-89f0-04e729dfc224",
   "metadata": {},
   "outputs": [
    {
     "data": {
      "text/html": [
       "<style>\n",
       ".list-inline {list-style: none; margin:0; padding: 0}\n",
       ".list-inline>li {display: inline-block}\n",
       ".list-inline>li:not(:last-child)::after {content: \"\\00b7\"; padding: 0 .5ex}\n",
       "</style>\n",
       "<ol class=list-inline><li>'RPH3A'</li><li>'STUM'</li><li>'NPFFR2'</li><li>'TCEAL5'</li><li>'RBFOX1'</li><li>'RPS4Y1'</li><li>'COL22A1'</li><li>'CCKBR'</li><li>'TRPA1'</li><li>'GCNT4'</li></ol>\n"
      ],
      "text/latex": [
       "\\begin{enumerate*}\n",
       "\\item 'RPH3A'\n",
       "\\item 'STUM'\n",
       "\\item 'NPFFR2'\n",
       "\\item 'TCEAL5'\n",
       "\\item 'RBFOX1'\n",
       "\\item 'RPS4Y1'\n",
       "\\item 'COL22A1'\n",
       "\\item 'CCKBR'\n",
       "\\item 'TRPA1'\n",
       "\\item 'GCNT4'\n",
       "\\end{enumerate*}\n"
      ],
      "text/markdown": [
       "1. 'RPH3A'\n",
       "2. 'STUM'\n",
       "3. 'NPFFR2'\n",
       "4. 'TCEAL5'\n",
       "5. 'RBFOX1'\n",
       "6. 'RPS4Y1'\n",
       "7. 'COL22A1'\n",
       "8. 'CCKBR'\n",
       "9. 'TRPA1'\n",
       "10. 'GCNT4'\n",
       "\n",
       "\n"
      ],
      "text/plain": [
       " [1] \"RPH3A\"   \"STUM\"    \"NPFFR2\"  \"TCEAL5\"  \"RBFOX1\"  \"RPS4Y1\"  \"COL22A1\"\n",
       " [8] \"CCKBR\"   \"TRPA1\"   \"GCNT4\"  "
      ]
     },
     "metadata": {},
     "output_type": "display_data"
    }
   ],
   "source": [
    "intersect(SNAP_n$Gene,corr_network$neuron_gene)"
   ]
  },
  {
   "cell_type": "code",
   "execution_count": 17,
   "id": "387e676c-dfba-4257-83bb-24d7bcb032cb",
   "metadata": {},
   "outputs": [
    {
     "data": {
      "text/html": [
       "<style>\n",
       ".list-inline {list-style: none; margin:0; padding: 0}\n",
       ".list-inline>li {display: inline-block}\n",
       ".list-inline>li:not(:last-child)::after {content: \"\\00b7\"; padding: 0 .5ex}\n",
       "</style>\n",
       "<ol class=list-inline><li>'CCKBR'</li><li>'COL22A1'</li><li>'GCNT4'</li><li>'NPFFR2'</li><li>'RBFOX1'</li><li>'RPH3A'</li><li>'RPS4Y1'</li><li>'STUM'</li><li>'TCEAL5'</li><li>'TRPA1'</li></ol>\n"
      ],
      "text/latex": [
       "\\begin{enumerate*}\n",
       "\\item 'CCKBR'\n",
       "\\item 'COL22A1'\n",
       "\\item 'GCNT4'\n",
       "\\item 'NPFFR2'\n",
       "\\item 'RBFOX1'\n",
       "\\item 'RPH3A'\n",
       "\\item 'RPS4Y1'\n",
       "\\item 'STUM'\n",
       "\\item 'TCEAL5'\n",
       "\\item 'TRPA1'\n",
       "\\end{enumerate*}\n"
      ],
      "text/markdown": [
       "1. 'CCKBR'\n",
       "2. 'COL22A1'\n",
       "3. 'GCNT4'\n",
       "4. 'NPFFR2'\n",
       "5. 'RBFOX1'\n",
       "6. 'RPH3A'\n",
       "7. 'RPS4Y1'\n",
       "8. 'STUM'\n",
       "9. 'TCEAL5'\n",
       "10. 'TRPA1'\n",
       "\n",
       "\n"
      ],
      "text/plain": [
       " [1] \"CCKBR\"   \"COL22A1\" \"GCNT4\"   \"NPFFR2\"  \"RBFOX1\"  \"RPH3A\"   \"RPS4Y1\" \n",
       " [8] \"STUM\"    \"TCEAL5\"  \"TRPA1\"  "
      ]
     },
     "metadata": {},
     "output_type": "display_data"
    }
   ],
   "source": [
    "intersect(SNAP_n$Gene)"
   ]
  },
  {
   "cell_type": "code",
   "execution_count": 13,
   "id": "c0df41f4-db34-44f9-8fde-9d19ccad62ed",
   "metadata": {},
   "outputs": [
    {
     "data": {
      "text/html": [
       "<style>\n",
       ".list-inline {list-style: none; margin:0; padding: 0}\n",
       ".list-inline>li {display: inline-block}\n",
       ".list-inline>li:not(:last-child)::after {content: \"\\00b7\"; padding: 0 .5ex}\n",
       "</style>\n",
       "<ol class=list-inline><li>'RPH3A'</li><li>'STUM'</li><li>'NPFFR2'</li><li>'TCEAL5'</li><li>'RBFOX1'</li><li>'RPS4Y1'</li><li>'COL22A1'</li><li>'CCKBR'</li><li>'TRPA1'</li><li>'GCNT4'</li></ol>\n"
      ],
      "text/latex": [
       "\\begin{enumerate*}\n",
       "\\item 'RPH3A'\n",
       "\\item 'STUM'\n",
       "\\item 'NPFFR2'\n",
       "\\item 'TCEAL5'\n",
       "\\item 'RBFOX1'\n",
       "\\item 'RPS4Y1'\n",
       "\\item 'COL22A1'\n",
       "\\item 'CCKBR'\n",
       "\\item 'TRPA1'\n",
       "\\item 'GCNT4'\n",
       "\\end{enumerate*}\n"
      ],
      "text/markdown": [
       "1. 'RPH3A'\n",
       "2. 'STUM'\n",
       "3. 'NPFFR2'\n",
       "4. 'TCEAL5'\n",
       "5. 'RBFOX1'\n",
       "6. 'RPS4Y1'\n",
       "7. 'COL22A1'\n",
       "8. 'CCKBR'\n",
       "9. 'TRPA1'\n",
       "10. 'GCNT4'\n",
       "\n",
       "\n"
      ],
      "text/plain": [
       " [1] \"RPH3A\"   \"STUM\"    \"NPFFR2\"  \"TCEAL5\"  \"RBFOX1\"  \"RPS4Y1\"  \"COL22A1\"\n",
       " [8] \"CCKBR\"   \"TRPA1\"   \"GCNT4\"  "
      ]
     },
     "metadata": {},
     "output_type": "display_data"
    }
   ],
   "source": [
    "intersect(SNAP_n$Gene,corr_network$neuron_gene)"
   ]
  },
  {
   "cell_type": "code",
   "execution_count": null,
   "id": "a0825903-e03f-4678-9c50-4766619fcb0d",
   "metadata": {},
   "outputs": [],
   "source": [
    "#test enrichment. show correlations"
   ]
  }
 ],
 "metadata": {
  "kernelspec": {
   "display_name": "R 4.2.1 (native)",
   "language": "R",
   "name": "ir421_native"
  },
  "language_info": {
   "codemirror_mode": "r",
   "file_extension": ".r",
   "mimetype": "text/x-r-source",
   "name": "R",
   "pygments_lexer": "r",
   "version": "4.2.1"
  }
 },
 "nbformat": 4,
 "nbformat_minor": 5
}
