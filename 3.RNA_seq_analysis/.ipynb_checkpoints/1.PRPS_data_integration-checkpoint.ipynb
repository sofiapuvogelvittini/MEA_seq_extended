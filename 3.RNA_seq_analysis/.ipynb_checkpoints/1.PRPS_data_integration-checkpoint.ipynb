{
 "cells": [
  {
   "cell_type": "code",
   "execution_count": null,
   "id": "aa0dd7ac-033e-4463-8d86-cff25c50b53e",
   "metadata": {},
   "outputs": [],
   "source": [
    "#Use PRPS to merge batch. Anchor points will be EHMT1_CR, and WTC,\n",
    "#same code can be used for neuronal or astrocytes reads, just change path to corresponding counts"
   ]
  },
  {
   "cell_type": "code",
   "execution_count": 7,
   "id": "5e9161f7-9bee-4940-9e23-ee8750523dee",
   "metadata": {},
   "outputs": [
    {
     "name": "stderr",
     "output_type": "stream",
     "text": [
      "Warning message:\n",
      "\"package 'stringr' was built under R version 4.2.3\"\n"
     ]
    }
   ],
   "source": [
    "# ===========================\n",
    "# RNA-seq PRPS + RUVIII Batch Integration\n",
    "# ===========================\n",
    "\n",
    "# Load only necessary packages\n",
    "library(DESeq2)\n",
    "library(dplyr)\n",
    "library(tidyr)\n",
    "library(reshape2)\n",
    "library(edgeR)\n",
    "library(limma)\n",
    "library(ggplot2)\n",
    "library(umap)\n",
    "library(ruv)\n",
    "library(RUVPRPS) \n",
    "library(purrr)\n",
    "library(stringr)"
   ]
  },
  {
   "cell_type": "code",
   "execution_count": 2,
   "id": "9d169dc2-32b8-498c-bf4e-14cc1fb321d8",
   "metadata": {},
   "outputs": [],
   "source": [
    "#PRPS functions\n",
    ".CreatePseudoSamplesForLsPurityBatch <- function(\n",
    "  expr.data,\n",
    "  sample.info,\n",
    "  librarySize,\n",
    "  biology,\n",
    "  batch,\n",
    "  purity,\n",
    "  include.ls = FALSE,\n",
    "  include.purity = FALSE,\n",
    "  minSamplesPerBatchPS = 3,\n",
    "  minSamplesForPurityPerBiology = 12,\n",
    "  minSamplesForPurityPS = 3,\n",
    "  minSamplesForLibrarySizePerBatch = 10,\n",
    "  minSamplesForLibrarySizePS = 3\n",
    "){\n",
    "  ### checl\n",
    "  if(include.purity & minSamplesForPurityPS > minSamplesForPurityPerBiology){\n",
    "    stop('error: minSamplesForPurityPS can not be smaller than minSamplesForPurityPerBiology')\n",
    "  } else if(include.purity & minSamplesForPurityPerBiology < 2*minSamplesForPurityPS){\n",
    "    stop('error: minSamplesForPurityPerBiology should be at least two times larger than minSamplesForPurityPS')\n",
    "  } else if(include.ls & minSamplesForLibrarySizePS > minSamplesForLibrarySizePerBatch) {\n",
    "    stop('error: minSamplesForLibrarySizePerBatch can not be smaller than minSamplesForLibrarySizePS')\n",
    "  } else if(include.ls & minSamplesForLibrarySizePerBatch < 2*minSamplesForLibrarySizePS ){\n",
    "    stop('error: minSamplesForLibrarySizePerBatch should be at least two times larger than minSamplesForLibrarySizePS')\n",
    "  }\n",
    "  ### Biology\n",
    "  row.names(sample.info) <- colnames(expr.data)\n",
    "  sample.info$biology <- apply(\n",
    "    sample.info[ , biology, drop = FALSE],\n",
    "    1,\n",
    "    paste,\n",
    "    collapse = \"-\"\n",
    "  )\n",
    "  ### Biology - Batch\n",
    "  sample.info$biology.batch <- apply(\n",
    "    sample.info[, c(biology, batch)],\n",
    "    1,\n",
    "    paste,\n",
    "    collapse = \"_\"\n",
    "  )\n",
    "  ### removing batch effects\n",
    "  # create PS per biology/batch\n",
    "  selected.biology.ps.batch <- unlist(lapply(\n",
    "    unique(sample.info$biology), \n",
    "    function(x){\n",
    "      index <- sample.info$biology == x\n",
    "      if(sum( table(sample.info$biology.batch[index] ) >= minSamplesPerBatchPS) > 1 ){\n",
    "        x\n",
    "      }\n",
    "    }))\n",
    "  if(length(selected.biology.ps.batch) > 0){\n",
    "    message('PRPS are generated for batch effects')\n",
    "  }else{\n",
    "    message('error: there are not enough samples to create \n",
    "            pseudo-samples for batch effects removal, you may want to lower minSamplesPerBatchPS')\n",
    "  }\n",
    "  sample.info.ps.batch <- sample.info[sample.info$biology %in% selected.biology.ps.batch , ]\n",
    "  expr.data.ps.batch <- expr.data[, row.names(sample.info.ps.batch)]\n",
    "  ### sort samples\n",
    "  selected.batches <- names(which(table(sample.info.ps.batch$biology.batch) >= minSamplesPerBatchPS))\n",
    "  ps.batch <- sapply(\n",
    "    selected.batches,\n",
    "    function(x) {\n",
    "      index <- sample.info.ps.batch$biology.batch == x\n",
    "      Matrix::rowMeans(expr.data.ps.batch[, index])\n",
    "    })\n",
    "  \n",
    "  if(include.ls){\n",
    "    selected.batches.ls <- names(\n",
    "      which(table(sample.info$biology.batch) >= minSamplesForLibrarySizePerBatch)\n",
    "    )\n",
    "    if(length(selected.batches.ls) > 0){\n",
    "      message('PRPS are generated for library size effects')\n",
    "      sample.info <- sample.info[\n",
    "        with(sample.info,\n",
    "             order(sample.info[, 'biology.batch'],\n",
    "                   sample.info[, librarySize])), ]\n",
    "      expr.data <- expr.data[, row.names(sample.info)]\n",
    "      ps.ls <- lapply(\n",
    "        selected.batches.ls, \n",
    "        function(x){\n",
    "          index <- sample.info$biology.batch == x\n",
    "          ls.data <- expr.data[ , index]\n",
    "          low.ls <- Matrix::rowMeans(ls.data[ , 1:minSamplesForLibrarySizePS])\n",
    "          high.ls <- Matrix::rowMeans(ls.data[ , c(ncol(ls.data)-(minSamplesForLibrarySizePS - 1)):ncol(ls.data) ])\n",
    "          all.ls <- cbind(low.ls, high.ls)\n",
    "          colnames(all.ls) <- rep(paste(x, 'LS', sep = '_'), 2)\n",
    "          all.ls\n",
    "        })\n",
    "      ps.ls <- do.call(cbind, ps.ls)\n",
    "      \n",
    "    }else{\n",
    "      message('error: there are not enough samples to create pseudo-samples for \n",
    "              removal of library size effects, you may want to lower minSamplesForLibrarySizePerBatch')\n",
    "    }\n",
    "  }else if (! include.ls){\n",
    "    print('PRPS is not generated for librray size effects')\n",
    "    ps.ls = list()\n",
    "  }\n",
    "  if(include.purity ){\n",
    "    selected.biology.purity <- names(\n",
    "      which(table(sample.info$biology) >= minSamplesForPurityPerBiology)\n",
    "    ) \n",
    "    sample.info$purity <- sample.info[ , 'purity']\n",
    "    if(length(selected.biology.purity) > 0){\n",
    "      message('PRPS are generated for purity effects')\n",
    "      sample.info <- sample.info[\n",
    "        with(sample.info, order(biology, purity)), ]\n",
    "      expr.data <- expr.data[, row.names(sample.info)]\n",
    "      ps.purity <- lapply(\n",
    "        selected.biology.purity,\n",
    "        function(x) {\n",
    "          index <- sample.info$biology == x\n",
    "          purity.data <- expr.data[, index]\n",
    "          low.pur <- Matrix::rowMeans(purity.data[, 1:minSamplesForPurityPS])\n",
    "          high.pur <- Matrix::rowMeans(purity.data[, c(ncol(purity.data) - (minSamplesForPurityPS - 1)):ncol(purity.data)])\n",
    "          all.purity <- cbind(low.pur, high.pur)\n",
    "          colnames(all.purity) <- rep(paste(x, 'purity', sep = '_'), 2)\n",
    "          all.purity\n",
    "        })\n",
    "      ps.purity <- do.call(cbind, ps.purity)\n",
    "    }else{\n",
    "      message('error: there are not enough samples to make pseudo-samples \n",
    "              for purity variation, you may want to lower minSamplesForPurityPerBiology')\n",
    "    }\n",
    "  } else if (!include.purity){\n",
    "    print('PRPS is not generated for purity effects')\n",
    "    ps.purity = list()\n",
    "  }\n",
    "  return(list(ps.batch = ps.batch, ps.ls = ps.ls, ps.purity = ps.purity))\n",
    "}\n",
    "\n",
    "\n",
    "tological <-\n",
    "function (ctl, n) \n",
    "{\n",
    "    ctl2 = rep(FALSE, n)\n",
    "    ctl2[ctl] = TRUE\n",
    "    return(ctl2)\n",
    "}"
   ]
  },
  {
   "cell_type": "code",
   "execution_count": 3,
   "id": "1b28eda7-c18f-4fdf-a9de-4db3ec156012",
   "metadata": {},
   "outputs": [],
   "source": [
    "#information of the different sequencing projects, we have three, 105199,  105886, 106319"
   ]
  },
  {
   "cell_type": "code",
   "execution_count": 8,
   "id": "a815da3b-2750-4176-b5bd-26a6b280aade",
   "metadata": {},
   "outputs": [],
   "source": [
    "samples_info<-read.csv(\"T:/PIgroup Nael NadifKasri/Sofia/2025/MEA_seq_patient/Code/0.Data/RNAseq_data/samples_info.csv\")\n",
    "samples_info$Well_ID <- sub(\".*_\", \"\", samples_info$sample)\n"
   ]
  },
  {
   "cell_type": "code",
   "execution_count": 9,
   "id": "1118e5fb-d049-45c8-bf8c-db08a0637db8",
   "metadata": {},
   "outputs": [],
   "source": [
    "combined<-read.table(\"T:/PIgroup Nael NadifKasri/Sofia/2025/MEA_seq_patient/Code/0.Data/RNAseq_data/neruonal_counts/combined_counts.txt\")\n",
    "colnames_counts<-colnames(combined)\n",
    "colnames_counts<-gsub(\"\\\\.\", \"-\", colnames_counts)\n",
    "colnames_counts<-str_replace_all(colnames_counts, \"SMARCB1_KSS_CRISPR\", \"SMARCB1_KSS-CRISPR\")\n",
    "colnames(combined)<-colnames_counts"
   ]
  },
  {
   "cell_type": "code",
   "execution_count": 11,
   "id": "e1abdfe8-fe4f-4477-8b01-cf3e09090305",
   "metadata": {},
   "outputs": [
    {
     "data": {
      "text/html": [
       "0"
      ],
      "text/latex": [
       "0"
      ],
      "text/markdown": [
       "0"
      ],
      "text/plain": [
       "[1] 0"
      ]
     },
     "metadata": {},
     "output_type": "display_data"
    }
   ],
   "source": [
    "# 2. Remove duplicated genes (keep highest expression)\n",
    "combined_rd<-list()\n",
    "for (i in 1:56){\n",
    "    df<-combined[c(i,57:58)]\n",
    "    \n",
    "    \n",
    "     unique_genes<-unique(df$Genename)\n",
    "     V3<-c(colnames(df[1]))\n",
    "     df<-df %>%                                      # Top N highest values by group\n",
    "     group_by(Genename)\n",
    "     df<-dplyr::arrange( df, !! rlang::parse_expr(\"desc(V3)\") ) %>% \n",
    "              slice(1) %>% ungroup()\n",
    "    \n",
    "    \n",
    "     \n",
    "    df<-df[match(unique_genes, df$Genename), c(\"Genename\", V3)] \n",
    "    combined_rd[[i]]<-df\n",
    "    \n",
    "}\n",
    "\n",
    "combined_rd<-combined_rd %>% reduce(inner_join, by = \"Genename\") %>% as.data.frame()\n",
    "sum(duplicated(combined_rd$Genename))\n",
    "rownames(combined_rd)<-combined_rd$Genename\n",
    "combined_rd<-combined_rd[-1]\n"
   ]
  },
  {
   "cell_type": "code",
   "execution_count": null,
   "id": "657ca884-3a1a-4fca-a369-d9d981457f2d",
   "metadata": {},
   "outputs": [],
   "source": [
    "#write.table(combined_rd,\"T:/PIgroup Nael NadifKasri/Sofia/2025/MEA_seq_patient/Code/0.Data/RNAseq_data/neruonal_counts/combined_counts_reduced_duplicates.txt\")"
   ]
  },
  {
   "cell_type": "code",
   "execution_count": 12,
   "id": "c51d73e5-593c-47a8-8119-f9e249a650ce",
   "metadata": {},
   "outputs": [
    {
     "name": "stderr",
     "output_type": "stream",
     "text": [
      "Warning message in DESeqDataSet(se, design = design, ignoreRank):\n",
      "\"some variables in design formula are characters, converting to factors\"\n",
      "  Note: levels of factors in the design contain characters other than\n",
      "  letters, numbers, '_' and '.'. It is recommended (but not required) to use\n",
      "  only letters, numbers, and delimiters '_' or '.', as these are safe characters\n",
      "  for column names in R. [This is a message, not a warning or an error]\n",
      "\n",
      "  Note: levels of factors in the design contain characters other than\n",
      "  letters, numbers, '_' and '.'. It is recommended (but not required) to use\n",
      "  only letters, numbers, and delimiters '_' or '.', as these are safe characters\n",
      "  for column names in R. [This is a message, not a warning or an error]\n",
      "\n"
     ]
    }
   ],
   "source": [
    "# 3. DESeq2 filtering & normalization\n",
    "\n",
    "dds <- DESeqDataSetFromMatrix(countData = combined_rd,\n",
    "                              colData = samples_info,\n",
    "                              design = ~ group)\n",
    "\n",
    "\n",
    "dds <- estimateSizeFactors(dds)\n",
    "keep <- rowSums(counts(dds, normalized=TRUE) >= 5 ) >= 3\n",
    "\n",
    "dds <- dds[keep,]\n",
    "combined_rd<-combined_rd[rownames(assay(dds)),]\n"
   ]
  },
  {
   "cell_type": "code",
   "execution_count": 13,
   "id": "dac493e7-4eea-4d23-9b4a-ba1e8b584602",
   "metadata": {},
   "outputs": [],
   "source": [
    "# EdgeR normalization (CPM), only for visualization\n",
    "dge <- DGEList(combined_rd, group = samples_info$group)\n",
    "# Normalize counts\n",
    "dge <- calcNormFactors(dge)\n",
    "\n",
    "# Create the design matrix\n",
    "design <- model.matrix(~0+ group, data = samples_info)\n",
    "\n",
    "# Estimate dispersion\n",
    "dge <- estimateDisp(dge, design)\n",
    "\n",
    "# Fit the model\n",
    "fit <- glmQLFit(dge, design)\n",
    "normalized_counts <- cpm(dge, normalized = TRUE)\n"
   ]
  },
  {
   "cell_type": "code",
   "execution_count": null,
   "id": "0468c4aa-85a0-4bdf-9232-17bc1a069c56",
   "metadata": {},
   "outputs": [],
   "source": [
    "#write.table(normalized_counts,\"T:/PIgroup Nael NadifKasri/Sofia/2025/MEA_seq_patient/Code/0.Data/RNAseq_data/neruonal_counts/combined_CPM_counts.txt\")"
   ]
  },
  {
   "cell_type": "code",
   "execution_count": 14,
   "id": "6a91d2de-ce1d-419f-976a-5e77c6bc1268",
   "metadata": {},
   "outputs": [],
   "source": [
    "setwd(\"T:/PIgroup Nael NadifKasri/Sofia/2025/MEA_seq_patient/Analysis/RNA-seq/PRPS_integration_neurons\")"
   ]
  },
  {
   "cell_type": "code",
   "execution_count": 15,
   "id": "8f8301bd-c2bd-4940-887e-e7eea13c3760",
   "metadata": {},
   "outputs": [],
   "source": [
    "color_vector_cell_line<- setNames(samples_info$color_2,samples_info$cell_line_v2) \n",
    "color_vector_cell_line <- color_vector_cell_line[!duplicated(names(color_vector_cell_line))]"
   ]
  },
  {
   "cell_type": "code",
   "execution_count": 16,
   "id": "4d788446-ceeb-4e35-9613-79b4e3f5e93e",
   "metadata": {},
   "outputs": [
    {
     "name": "stderr",
     "output_type": "stream",
     "text": [
      "Warning message:\n",
      "\"\u001b[1m\u001b[22mNo shared levels found between `names(values)` of the manual scale and the data's \u001b[32mcolour\u001b[39m values.\"\n",
      "Warning message:\n",
      "\"\u001b[1m\u001b[22mNo shared levels found between `names(values)` of the manual scale and the data's \u001b[32mcolour\u001b[39m values.\"\n"
     ]
    },
    {
     "data": {
      "image/png": "[encoded data removed]",
      "text/plain": [
       "plot without title"
      ]
     },
     "metadata": {
      "image/png": {
       "height": 420,
       "width": 420
      }
     },
     "output_type": "display_data"
    }
   ],
   "source": [
    "normalized_counts_t <- t(normalized_counts)\n",
    "\n",
    "# Perform PCA\n",
    "pca_result <- prcomp(normalized_counts_t, center = TRUE, scale. = TRUE)\n",
    "pca_pc_metrics<-as.data.frame(pca_result$x)\n",
    "pca_pc_metrics$sample<-rownames(pca_pc_metrics)\n",
    "pca_pc_metrics<-inner_join(pca_pc_metrics,samples_info, by=\"sample\")\n",
    "\n",
    "summ <- summary(pca_result)\n",
    "summ_var<-summ$importance[2,]\n",
    "summ_var<-unname(summ_var[1:50])\n",
    "plot(summ_var*100)\n",
    "\n",
    "pca_pc_metrics$cell_line<-factor(pca_pc_metrics$cell_line_v2, levels=pca_pc_metrics$order)#, levels=pca_pc_metrics$order\n",
    "\n",
    "var_explained =round((pca_result$sdev^2 / sum(pca_result$sdev^2))*100,2)\n",
    "pca_pc_metrics$project <- as.factor(pca_pc_metrics$project)\n",
    "pca_pc_metrics$group <- as.factor(pca_pc_metrics$group)\n",
    "shape_project <- c(\"S105199\" = 21, \"S105586\" = 22,\"S106319\"=23)\n",
    "p <- ggplot(pca_pc_metrics, aes(PC1, PC2)) +\n",
    "  # First layer: Points with fill and shape, but no border\n",
    "  geom_point(\n",
    "    size = 5, \n",
    "    aes(color = group,shape = project,fill = cell_line), \n",
    "    show.legend = TRUE  # Ensure fill and shape legends are shown\n",
    "  ) + \n",
    " scale_fill_manual(values = color_vector_cell_line) +  # Color scale for 'fill'\n",
    "  scale_color_manual(values = color_vector_cell_line) +  # Black border color\n",
    "  # Second layer: Black border without fill\n",
    "  geom_point(\n",
    "    size = 5, \n",
    "    aes(shape = project),color=\"black\",  # Black border, no fill\n",
    "    #stroke = 1,  # Adjust border thickness if needed\n",
    "    show.legend = FALSE  # Do not show color legend again\n",
    "  ) +\n",
    " \n",
    "  scale_shape_manual(values = shape_project) +  # Shape scale for 'project'\n",
    "  theme_minimal() +\n",
    "  xlab(paste0(\"PC1: \", var_explained[1], \"%\")) +\n",
    "  ylab(paste0(\"PC2: \", var_explained[2], \"%\")) +   geom_text(aes(label = Well_ID)\n",
    "           )  # Avoid overlapping text labels\n",
    "\n",
    "# Save the plot\n",
    "ggsave(\"PCA_cell_line_labels_no_integration.pdf\",bg = \"transparent\",\n",
    "       width = 5.3,   # inches\n",
    "                  height = 5,\n",
    "                   plot=p\n",
    "      )\n"
   ]
  },
  {
   "cell_type": "code",
   "execution_count": 17,
   "id": "de1a6ece-8be2-46dc-a663-3a144e29328a",
   "metadata": {},
   "outputs": [
    {
     "name": "stderr",
     "output_type": "stream",
     "text": [
      "Using Gene as id variables\n",
      "\n"
     ]
    }
   ],
   "source": [
    "#PRPS integration\n",
    "#Pseudo replicates\n",
    "count_matrix<-combined_rd\n",
    "count_df_norm<-as.data.frame(counts(dds, normalized = TRUE))\n",
    "count_df_norm$Gene<-rownames(count_df_norm)\n",
    "#negative control genes\n",
    "count_df_norm_m<-melt(count_df_norm)\n",
    "colnames(count_df_norm_m)<-c(\"Gene\",\"sample\",\"norm.expression\")\n",
    "count_df_norm_m<-dplyr::left_join(count_df_norm_m,samples_info, by=\"sample\")"
   ]
  },
  {
   "cell_type": "code",
   "execution_count": 18,
   "id": "8aed5cc4-4fd2-4c4e-b2e8-c5afd8da7d7f",
   "metadata": {},
   "outputs": [],
   "source": [
    "count_df_norm_m_batch_105199<-count_df_norm_m[count_df_norm_m$project==\"S105199\",]\n",
    "count_df_norm_m_batch_105586<-count_df_norm_m[count_df_norm_m$project==\"S105586\",]\n",
    "count_df_norm_m_batch_106319<-count_df_norm_m[count_df_norm_m$project==\"S106319\",]\n",
    "\n",
    "count_df_norm_m_batch_105199 <- droplevels(count_df_norm_m_batch_105199)\n",
    "count_df_norm_m_batch_105586 <- droplevels(count_df_norm_m_batch_105586)\n",
    "count_df_norm_m_batch_106319 <- droplevels(count_df_norm_m_batch_106319)\n",
    "\n",
    "count_df_norm_m_batch_105199<-split(count_df_norm_m_batch_105199,f=count_df_norm_m_batch_105199$Gene)\n",
    "count_df_norm_m_batch_105586<-split(count_df_norm_m_batch_105586,f=count_df_norm_m_batch_105586$Gene)\n",
    "count_df_norm_m_batch_106319<-split(count_df_norm_m_batch_106319,f=count_df_norm_m_batch_106319$Gene)"
   ]
  },
  {
   "cell_type": "code",
   "execution_count": 19,
   "id": "99f73cd5-1a12-4ae5-869d-e62042e19659",
   "metadata": {},
   "outputs": [],
   "source": [
    "#use anova in each batch, per group, and rank genes based on F \n",
    "anova_group_batch_105199<-list()\n",
    "\n",
    "for(g in names (count_df_norm_m_batch_105199)){\n",
    "    \n",
    "    test<-count_df_norm_m_batch_105199[[g]]\n",
    "    test_r<-aov(test$norm.expression~test$group)\n",
    "    test_r<-summary(test_r)\n",
    "    test_r<-test_r[[1]][1,4]\n",
    "    \n",
    "    anova_group_batch_105199[[g]]<-test_r\n",
    "}\n",
    "anova_group_batch_105199<-as.data.frame(do.call(rbind,anova_group_batch_105199))\n",
    "anova_group_batch_105199$Gene<-rownames(anova_group_batch_105199)\n",
    "colnames(anova_group_batch_105199)<-c(\"F\",\"Gene\")\n",
    "\n",
    "anova_group_batch_105199$rank<-rank(anova_group_batch_105199$F)\n",
    "\n",
    "anova_group_batch_105586<-list()\n",
    "\n",
    "for(g in names (count_df_norm_m_batch_105586)){\n",
    "    \n",
    "    test<-count_df_norm_m_batch_105586[[g]]\n",
    "    test_r<-aov(test$norm.expression~test$group)\n",
    "    test_r<-summary(test_r)\n",
    "    test_r<-test_r[[1]][1,4]\n",
    "    \n",
    "    anova_group_batch_105586[[g]]<-test_r\n",
    "}\n",
    "anova_group_batch_105586<-as.data.frame(do.call(rbind,anova_group_batch_105586))\n",
    "anova_group_batch_105586$Gene<-rownames(anova_group_batch_105586)\n",
    "colnames(anova_group_batch_105586)<-c(\"F\",\"Gene\")\n",
    "\n",
    "anova_group_batch_105586$rank<-rank(anova_group_batch_105586$F)\n",
    "\n",
    "\n",
    "anova_group_batch_106319<-list()\n",
    "\n",
    "for(g in names (count_df_norm_m_batch_106319)){\n",
    "    \n",
    "    test<-count_df_norm_m_batch_106319[[g]]\n",
    "    test_r<-aov(test$norm.expression~test$group)\n",
    "    test_r<-summary(test_r)\n",
    "    test_r<-test_r[[1]][1,4]\n",
    "    \n",
    "    anova_group_batch_106319[[g]]<-test_r\n",
    "}\n",
    "anova_group_batch_106319<-as.data.frame(do.call(rbind,anova_group_batch_106319))\n",
    "anova_group_batch_106319$Gene<-rownames(anova_group_batch_106319)\n",
    "colnames(anova_group_batch_106319)<-c(\"F\",\"Gene\")\n",
    "\n",
    "anova_group_batch_106319$rank<-rank(anova_group_batch_106319$F)"
   ]
  },
  {
   "cell_type": "code",
   "execution_count": 20,
   "id": "8df47699-e923-428f-b794-37caf38d3f25",
   "metadata": {},
   "outputs": [],
   "source": [
    "#select negative controls per sequencing project\n",
    "\n",
    "negative_control_group_batch_105199<-anova_group_batch_105199[anova_group_batch_105199$rank<2000,\"Gene\"]\n",
    "negative_control_group_batch_105586<-anova_group_batch_105586[anova_group_batch_105586$rank<2000,\"Gene\"]\n",
    "negative_control_group_batch_106319<-anova_group_batch_106319[anova_group_batch_106319$rank<2000,\"Gene\"]"
   ]
  },
  {
   "cell_type": "code",
   "execution_count": null,
   "id": "3018ea94-5045-4e8e-bc8c-f8ee46b51b83",
   "metadata": {},
   "outputs": [],
   "source": [
    "max(anova_group_batch_105586$F, na.rm = TRUE)"
   ]
  },
  {
   "cell_type": "code",
   "execution_count": 21,
   "id": "335a4dd1-7fba-409f-a168-331227f51c4e",
   "metadata": {},
   "outputs": [
    {
     "data": {
      "text/html": [
       "89"
      ],
      "text/latex": [
       "89"
      ],
      "text/markdown": [
       "89"
      ],
      "text/plain": [
       "[1] 89"
      ]
     },
     "metadata": {},
     "output_type": "display_data"
    }
   ],
   "source": [
    "#Find the intersection of all three vectors\n",
    "negative.control.genes <- Reduce(intersect, list(negative_control_group_batch_105199, \n",
    "                                                 negative_control_group_batch_105586, \n",
    "                                                 negative_control_group_batch_106319))\n",
    "length(negative.control.genes)"
   ]
  },
  {
   "cell_type": "code",
   "execution_count": 22,
   "id": "fcde1c97-fbcc-40da-b0bb-60943287252c",
   "metadata": {},
   "outputs": [],
   "source": [
    "write.csv(negative.control.genes,\"negative.control.genes_rank2000.csv\")"
   ]
  },
  {
   "cell_type": "code",
   "execution_count": 23,
   "id": "037983d8-6de3-4816-bec8-d4cdc14729ab",
   "metadata": {},
   "outputs": [],
   "source": [
    "rownames(samples_info)<-samples_info$sample"
   ]
  },
  {
   "cell_type": "code",
   "execution_count": 24,
   "id": "3bba0b37-ee8a-463a-b389-3ce543e617f5",
   "metadata": {},
   "outputs": [],
   "source": [
    "samples.to.use_105199_105586<-samples_info$sample[samples_info$group==\"EHMT1_CR\"]\n",
    "samples.to.use_106319<-samples_info$sample[samples_info$group ==\"WTC\"]\n",
    "\n",
    "samples.to.use<-c(samples.to.use_105199_105586,samples.to.use_106319)\n"
   ]
  },
  {
   "cell_type": "code",
   "execution_count": 25,
   "id": "c709e2aa-6ebc-4112-8806-1d14e0ba81da",
   "metadata": {},
   "outputs": [
    {
     "name": "stderr",
     "output_type": "stream",
     "text": [
      "PRPS are generated for batch effects\n",
      "\n"
     ]
    },
    {
     "name": "stdout",
     "output_type": "stream",
     "text": [
      "[1] \"PRPS is not generated for librray size effects\"\n",
      "[1] \"PRPS is not generated for purity effects\"\n"
     ]
    }
   ],
   "source": [
    "read.prps<-.CreatePseudoSamplesForLsPurityBatch(\n",
    "  expr.data = count_matrix[ , samples.to.use],\n",
    "    sample.info = droplevels(samples_info[samples.to.use , ]),\n",
    "                           \n",
    "  batch = 'project',\n",
    "  biology ='group',\n",
    "  purity = FALSE,\n",
    "  include.ls = FALSE,\n",
    "  include.purity = FALSE,\n",
    "  minSamplesPerBatchPS = 3,\n",
    "  minSamplesForPurityPerBiology = 12,\n",
    "  minSamplesForPurityPS = 3,\n",
    "  minSamplesForLibrarySizePerBatch = 12,\n",
    "  minSamplesForLibrarySizePS = 3)"
   ]
  },
  {
   "cell_type": "code",
   "execution_count": 26,
   "id": "b5bb0c3f-a34f-492a-99ad-88be7fe0fd0e",
   "metadata": {},
   "outputs": [],
   "source": [
    "### prps\n",
    "prps.batch <- read.prps$ps.batch\n",
    "# Remove everything after the last underscore in the column names\n",
    "colnames(prps.batch) <- sub(\"_[^_]*$\", \"\", colnames(prps.batch))\n"
   ]
  },
  {
   "cell_type": "code",
   "execution_count": 27,
   "id": "bbdd4e31-f43b-4eaf-811e-4134b65f50ab",
   "metadata": {},
   "outputs": [],
   "source": [
    "Y <-  cbind(count_matrix,prps.batch)\n",
    "Y_voom<-voom(Y)$E"
   ]
  },
  {
   "cell_type": "code",
   "execution_count": 28,
   "id": "03d4ad4b-919f-4908-94ba-1ba2e7532d16",
   "metadata": {},
   "outputs": [],
   "source": [
    "### ruv input data\n",
    "Y_voom <-  t(Y_voom)\n",
    "### replicate matrix\n",
    "M <- ruv::replicate.matrix(\n",
    "  colnames(Y))\n",
    "write.csv(M,\"M.csv\")"
   ]
  },
  {
   "cell_type": "code",
   "execution_count": 29,
   "id": "840251d9-b1d5-4b74-94d8-56efd19c8eb2",
   "metadata": {},
   "outputs": [],
   "source": [
    "ctl<-colnames(Y_voom) %in% negative.control.genes\n",
    "\n",
    "ruviii.norm_voom  <-t(ruv::RUVIII(\n",
    "  Y = Y_voom,\n",
    "  M = M,\n",
    "  ctl = ctl,\n",
    "  k = 1,\n",
    "  eta = NULL,\n",
    "  return.info = TRUE)$newY)\n",
    "ruviii.norm_voom<-as.data.frame(ruviii.norm_voom)[1:length(count_matrix)]"
   ]
  },
  {
   "cell_type": "code",
   "execution_count": 30,
   "id": "1242ecd5-8c22-43fd-9552-fd0c05d1e9a4",
   "metadata": {},
   "outputs": [],
   "source": [
    "#head(ruviii.norm_voom)\n",
    "ruviii.norm_voom_write<-ruviii.norm_voom\n",
    "ruviii.norm_voom_write$Gene<-rownames(ruviii.norm_voom_write)"
   ]
  },
  {
   "cell_type": "code",
   "execution_count": 31,
   "id": "9eb9369d-5de6-43f1-9e13-ef149b1772d7",
   "metadata": {},
   "outputs": [],
   "source": [
    "#write.table(ruviii.norm_voom_write, \"ruviii.2000.norm_voom.txt\",row.names = FALSE, quote = FALSE)"
   ]
  },
  {
   "cell_type": "code",
   "execution_count": 56,
   "id": "82576038-4e21-4b23-97fe-2331bb06c001",
   "metadata": {},
   "outputs": [],
   "source": [
    "ruviii.norm_voom<-read.table(\"ruviii.2000.norm_voom.txt\")\n",
    "rownames(ruviii.norm_voom)<-ruviii.norm_voom$Gene\n",
    "\n",
    "#replace \".\" to \"-\" for colnames\n",
    "colnames_counts<-colnames(ruviii.norm_voom)\n",
    "colnames_counts<-gsub(\"\\\\.\", \"-\", colnames_counts)\n",
    "colnames_counts<-str_replace_all(colnames_counts, \"SMARCB1_KSS_CRISPR\", \"SMARCB1_KSS-CRISPR\")\n",
    "colnames(ruviii.norm_voom)<-colnames_counts\n",
    "ruviii.norm_voom<-ruviii.norm_voom[-length(ruviii.norm_voom)]"
   ]
  },
  {
   "cell_type": "code",
   "execution_count": 57,
   "id": "0e5050a2-08c5-4cd4-b015-d3603a6b031f",
   "metadata": {},
   "outputs": [
    {
     "name": "stderr",
     "output_type": "stream",
     "text": [
      "Warning message:\n",
      "\"\u001b[1m\u001b[22mNo shared levels found between `names(values)` of the manual scale and the data's \u001b[32mcolour\u001b[39m values.\"\n",
      "Warning message:\n",
      "\"\u001b[1m\u001b[22mNo shared levels found between `names(values)` of the manual scale and the data's \u001b[32mcolour\u001b[39m values.\"\n"
     ]
    },
    {
     "data": {
      "image/png": "[encoded data removed]",
      "text/plain": [
       "plot without title"
      ]
     },
     "metadata": {
      "image/png": {
       "height": 420,
       "width": 420
      }
     },
     "output_type": "display_data"
    }
   ],
   "source": [
    "#check PCA with ruviii.norm_voom\n",
    "\n",
    "# Perform PCA\n",
    "pca_result <- prcomp(t(ruviii.norm_voom), center = TRUE, scale. = TRUE)\n",
    "pca_pc_metrics<-as.data.frame(pca_result$x)\n",
    "pca_pc_metrics$sample<-rownames(pca_pc_metrics)\n",
    "pca_pc_metrics<-inner_join(pca_pc_metrics,samples_info, by=\"sample\")\n",
    "\n",
    "summ <- summary(pca_result)\n",
    "summ_var<-summ$importance[2,]\n",
    "summ_var<-unname(summ_var[1:50])\n",
    "plot(summ_var*100)\n",
    "\n",
    "\n",
    "\n",
    "var_explained =round((pca_result$sdev^2 / sum(pca_result$sdev^2))*100,2)\n",
    "\n",
    "pca_pc_metrics$project <- as.factor(pca_pc_metrics$project)\n",
    "pca_pc_metrics$group <- as.factor(pca_pc_metrics$group)\n",
    "pca_pc_metrics$cell_line<-factor(pca_pc_metrics$cell_line_v2, levels=pca_pc_metrics$order)#, levels=pca_pc_metrics$order\n",
    "\n",
    "shape_project <- c(\"S105199\" = 21, \"S105586\" = 22,\"S106319\"=23)\n",
    "\n",
    "\n",
    "\n",
    "p <- ggplot(pca_pc_metrics, aes(PC1, PC2)) +\n",
    "  # First layer: Points with fill and shape, but no border\n",
    "  geom_point(\n",
    "    size = 5, \n",
    "    aes(color = group,shape = project,fill = cell_line), \n",
    "    show.legend = TRUE  # Ensure fill and shape legends are shown\n",
    "  ) + \n",
    " scale_fill_manual(values = color_vector_cell_line) +  # Color scale for 'fill'\n",
    "  scale_color_manual(values = color_vector_cell_line) +  # Black border color\n",
    "  # Second layer: Black border without fill\n",
    "  geom_point(\n",
    "    size = 5, \n",
    "    aes(shape = project),color=\"black\",  # Black border, no fill\n",
    "    stroke = 1,  # Adjust border thickness if needed\n",
    "    show.legend = FALSE  # Do not show color legend again\n",
    "  ) +\n",
    " \n",
    "  scale_shape_manual(values = shape_project) +  # Shape scale for 'project'\n",
    "  theme_minimal() +\n",
    "  xlab(paste0(\"PC1: \", var_explained[1], \"%\")) +\n",
    "  ylab(paste0(\"PC2: \", var_explained[2], \"%\")) +   \n",
    "   geom_text(aes(label = Well_ID))  # Avoid overlapping text labels\n",
    "\n",
    "\n",
    "# Save the plot\n",
    "ggsave(\"PCA_PRPS_cell_line_rank2000.pdf\",bg = \"transparent\",\n",
    "       width = 5.3,   # inches\n",
    "                  height = 5,\n",
    "                   plot=p\n",
    "      )\n"
   ]
  },
  {
   "cell_type": "code",
   "execution_count": 58,
   "id": "f014e7bc-5e41-4322-9be2-df1faf742027",
   "metadata": {},
   "outputs": [],
   "source": [
    "custom.config <- umap.defaults\n",
    "custom.config$random_state <- 123"
   ]
  },
  {
   "cell_type": "code",
   "execution_count": 59,
   "id": "b51fc223-3e95-49d2-9268-1d5200ecc3f0",
   "metadata": {},
   "outputs": [],
   "source": [
    "#umap with shape\n",
    "rownames(pca_pc_metrics)<-pca_pc_metrics$sample\n",
    "for (n in 13){\n",
    "    n.components=n\n",
    "    umap_m<-pca_pc_metrics[1:n.components]\n",
    "    umap_fit <- umap_m %>%\n",
    "      dplyr::select(where(is.numeric)) %>%  # Select only numeric columns\n",
    "      umap(config = custom.config)  # Run UMAP with the custom configuration\n",
    "    umap_df <- as.data.frame(umap_fit$layout)\n",
    "    umap_df$sample<-rownames(umap_df)\n",
    "    colnames(umap_df)<-c(\"UMAP1\",\"UMAP2\",\"sample\")\n",
    "    umap_df<-inner_join(umap_df, samples_info, by=\"sample\")\n",
    "    umap_df$cell_line<-factor(umap_df$cell_line_v2, levels=samples_info$order)\n",
    "\n",
    "  \n",
    "    p <- ggplot(umap_df, aes(UMAP1, UMAP2)) +\n",
    "      # First layer: Points with fill and shape, but no border\n",
    "      geom_point(\n",
    "        size = 5, \n",
    "        aes(color = cell_line,shape = project,fill = cell_line), \n",
    "        show.legend = TRUE  # Ensure fill and shape legends are shown\n",
    "      ) + \n",
    "     scale_fill_manual(values = color_vector_cell_line) +  # Color scale for 'fill'\n",
    "      scale_color_manual(values = color_vector_cell_line) +  # Black border color\n",
    "      # Second layer: Black border without fill\n",
    "      geom_point(\n",
    "        size = 5, \n",
    "        aes(shape = project),color=\"black\",  # Black border, no fill\n",
    "        stroke = 1,  # Adjust border thickness if needed\n",
    "        show.legend = FALSE  # Do not show color legend again\n",
    "      ) +\n",
    "     \n",
    "      scale_shape_manual(values = shape_project) +  # Shape scale for 'project'\n",
    "      theme_minimal() +\n",
    "             geom_text(aes(label = Well_ID))  # Avoid overlapping text labels\n",
    "    \n",
    "\n",
    "    ggsave(paste0('UMAP_PCA_PRPS_cell_line_labels_PC',n.components,'.pdf'),\n",
    "                  width = 5.3,   # inches\n",
    "                  height = 5,\n",
    "                   plot=p# inches\n",
    "    )\n",
    "    \n",
    "}"
   ]
  },
  {
   "cell_type": "code",
   "execution_count": null,
   "id": "d3f54c9b-af57-428a-8001-eeb43234ea46",
   "metadata": {},
   "outputs": [],
   "source": [
    "##normalization to control, only for neuronal data"
   ]
  }
 ],
 "metadata": {
  "kernelspec": {
   "display_name": "R 4.2.1 (native)",
   "language": "R",
   "name": "ir421_native"
  },
  "language_info": {
   "codemirror_mode": "r",
   "file_extension": ".r",
   "mimetype": "text/x-r-source",
   "name": "R",
   "pygments_lexer": "r",
   "version": "4.2.1"
  }
 },
 "nbformat": 4,
 "nbformat_minor": 5
}
