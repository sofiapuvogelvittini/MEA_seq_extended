{
 "cells": [
  {
   "cell_type": "code",
   "execution_count": 1,
   "id": "67bece7c-e787-448a-9a36-6f2911291411",
   "metadata": {},
   "outputs": [
    {
     "name": "stderr",
     "output_type": "stream",
     "text": [
      "Warning message:\n",
      "\"package 'ggrepel' was built under R version 4.2.3\"\n",
      "Warning message:\n",
      "\"package 'WGCNA' was built under R version 4.2.3\"\n",
      "Loading required package: dynamicTreeCut\n",
      "\n",
      "Loading required package: fastcluster\n",
      "\n",
      "Warning message:\n",
      "\"package 'fastcluster' was built under R version 4.2.3\"\n",
      "\n",
      "Attaching package: 'fastcluster'\n",
      "\n",
      "\n",
      "The following object is masked from 'package:stats':\n",
      "\n",
      "    hclust\n",
      "\n",
      "\n",
      "\n",
      "\n",
      "\n",
      "Attaching package: 'WGCNA'\n",
      "\n",
      "\n",
      "The following object is masked from 'package:stats':\n",
      "\n",
      "    cor\n",
      "\n",
      "\n",
      "Warning message:\n",
      "\"package 'tidyverse' was built under R version 4.2.3\"\n",
      "Warning message:\n",
      "\"package 'tibble' was built under R version 4.2.3\"\n",
      "Warning message:\n",
      "\"package 'tidyr' was built under R version 4.2.3\"\n",
      "Warning message:\n",
      "\"package 'readr' was built under R version 4.2.3\"\n",
      "Warning message:\n",
      "\"package 'purrr' was built under R version 4.2.3\"\n",
      "Warning message:\n",
      "\"package 'dplyr' was built under R version 4.2.3\"\n",
      "Warning message:\n",
      "\"package 'stringr' was built under R version 4.2.3\"\n",
      "Warning message:\n",
      "\"package 'forcats' was built under R version 4.2.3\"\n",
      "Warning message:\n",
      "\"package 'lubridate' was built under R version 4.2.3\"\n",
      "── \u001b[1mAttaching core tidyverse packages\u001b[22m ──────────────────────────────────────────────────────────────── tidyverse 2.0.0 ──\n",
      "\u001b[32m✔\u001b[39m \u001b[34mdplyr    \u001b[39m 1.1.2     \u001b[32m✔\u001b[39m \u001b[34mreadr    \u001b[39m 2.1.5\n",
      "\u001b[32m✔\u001b[39m \u001b[34mforcats  \u001b[39m 1.0.0     \u001b[32m✔\u001b[39m \u001b[34mstringr  \u001b[39m 1.5.1\n",
      "\u001b[32m✔\u001b[39m \u001b[34mlubridate\u001b[39m 1.9.3     \u001b[32m✔\u001b[39m \u001b[34mtibble   \u001b[39m 3.2.1\n",
      "\u001b[32m✔\u001b[39m \u001b[34mpurrr    \u001b[39m 1.0.2     \u001b[32m✔\u001b[39m \u001b[34mtidyr    \u001b[39m 1.3.1\n",
      "── \u001b[1mConflicts\u001b[22m ────────────────────────────────────────────────────────────────────────────────── tidyverse_conflicts() ──\n",
      "\u001b[31m✖\u001b[39m \u001b[34mdplyr\u001b[39m::\u001b[32mfilter()\u001b[39m masks \u001b[34mstats\u001b[39m::filter()\n",
      "\u001b[31m✖\u001b[39m \u001b[34mdplyr\u001b[39m::\u001b[32mlag()\u001b[39m    masks \u001b[34mstats\u001b[39m::lag()\n",
      "\u001b[36mℹ\u001b[39m Use the conflicted package (\u001b[3m\u001b[34m<http://conflicted.r-lib.org/>\u001b[39m\u001b[23m) to force all conflicts to become errors\n",
      "\n",
      "Attaching package: 'gridExtra'\n",
      "\n",
      "\n",
      "The following object is masked from 'package:dplyr':\n",
      "\n",
      "    combine\n",
      "\n",
      "\n",
      "Warning message:\n",
      "\"package 'gprofiler2' was built under R version 4.2.3\"\n",
      "\n",
      "Attaching package: 'reshape2'\n",
      "\n",
      "\n",
      "The following object is masked from 'package:tidyr':\n",
      "\n",
      "    smiths\n",
      "\n",
      "\n"
     ]
    }
   ],
   "source": [
    "library(ggplot2)\n",
    "library(ggrepel)\n",
    "library(WGCNA)\n",
    "library(tidyverse)\n",
    "library(CorLevelPlot)\n",
    "library(gridExtra)\n",
    "library(gprofiler2)\n",
    "library(ggpubr)\n",
    "library(reshape2)"
   ]
  },
  {
   "cell_type": "code",
   "execution_count": 2,
   "id": "5f8fe763-56da-447f-b35c-56d9872f8595",
   "metadata": {},
   "outputs": [],
   "source": [
    "setwd(\"T:/PIgroup Nael NadifKasri/Sofia/2025/MEA_seq_patient/Analysis/RNA-seq/PRPS_integration_neurons/WGCNA\")"
   ]
  },
  {
   "cell_type": "code",
   "execution_count": null,
   "id": "343f2852-57a9-471b-bc19-4159d83dc47e",
   "metadata": {},
   "outputs": [],
   "source": [
    "mea_traits<-read.csv('T:/PIgroup Nael NadifKasri/RNAseq/Analysis_2024/MEAseq_all/Output/PRPS_integration/normalized_control/MEA/PC9/hier/7/patients_normalized_hier.csv')\n",
    "mea_traits<-mea_traits[-1]\n",
    "mea_seq_samples<-mea_traits$sample\n",
    "rownames(mea_traits)<-mea_traits$sample\n",
    "mea_traits_noMeta <- mea_traits %>% dplyr::select(where(is.numeric))#mea_seq_samples<-rownames(mea_traits_noMeta)"
   ]
  },
  {
   "cell_type": "code",
   "execution_count": 3,
   "id": "1e551a3e-7b79-44b5-b901-080c8cf47fd3",
   "metadata": {},
   "outputs": [],
   "source": [
    "norm_df<-read.table(\"T:/PIgroup Nael NadifKasri/Sofia/2025/MEA_seq_patient/Analysis/RNA-seq/PRPS_integration_neurons/PRPS_voom_norm_control.txt\")\n",
    "norm_df_samples<-gsub(\"\\\\.\", \"-\", colnames(norm_df))\n",
    "colnames(norm_df)<-norm_df_samples"
   ]
  },
  {
   "cell_type": "code",
   "execution_count": 4,
   "id": "4135722d-7dfd-4948-a06f-a1b9885a2aad",
   "metadata": {},
   "outputs": [],
   "source": [
    "samples_info<-read.csv(\"T:/PIgroup Nael NadifKasri/Sofia/2025/MEA_seq_patient/Code/0.Data/RNAseq_data/samples_info.csv\")\n",
    "samples_info$Well_ID <- sub(\".*_\", \"\", samples_info$sample)\n",
    "rownames(samples_info)<-samples_info$sample"
   ]
  },
  {
   "cell_type": "code",
   "execution_count": 7,
   "id": "be85915b-567c-4c03-a2e7-90d1dca0d6ea",
   "metadata": {},
   "outputs": [
    {
     "name": "stdout",
     "output_type": "stream",
     "text": [
      " Flagging genes and samples with too many missing values...\n",
      "  ..step 1\n"
     ]
    },
    {
     "data": {
      "text/plain": [
       "            Length Class  Mode   \n",
       "goodGenes   20548  -none- logical\n",
       "goodSamples    38  -none- logical\n",
       "allOK           1  -none- logical"
      ]
     },
     "metadata": {},
     "output_type": "display_data"
    },
    {
     "data": {
      "text/html": [
       "TRUE"
      ],
      "text/latex": [
       "TRUE"
      ],
      "text/markdown": [
       "TRUE"
      ],
      "text/plain": [
       "[1] TRUE"
      ]
     },
     "metadata": {},
     "output_type": "display_data"
    },
    {
     "data": {
      "text/plain": [
       "\n",
       " TRUE \n",
       "20548 "
      ]
     },
     "metadata": {},
     "output_type": "display_data"
    },
    {
     "data": {
      "text/plain": [
       "\n",
       "TRUE \n",
       "  38 "
      ]
     },
     "metadata": {},
     "output_type": "display_data"
    }
   ],
   "source": [
    "gsg <- goodSamplesGenes(t(norm_df))\n",
    "summary(gsg)\n",
    "\n",
    "gsg$allOK\n",
    "\n",
    "table(gsg$goodGenes)\n",
    "table(gsg$goodSamples)"
   ]
  },
  {
   "cell_type": "code",
   "execution_count": 8,
   "id": "55751ae3-45b7-4db2-a566-8222262dea04",
   "metadata": {},
   "outputs": [],
   "source": [
    "norm_df <- norm_df[gsg$goodGenes == TRUE,]\n"
   ]
  },
  {
   "cell_type": "code",
   "execution_count": 9,
   "id": "9b3c68cb-e66c-4411-aba1-f730778d41b3",
   "metadata": {},
   "outputs": [
    {
     "data": {
      "image/png": "[encoded data removed]",
      "text/plain": [
       "Plot with title \"Cluster Dendrogram\""
      ]
     },
     "metadata": {
      "image/png": {
       "height": 420,
       "width": 420
      }
     },
     "output_type": "display_data"
    }
   ],
   "source": [
    "htree <- hclust(dist(t(norm_df)), method = \"complete\")\n",
    "plot(htree)"
   ]
  },
  {
   "cell_type": "code",
   "execution_count": 10,
   "id": "263b93e4-9ac1-4b1c-b35b-524d773a0fb0",
   "metadata": {},
   "outputs": [],
   "source": [
    "norm.counts<-t(norm_df)"
   ]
  },
  {
   "cell_type": "code",
   "execution_count": null,
   "id": "677a43af-9b60-436a-96ad-5c291818259f",
   "metadata": {},
   "outputs": [],
   "source": [
    "# 4. Network Construction  ---------------------------------------------------\n",
    "# Choose a set of soft-thresholding powers\n",
    "power <- c(c(1:10), seq(from = 12, to = 50, by = 2))\n",
    "\n",
    "# Call the network topology analysis function\n",
    "sft <- pickSoftThreshold(norm.counts,\n",
    "                  powerVector = power,\n",
    "                  networkType = \"signed\",\n",
    "                  verbose = 5)\n",
    "sft.data <- sft$fitIndices"
   ]
  },
  {
   "cell_type": "code",
   "execution_count": null,
   "id": "70d1b207-6015-4b68-ad22-1d4010727d15",
   "metadata": {},
   "outputs": [],
   "source": [
    "#visualization to pick power\n",
    "\n",
    "a1 <- ggplot(sft.data, aes(Power, SFT.R.sq, label = Power)) +\n",
    "  geom_point() +\n",
    "  geom_text(nudge_y = 0.1) +\n",
    "  geom_hline(yintercept = 0.8, color = 'red') +\n",
    "  labs(x = 'Power', y = 'Scale free topology model fit, signed R^2') +\n",
    "  theme_classic()\n",
    "\n",
    "\n",
    "a2 <- ggplot(sft.data, aes(Power, mean.k., label = Power)) +\n",
    "  geom_point() +\n",
    "  geom_text(nudge_y = 0.1) +\n",
    "  labs(x = 'Power', y = 'Mean Connectivity') +\n",
    "  theme_classic()\n",
    "  \n",
    "\n",
    "grid.arrange(a1, a2, nrow = 2)"
   ]
  },
  {
   "cell_type": "code",
   "execution_count": null,
   "id": "65a5f76e-cbb3-408a-aeb7-0d9e41a78555",
   "metadata": {},
   "outputs": [],
   "source": [
    "blockSize<-length(norm.counts[1,])+1\n",
    "blockSize"
   ]
  },
  {
   "cell_type": "code",
   "execution_count": null,
   "id": "7295cf40-7ae9-40b1-a72e-159dd119b7b9",
   "metadata": {},
   "outputs": [],
   "source": [
    "temp_cor <- cor\n",
    "cor <- WGCNA::cor\n",
    "sum(is.na(colnames(norm.counts)))\n",
    "sum(is.na(norm.counts))\n",
    "str(norm.counts)"
   ]
  },
  {
   "cell_type": "code",
   "execution_count": null,
   "id": "17de25d3-b93e-4e0a-9a44-b6075e785877",
   "metadata": {},
   "outputs": [],
   "source": [
    "# memory estimate w.r.t blocksize\n",
    "soft_power <- 16 #then try 16 maybe? \n",
    "\n",
    "bwnet <- blockwiseModules(norm.counts,\n",
    "                 maxBlockSize = blockSize,\n",
    "                 TOMType = \"signed\",\n",
    "                    networkType =\"signed\",\n",
    "               # corType=\"bicor\",\n",
    "                 power = soft_power,\n",
    "                 mergeCutHeight = 0.25,\n",
    "                 numericLabels = FALSE,\n",
    "                 randomSeed = 1234,\n",
    "                 verbose = 3)\n"
   ]
  },
  {
   "cell_type": "code",
   "execution_count": null,
   "id": "2eacee96-7e14-4c1e-91f6-1fd36d53dbad",
   "metadata": {},
   "outputs": [],
   "source": [
    "setwd(\"T:/PIgroup Nael NadifKasri/RNAseq/Analysis_2024/MEAseq_all/Output/PRPS_integration/normalized_control_substract/WGCNA/sp16\")"
   ]
  },
  {
   "cell_type": "code",
   "execution_count": null,
   "id": "b188710b-8d88-4d43-8018-0201b6844d12",
   "metadata": {},
   "outputs": [],
   "source": [
    "cor <- temp_cor\n",
    "\n",
    "\n",
    "# 5. Module Eigengenes ---------------------------------------------------------\n",
    "module_eigengenes <- bwnet$MEs\n",
    "\n",
    "\n",
    "# Print out a preview\n",
    "head(module_eigengenes)"
   ]
  },
  {
   "cell_type": "code",
   "execution_count": null,
   "id": "86c61080-08e8-47d7-96fc-8cbd7b9bcc52",
   "metadata": {},
   "outputs": [],
   "source": [
    "write.csv(module_eigengenes, \"module_eigengenes_NT_signed_sp16.csv\")"
   ]
  },
  {
   "cell_type": "code",
   "execution_count": null,
   "id": "8cd83143-2205-45de-b975-28a3ca9d85a7",
   "metadata": {},
   "outputs": [],
   "source": [
    "# get number of genes for each module\n",
    "table(bwnet$colors)\n",
    "\n",
    "# Plot the dendrogram and the module colors before and after merging underneath\n",
    "p<-plotDendroAndColors(bwnet$dendrograms[[1]], cbind(bwnet$unmergedColors, bwnet$colors),\n",
    "                    c(\"unmerged\", \"merged\"),\n",
    "                    dendroLabels = FALSE,\n",
    "                    addGuide = TRUE,\n",
    "                    hang= 0.03,\n",
    "                    guideHang = 0.05)\n",
    "p\n",
    "\n",
    "\n",
    "png(\"dendrogram_modules_sp16.png\", width=6, height=4, units=\"in\", res=400)\n",
    "plotDendroAndColors(bwnet$dendrograms[[1]], cbind(bwnet$unmergedColors, bwnet$colors),\n",
    "                    c(\"unmerged\", \"merged\"),\n",
    "                    dendroLabels = FALSE,\n",
    "                    addGuide = TRUE,\n",
    "                    hang= 0.03,\n",
    "                    guideHang = 0.05)\n",
    "\n",
    "dev.off()\n",
    "\n",
    "# grey module = all genes that doesn't fall into other modules were assigned to the grey module\n",
    "write.csv(table(bwnet$colors),\"number_of_genes_per_merged_modules_sp16.csv\")"
   ]
  },
  {
   "cell_type": "code",
   "execution_count": null,
   "id": "0a9628d4-b9ad-45ff-9b55-29703594bd5f",
   "metadata": {},
   "outputs": [],
   "source": [
    "genes_modules<-as.data.frame(bwnet$colors)\n",
    "genes_modules$gene<-rownames(genes_modules)\n",
    "names(genes_modules)<-c(\"module\",\"gene\")"
   ]
  },
  {
   "cell_type": "code",
   "execution_count": null,
   "id": "bf8b93c4-0512-48d4-854b-3759ae5cdd87",
   "metadata": {},
   "outputs": [],
   "source": [
    "write.csv(genes_modules,\"genes_modules_sp16.csv\")"
   ]
  },
  {
   "cell_type": "code",
   "execution_count": null,
   "id": "db4df9a7-1a0d-4ef2-a514-17b586415d19",
   "metadata": {},
   "outputs": [],
   "source": [
    "mea_traits$sample"
   ]
  },
  {
   "cell_type": "code",
   "execution_count": null,
   "id": "6080e3fd-980b-4d4e-9994-b3dc5c67c27e",
   "metadata": {},
   "outputs": [],
   "source": [
    "length(mea_traits$sample)"
   ]
  },
  {
   "cell_type": "code",
   "execution_count": null,
   "id": "ac6f689a-d118-43c4-bc1b-96c2c7affc20",
   "metadata": {},
   "outputs": [],
   "source": [
    "module_eigengenes_ex<-module_eigengenes[mea_seq_samples,]"
   ]
  },
  {
   "cell_type": "code",
   "execution_count": null,
   "id": "df592a45-787d-4618-9fd5-628147554976",
   "metadata": {},
   "outputs": [],
   "source": [
    "#check some correlations beside the BN?"
   ]
  },
  {
   "cell_type": "code",
   "execution_count": null,
   "id": "061bdbc4-f486-4b8e-880e-72415a85551e",
   "metadata": {},
   "outputs": [],
   "source": [
    "# Define numbers of genes and samples\n",
    "nModules <- ncol(module_eigengenes_ex)\n",
    "nMetrics <- ncol(mea_traits_noMeta)\n",
    "numb_of_traits=length(mea_traits_noMeta)\n",
    "#module.trait.corr <- cor(module_eigengenes_ex, mea_traits_noMeta, use = 'p')#first see pearson, which is more \"strict\". No significant\n",
    "module.trait.corr <- cor(module_eigengenes_ex, mea_traits_noMeta, method = 'spearman')\n",
    "nModules\n",
    "nMetrics"
   ]
  },
  {
   "cell_type": "code",
   "execution_count": null,
   "id": "0a60f6f7-a583-4d78-a81a-a0bf4c03c521",
   "metadata": {},
   "outputs": [],
   "source": [
    "#sapply(seq.int(dim(module_eigengenes_ex)[1]), function(i) cor.test(module_eigengenes_ex[i,], mea_traits_noMeta[i,], method = 'spearman'))\n",
    "est_list<-list()\n",
    "pval_list<-list()\n",
    "for (i in 1:nMetrics){\n",
    "    est <- c()\n",
    "    p <- c()\n",
    "    for (j in 1:nModules){\n",
    "    s_corr<-cor.test(mea_traits_noMeta[[i]],module_eigengenes_ex[[j]],method = 'spearman',exact = FALSE)\n",
    "    p_val<-s_corr$p.value\n",
    "    estimate<-unname(s_corr$estimate)\n",
    "     est[j]<- estimate  \n",
    "     p[j]<- p_val  \n",
    "    }\n",
    "    est_list[[i]]<-est\n",
    "    pval_list[[i]]<-p\n",
    "    }\n",
    "names(est_list)<-colnames(mea_traits_noMeta)\n",
    "names(pval_list)<-colnames(mea_traits_noMeta)"
   ]
  },
  {
   "cell_type": "code",
   "execution_count": null,
   "id": "3c20bfa6-64a4-4e73-8834-99b27eab2aa2",
   "metadata": {},
   "outputs": [],
   "source": [
    "est_list<-do.call(cbind,est_list)\n",
    "pval_list<-do.call(cbind,pval_list)\n",
    "rownames(est_list)<-colnames(module_eigengenes_ex)\n",
    "rownames(pval_list)<-colnames(module_eigengenes_ex)\n",
    "all_adj<-round(p.adjust(c(pval_list), method =\"fdr\", n = length(c(pval_list))),3)\n",
    "all_adj<-split(all_adj,ceiling(seq_along(all_adj) / nModules))\n",
    "all_adj<-as.data.frame(t(do.call(rbind, all_adj)))\n",
    "rownames(all_adj)<-rownames(pval_list)\n",
    "colnames(all_adj)<-colnames(pval_list)\n",
    "all_adj<-as.matrix(all_adj)"
   ]
  },
  {
   "cell_type": "code",
   "execution_count": null,
   "id": "51cda3b6-459c-4df9-b5d9-ec5938aaaca2",
   "metadata": {},
   "outputs": [],
   "source": [
    "sum(all_adj < 0.05) > 0"
   ]
  },
  {
   "cell_type": "code",
   "execution_count": null,
   "id": "04647e1c-04f1-4ff4-859f-7669b7953f1b",
   "metadata": {},
   "outputs": [],
   "source": [
    "#see first with all_adj!"
   ]
  },
  {
   "cell_type": "code",
   "execution_count": null,
   "id": "6812ed04-26f8-4015-a465-591591043f47",
   "metadata": {},
   "outputs": [],
   "source": [
    "all_adj[\"MEturquoise\",]"
   ]
  },
  {
   "cell_type": "code",
   "execution_count": null,
   "id": "1fd21708-782f-47ae-a63b-c50a940fad1e",
   "metadata": {},
   "outputs": [],
   "source": [
    "genes_modules[c(\"ZNF530\",\"FAM222B\",\"TIGD6\",\"PHIP\",\"MARCHF1\",\"TRMT6\"),\"module\"]"
   ]
  },
  {
   "cell_type": "code",
   "execution_count": null,
   "id": "62d84317-3e83-4834-8b0e-72fcf4d254ab",
   "metadata": {},
   "outputs": [],
   "source": [
    "#consider the adjusted, maybe all of next in the enxt code"
   ]
  },
  {
   "cell_type": "code",
   "execution_count": null,
   "id": "42addb99-576a-4742-ae38-3d3d41c25f20",
   "metadata": {},
   "outputs": [],
   "source": [
    "setwd(\"T:/PIgroup Nael NadifKasri/RNAseq/Analysis_2024/MEAseq_all/Output/PRPS_integration/normalized_control/WGCNA/sp16/adj_p\")"
   ]
  },
  {
   "cell_type": "code",
   "execution_count": null,
   "id": "c48f2ee7-b6f2-4d42-9a56-10232137d6d4",
   "metadata": {},
   "outputs": [],
   "source": [
    "module.trait.corr.pvals<-all_adj#all_adj#pval_list\n",
    "module.trait.corr<-est_list\n",
    "modules<-rownames(module.trait.corr)\n",
    "module.trait.corr_m<-as.data.frame(melt(module.trait.corr))\n",
    "module.trait.corr.pvals_m<-as.data.frame(melt(module.trait.corr.pvals))\n",
    "colnames(module.trait.corr_m)<-c(\"module\", \"trait\", \"corr\")\n",
    "colnames(module.trait.corr.pvals_m)<-c(\"module\", \"trait\", \"pvalue\")\n",
    "module.trait.corr.pvals_m$pvalue<-round(module.trait.corr.pvals_m$pvalue,2)\n",
    "\n",
    "significant_modules_corr_m<-unique(module.trait.corr.pvals_m[module.trait.corr.pvals_m$pvalue <= 0.05,\"module\"])\n",
    "significant_modules_corr_m\n",
    "significant_metric<-unique(module.trait.corr.pvals_m[module.trait.corr.pvals_m$pvalue <= 0.05,\"trait\"])\n",
    "significant_metric"
   ]
  },
  {
   "cell_type": "code",
   "execution_count": null,
   "id": "1efb2bce-fc7b-47dc-93fd-c82f9b28ee66",
   "metadata": {},
   "outputs": [],
   "source": [
    "length(significant_metric)"
   ]
  },
  {
   "cell_type": "code",
   "execution_count": null,
   "id": "1aca0489-17c7-44ba-8816-5517d63de7f7",
   "metadata": {},
   "outputs": [],
   "source": [
    "#organize de heatmap based on hier clustering\n",
    "# Cluster based on euclidean distance\n",
    "clust_metrics <- hclust(dist(t(module.trait.corr)))\n",
    "clust_modules<-hclust(dist(module.trait.corr))"
   ]
  },
  {
   "cell_type": "code",
   "execution_count": null,
   "id": "cd820f49-3d00-409c-8ad2-66a55366eae0",
   "metadata": {},
   "outputs": [],
   "source": [
    "p<-ggplot(module.trait.corr_m, aes(x=trait, y=module))+  \n",
    "  geom_tile(aes(fill= corr),color = \"black\")+\n",
    "    scale_fill_gradient2(low=\"blue\", high=\"red\", limits=c(-1,1))+\n",
    "     scale_y_discrete(limits = rownames(module.trait.corr)[clust_modules$order])+\n",
    "   scale_x_discrete(limits = colnames(module.trait.corr)[clust_metrics$order])+\n",
    "    theme(strip.text = element_text(size=5), legend.text = element_text(size=5),legend.title = element_text(size=5),\n",
    "          panel.grid.major = element_blank(), panel.grid.minor = element_blank(),\n",
    "    panel.background = element_blank(), axis.line = element_line(colour = \"white\"),axis.text=element_text(size=4,color=\"black\"),\n",
    "          text=element_text(size=4),strip.background = element_blank(), axis.text.x = element_text(face = ifelse(colnames(module.trait.corr)[clust_metrics$order] %in% significant_metric, \"bold\", \"plain\"),\n",
    "                                                                                                   angle = 45, vjust = 1, hjust=1,size=6),\n",
    "        axis.text.y = element_text(face = ifelse(rownames(module.trait.corr)[clust_modules$order] %in% significant_modules_corr_m, \"bold\", \"plain\"),size=6,vjust = 0.5, hjust=1),\n",
    "        axis.title.x = element_blank(),axis.ticks.x=element_blank(),axis.ticks.y=element_blank(),\n",
    "          axis.title.y = element_blank())+\n",
    "\n",
    "    geom_text(data=module.trait.corr.pvals_m,aes(x=trait,y=module,label=pvalue),\n",
    "              size=1.5,angle=45)+xlab(\" \")+ylab(\" \")\n",
    "p\n",
    "tiff(\"heatmap_module_MEAtraits_correlations.tiff\", res = 400, units = \"in\", width = 6, height = 6)\n",
    "p\n",
    "dev.off()#face = \"bold\" ,"
   ]
  },
  {
   "cell_type": "code",
   "execution_count": null,
   "id": "91cacb63-1606-4b4b-93b7-0e3f673f3ad7",
   "metadata": {},
   "outputs": [],
   "source": [
    "#PLotting, next code?"
   ]
  }
 ],
 "metadata": {
  "kernelspec": {
   "display_name": "R 4.2.1 (native)",
   "language": "R",
   "name": "ir421_native"
  },
  "language_info": {
   "codemirror_mode": "r",
   "file_extension": ".r",
   "mimetype": "text/x-r-source",
   "name": "R",
   "pygments_lexer": "r",
   "version": "4.2.1"
  }
 },
 "nbformat": 4,
 "nbformat_minor": 5
}
