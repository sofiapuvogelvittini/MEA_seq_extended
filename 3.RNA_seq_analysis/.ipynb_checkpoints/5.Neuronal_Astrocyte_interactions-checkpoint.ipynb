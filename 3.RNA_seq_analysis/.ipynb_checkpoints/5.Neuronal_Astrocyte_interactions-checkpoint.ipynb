{
 "cells": [
  {
   "cell_type": "code",
   "execution_count": 3,
   "id": "64d19715-8bc9-4c4b-9f59-9d76b8651d62",
   "metadata": {},
   "outputs": [],
   "source": [
    "setwd(\"T:/PIgroup Nael NadifKasri/Sofia/2025/MEA_seq_patient/Analysis/RNA-seq/Neuronal_astrocyte_interactions\")"
   ]
  },
  {
   "cell_type": "code",
   "execution_count": 4,
   "id": "39b69ec7-25f6-4bd1-bee0-a360f819c260",
   "metadata": {},
   "outputs": [],
   "source": [
    "library(ggplot2)\n",
    "library(ggrepel)\n",
    "library(WGCNA)\n",
    "library(tidyverse)\n",
    "library(GEOquery)\n",
    "library(CorLevelPlot)\n",
    "library(gridExtra)\n",
    "library(gprofiler2)\n",
    "library(ggpubr)\n",
    "library(reshape2)\n",
    "library(purrr)\n",
    "library(RColorBrewer)\n",
    "library(matrixStats)\n",
    "library(igraph)\n",
    "library(ggraph)\n",
    "library(mixOmics)\n",
    "library(dplyr)\n",
    "library(writexl)\n",
    "library(pheatmap)\n"
   ]
  },
  {
   "cell_type": "code",
   "execution_count": 5,
   "id": "c80a0f0c-3987-4c59-99c3-afcce2ada947",
   "metadata": {},
   "outputs": [],
   "source": [
    "samples_info<-read.csv(\"T:/PIgroup Nael NadifKasri/Sofia/2025/MEA_seq_patient/Code/0.Data/RNAseq_data/samples_info.csv\")\n",
    "samples_info$Well_ID <- sub(\".*_\", \"\", samples_info$sample)\n",
    "rownames(samples_info)<-samples_info$sample\n",
    "\n",
    "color_vector_cell_line<- setNames(samples_info$color_2,samples_info$cell_line_v2) \n",
    "color_vector_cell_line <- color_vector_cell_line[!duplicated(names(color_vector_cell_line))]\n",
    "\n",
    "shape_project <- c(\"S105199\" = 21, \"S105586\" = 22,\"S106319\"=23)\n",
    "counts_astro<-read.table(\"T:/PIgroup Nael NadifKasri/Sofia/2025/MEA_seq_patient/Analysis/RNA-seq/PRPS_integration_astrocytes/ruviii.2000.norm_voom.txt\",header = TRUE)\n",
    "rownames(counts_astro)<-counts_astro$Gene\n",
    "\n",
    "colnames_counts_astro<-colnames(counts_astro)\n",
    "colnames_counts_astro<-gsub(\"\\\\.\", \"-\", colnames_counts_astro)\n",
    "colnames_counts_astro<-str_replace_all(colnames_counts_astro, \"SMARCB1_KSS_CRISPR\", \"SMARCB1_KSS-CRISPR\")\n",
    "colnames(counts_astro)<-colnames_counts_astro\n",
    "counts_astro<-counts_astro[-length(counts_astro)]\n",
    "\n",
    "counts_neurons<-read.table(\"T:/PIgroup Nael NadifKasri/Sofia/2025/MEA_seq_patient/Analysis/RNA-seq/PRPS_integration_neurons/ruviii.2000.norm_voom.txt\",header = TRUE)\n",
    "rownames(counts_neurons)<-counts_neurons$Gene\n",
    "\n",
    "#replace \".\" to \"-\" for colnames\n",
    "colnames_counts_neurons<-colnames(counts_neurons)\n",
    "colnames_counts_neurons<-gsub(\"\\\\.\", \"-\", colnames_counts_neurons)\n",
    "colnames_counts_neurons<-str_replace_all(colnames_counts_neurons, \"SMARCB1_KSS_CRISPR\", \"SMARCB1_KSS-CRISPR\")\n",
    "colnames(counts_neurons)<-colnames_counts_neurons\n",
    "counts_neurons<-counts_neurons[-length(counts_neurons)]"
   ]
  },
  {
   "cell_type": "code",
   "execution_count": 6,
   "id": "e6cbc44b-543a-4593-9d91-13ddd323d037",
   "metadata": {},
   "outputs": [],
   "source": [
    "neuron_mat<-as.matrix(counts_neurons)\n",
    "astro_mat<-as.matrix(counts_astro)"
   ]
  },
  {
   "cell_type": "code",
   "execution_count": 7,
   "id": "16646a88-a3f2-471b-bed3-5a2f81091f39",
   "metadata": {},
   "outputs": [],
   "source": [
    "# --- 1. Select most variable genes ---\n",
    "top_var_genes <- function(mat, top_n = 500) {\n",
    "  vars <- rowVars(mat)\n",
    "  names(vars) <- rownames(mat)\n",
    "  top_genes <- names(sort(vars, decreasing = TRUE))[1:top_n]\n",
    "  return(mat[top_genes, , drop = FALSE])\n",
    "}\n",
    "\n",
    "# Select top 500 most variable genes in each matrix (adjust number if needed)\n",
    "neu_mat_var <- top_var_genes(neuron_mat, top_n = 2000)\n",
    "ast_mat_var <- top_var_genes(astro_mat, top_n = 2000)\n"
   ]
  },
  {
   "cell_type": "code",
   "execution_count": 8,
   "id": "8ef041fc-dde5-4023-a5c2-51aa23805049",
   "metadata": {},
   "outputs": [],
   "source": [
    "# Optional: rank transform to reduce outlier effects\n",
    "rank_transform <- function(mat){\n",
    "  t(apply(mat, 1, rank))\n",
    "}\n",
    "\n",
    "# Apply to gene × sample matrices\n",
    "neu_mat_var_rank <- rank_transform(neu_mat_var)\n",
    "ast_mat_var_rank <- rank_transform(ast_mat_var)\n",
    "\n",
    "# # Then transpose for spls\n",
    "X <- t(neu_mat_var_rank)  # samples × genes\n",
    "Y <- t(ast_mat_var_rank)  # samples × genes"
   ]
  },
  {
   "cell_type": "code",
   "execution_count": null,
   "id": "5aafa1ca-9db9-43cf-9a5a-d829a4926614",
   "metadata": {},
   "outputs": [],
   "source": [
    "#HERE!!"
   ]
  },
  {
   "cell_type": "code",
   "execution_count": null,
   "id": "d5c9e862-d98e-4f05-a17d-faed33eca94b",
   "metadata": {},
   "outputs": [],
   "source": [
    "set.seed(123)\n",
    "\n",
    "# -------------------------\n",
    "# PARAMETERS\n",
    "# -------------------------\n",
    "n_boot <- 10000      # number of bootstrap iterations\n",
    "ncomp <- 1        # number of components\n",
    "keepX <- rep(100, ncomp)  # top 100 genes per component\n",
    "keepY <- rep(100, ncomp)\n",
    "\n",
    "# -------------------------\n",
    "# BOOTSTRAP STABLE GENE SELECTION\n",
    "# -------------------------\n",
    "selected_genes <- list()\n",
    "\n",
    "for(b in 1:n_boot){\n",
    "    \n",
    "  idx <- sample(1:nrow(X), size = floor(0.8*nrow(X)), replace=FALSE)\n",
    "\n",
    "  Xb <- X[idx, , drop=FALSE]\n",
    "  Yb <- Y[idx, , drop=FALSE]\n",
    "  \n",
    "  # Make rownames unique to satisfy sPLS\n",
    "  rownames(Xb) <- make.unique(rownames(Xb))\n",
    "  rownames(Yb) <- make.unique(rownames(Yb))\n",
    "  \n",
    "  boot_res <- spls(Xb, Yb, ncomp=ncomp, keepX=keepX, keepY=keepY, mode=\"regression\")\n",
    "  \n",
    "  # Save selected genes per component\n",
    "  selected_genes[[b]] <- list(\n",
    "    neu1 = names(which(boot_res$loadings$X[,1] != 0)),\n",
    "    #neu2 = names(which(boot_res$loadings$X[,2] != 0)),\n",
    "    ast1 = names(which(boot_res$loadings$Y[,1] != 0))\n",
    "    #ast2 = names(which(boot_res$loadings$Y[,2] != 0))\n",
    "  )\n",
    "}\n",
    "# -------------------------\n",
    "# IDENTIFY STABLE GENES\n",
    "# -------------------------\n",
    "# Count frequency of selection across bootstrap\n",
    "freq_neu1 <- table(unlist(lapply(selected_genes, function(x) x$neu1)))\n",
    "#freq_neu2 <- table(unlist(lapply(selected_genes, function(x) x$neu2)))\n",
    "freq_ast1 <- table(unlist(lapply(selected_genes, function(x) x$ast1)))\n",
    "#freq_ast2 <- table(unlist(lapply(selected_genes, function(x) x$ast2)))\n",
    "\n",
    "# Choose stable genes: e.g., selected in >= 50% of bootstraps\n",
    "stable_neu1 <- names(freq_neu1[freq_neu1 >= 0.3*n_boot])\n",
    "#stable_neu2 <- names(freq_neu2[freq_neu2 >= 0.5*n_boot])\n",
    "stable_ast1 <- names(freq_ast1[freq_ast1 >= 0.3*n_boot])\n",
    "#stable_ast2 <- names(freq_ast2[freq_ast2 >= 0.5*n_boot])\n",
    "\n"
   ]
  },
  {
   "cell_type": "code",
   "execution_count": null,
   "id": "6e1b29bd-f18c-499f-8169-3ca426e4a53e",
   "metadata": {},
   "outputs": [],
   "source": [
    "length(stable_neu1)\n",
    "stable_neu1_1000b<-stable_neu1\n",
    "#stable_neu2\n",
    "length(stable_ast1)\n",
    "stable_ast1_1000b<-stable_ast1\n",
    "#stable_ast2 "
   ]
  },
  {
   "cell_type": "code",
   "execution_count": null,
   "id": "9d7310d3-cf9a-47cf-8b36-450c606c4f18",
   "metadata": {},
   "outputs": [],
   "source": [
    "# -------------------------\n",
    "# FINAL sPLS WITH ONLY STABLE GENES\n",
    "# -------------------------\n",
    "X_stable <- X[, stable_neu1, drop=FALSE]\n",
    "Y_stable <- Y[, stable_ast1, drop=FALSE]\n",
    "\n",
    "spls_res <- spls(X_stable, Y_stable, ncomp=1, keepX=length(stable_neu1),\n",
    "                 keepY=length(stable_ast1), mode=\"regression\")"
   ]
  },
  {
   "cell_type": "code",
   "execution_count": null,
   "id": "6348ad1d-ad62-41ef-aace-e86edba7d30e",
   "metadata": {},
   "outputs": [],
   "source": [
    "# -------------------------\n",
    "# EXTRACT VARIATES\n",
    "# -------------------------\n",
    "X_comp1 <- spls_res$variates$X[,1]\n",
    "Y_comp1 <- spls_res$variates$Y[,1]\n",
    "\n",
    "df <- data.frame(\n",
    "  sample = rownames(X_stable),\n",
    "  Neuron1 = X_comp1,\n",
    "  Astro1  = Y_comp1\n",
    ") %>%\n",
    "  left_join(samples_info, by=c(\"sample\"=\"sample\"))\n",
    "\n",
    "# Now 'df' contains component scores for stable genes\n"
   ]
  },
  {
   "cell_type": "code",
   "execution_count": null,
   "id": "bc3972e0-ab1d-4c6f-a32d-48a05ae94506",
   "metadata": {},
   "outputs": [],
   "source": [
    "# Fit model\n",
    "lm_fit <- lm(Astro1 ~ Neuron1, data = df)\n",
    "\n",
    "# Predicted values and residuals\n",
    "df$pred <- predict(lm_fit)\n",
    "df$residual <- df$Astro1 - df$pred\n",
    "threshold <- 2.5 * sd(df$residual)\n",
    "\n",
    "# Upper/lower deviation bands\n",
    "df$upper <- df$pred + threshold\n",
    "df$lower <- df$pred - threshold\n",
    "\n",
    "# Mark outliers\n",
    "df$outlier <- abs(df$residual) > threshold"
   ]
  },
  {
   "cell_type": "code",
   "execution_count": null,
   "id": "8fd2bc14-18c9-4bf6-9031-20fcfd2b8e6e",
   "metadata": {
    "scrolled": true
   },
   "outputs": [],
   "source": [
    "\n",
    "# Plot\n",
    "p <- ggplot(df, aes(x = Neuron1, y = Astro1)) +\n",
    "  # shaded area between bands\n",
    "  geom_ribbon(aes(ymin = lower, ymax = upper), fill = \"grey\", alpha = 0.2) +\n",
    "\n",
    "  # regression line\n",
    "  geom_smooth(method = \"lm\", se = FALSE, color = \"grey\") +\n",
    "\n",
    "  # normal points\n",
    "  geom_point(aes(fill = color_2), shape = 21, color = \"black\", size = 5) +\n",
    "\n",
    "  \n",
    "  # optional: dotted lines along bands\n",
    "  geom_line(aes(y = upper), linetype = \"dotted\", color = \"grey\") +\n",
    "  geom_line(aes(y = lower), linetype = \"dotted\", color = \"grey\") +\n",
    "\n",
    "  theme_minimal() +\n",
    "  labs(x = \"Neuron component 1\", y = \"Astrocyte component 1\",\n",
    "       title = \"Neuron–Astrocyte correlation with deviation bands\") +\n",
    "  scale_fill_identity()\n",
    "\n",
    "p\n",
    "\n",
    "ggsave(paste0('interactions_2000hv_b10000_100genes_2.5sd.pdf'),\n",
    "                  width = 5.3,   # inches\n",
    "                  height = 5,\n",
    "                   plot=p)# inches\n",
    "p"
   ]
  },
  {
   "cell_type": "code",
   "execution_count": null,
   "id": "4b57921f-8bf0-4ffa-a467-df01cde8d323",
   "metadata": {},
   "outputs": [],
   "source": [
    "#make cor network, the graph and compare with the SNAP program and save relevant things\n",
    "write.csv(df,\"sample_loadings.csv\")"
   ]
  },
  {
   "cell_type": "code",
   "execution_count": null,
   "id": "13096472-bd31-4068-b20e-b39ad3405c57",
   "metadata": {},
   "outputs": [],
   "source": [
    "# Extract loadings for X (neurons) and Y (astrocytes)\n",
    "loadings_x <- as.data.frame(spls_res$loadings$X)\n",
    "loadings_y <- as.data.frame(spls_res$loadings$Y)\n",
    "\n",
    "# Extract variates (component scores)\n",
    "variates_x <- as.data.frame(spls_res$variates$X)\n",
    "variates_y <- as.data.frame(spls_res$variates$Y)\n",
    "\n",
    "# Combine variates with sample information (from your 'df')\n",
    "sample_scores <- df  # Your existing data frame with sample info\n",
    "\n",
    "# Stable gene frequencies (from your bootstrap)\n",
    "stable_neu1_freq <- as.data.frame(freq_neu1[freq_neu1 >= 0.3 * n_boot])\n",
    "stable_ast1_freq <- as.data.frame(freq_ast1[freq_ast1 >= 0.3 * n_boot])\n",
    "colnames(stable_neu1_freq) <- c(\"Gene\", \"Frequency\")\n",
    "colnames(stable_ast1_freq) <- c(\"Gene\", \"Frequency\")"
   ]
  },
  {
   "cell_type": "code",
   "execution_count": null,
   "id": "7958bcff-9465-43db-81c2-7224994d4200",
   "metadata": {},
   "outputs": [],
   "source": [
    "sheets_list <- list(\n",
    "  \"X_Loadings\" = loadings_x,\n",
    "  \"Y_Loadings\" = loadings_y,\n",
    "  \"Sample_Scores\" = sample_scores,\n",
    "  \"Neuron_Stable_Genes\" = stable_neu1_freq,\n",
    "  \"Astrocyte_Stable_Genes\" = stable_ast1_freq\n",
    ")\n",
    "write_xlsx(sheets_list, path = \"spls_results_10000b.xlsx\")"
   ]
  },
  {
   "cell_type": "code",
   "execution_count": null,
   "id": "4c256884-904d-45b0-a482-55bac3e76394",
   "metadata": {},
   "outputs": [],
   "source": [
    "# Extract selected genes for component 1 and 2\n",
    "neu_genes_selected_c1 <- names(which(spls_res$loadings$X[,1] != 0))\n",
    "#neu_genes_selected_c2 <- names(which(spls_res$loadings$X[,2] != 0))\n",
    "#neu_genes_selected_c3 <- names(which(spls_res$loadings$X[,2] != 0))\n",
    "\n",
    "ast_genes_selected_c1 <- names(which(spls_res$loadings$Y[,1] != 0))\n",
    "#ast_genes_selected_c2 <- names(which(spls_res$loadings$Y[,2] != 0))\n",
    "#ast_genes_selected_c3 <- names(which(spls_res$loadings$Y[,3] != 0))\n",
    "\n",
    "build_cor_network <- function(neu_genes, ast_genes, X, Y, comp_id){\n",
    "  X_sub <- X[, neu_genes, drop=FALSE]\n",
    "  Y_sub <- Y[, ast_genes, drop=FALSE]\n",
    "\n",
    "  expand.grid(neuron_gene = neu_genes,\n",
    "              astro_gene  = ast_genes) %>%\n",
    "    rowwise() %>%\n",
    "    mutate(r = cor(X_sub[, neuron_gene], Y_sub[, astro_gene])) %>%\n",
    "    ungroup() %>%\n",
    "    mutate(component = comp_id)\n",
    "}\n",
    "\n",
    "cor_network_c1 <- build_cor_network(neu_genes_selected_c1, ast_genes_selected_c1, X, Y, \"Comp1\")\n",
    "#cor_network_c2 <- build_cor_network(neu_genes_selected_c2, ast_genes_selected_c2, X, Y, \"Comp2\")\n",
    "#cor_network_c3 <- build_cor_network(neu_genes_selected_c3, ast_genes_selected_c3, X, Y, \"Comp3\")\n",
    "\n",
    "cor_network_all <- bind_rows(cor_network_c1)#\n"
   ]
  },
  {
   "cell_type": "code",
   "execution_count": null,
   "id": "6667e9e9-0561-4f0e-a6a9-a7549bc32fbd",
   "metadata": {},
   "outputs": [],
   "source": [
    "p<-ggplot(cor_network_all, aes(x=r, fill=component)) +\n",
    "  geom_histogram(bins=50, alpha=0.6, position=\"identity\") +\n",
    "  facet_wrap(~component, scales=\"free_y\") +\n",
    "  theme_minimal()\n",
    "ggsave(paste0('correlations_2000hv_b10000_100genes.pdf'),\n",
    "                  width = 5.3,   # inches\n",
    "                  height = 5,\n",
    "                   plot=p)# inches\n",
    "p"
   ]
  },
  {
   "cell_type": "code",
   "execution_count": null,
   "id": "62457faf-f260-4efc-b108-843440fae5c7",
   "metadata": {},
   "outputs": [],
   "source": [
    "cor_network<-cor_network_c1"
   ]
  },
  {
   "cell_type": "code",
   "execution_count": null,
   "id": "7f7b7858-dcc6-43c2-989c-680b67995c44",
   "metadata": {},
   "outputs": [],
   "source": []
  },
  {
   "cell_type": "code",
   "execution_count": null,
   "id": "80a536d7-9fd0-40fd-9910-6a3603d95495",
   "metadata": {},
   "outputs": [],
   "source": [
    "rat_to_human_gprofiler<- function(x){\n",
    "genes<-gorth(query = x, source_organism = \"rnorvegicus\", \n",
    "      target_organism = \"hsapiens\", mthreshold = Inf, filter_na = FALSE)\n",
    "\n",
    "return(genes)\n",
    "}\n",
    "humanized<-rat_to_human_gprofiler(unique(cor_network$astro_gene))\n",
    "humanized <- humanized %>%\n",
    "  # Replace \"N/A\" with original input\n",
    "  mutate(ortholog_name = ifelse(ortholog_name == \"N/A\", input, ortholog_name)) %>%\n",
    "  # Clean strings (remove extra spaces)\n",
    "  mutate(ortholog_name = str_trim(ortholog_name))\n",
    "\n",
    "humanized_combined <- humanized %>%\n",
    "  group_by(input) %>%   # or group by \"input\" if you prefer\n",
    "  summarise(\n",
    "    ortholog_name = paste(unique(ortholog_name), collapse = \"/\"),\n",
    "    across(everything(), first)   # keep the first value of other columns\n",
    "  ) %>%\n",
    "  ungroup()"
   ]
  },
  {
   "cell_type": "code",
   "execution_count": null,
   "id": "fc9da0e3-1f3b-41a4-b0cb-6c1d4ed94f74",
   "metadata": {},
   "outputs": [],
   "source": [
    "cor_network$astro_gene_h<-factor(humanized_combined$ortholog_name[match(cor_network$astro_gene,humanized_combined$input)])"
   ]
  },
  {
   "cell_type": "code",
   "execution_count": null,
   "id": "c878f3a3-69f5-49ca-ad34-1652451d3ab5",
   "metadata": {},
   "outputs": [],
   "source": [
    "# --- 4. Filter strong correlations ---\n",
    "cor_network_filtered <- cor_network %>% filter(abs(r) > 0.6)  # adjust threshold\n",
    "cor_network_filtered$neuron_gene<-factor(paste0(\"n_\",cor_network_filtered$neuron_gene))\n",
    "cor_network_filtered$astro_gene_h<-factor(paste0(\"a_\",cor_network_filtered$astro_gene_h))\n",
    "# --- 6. Optional: visualize as a network ---\n",
    "edges <- cor_network_filtered[,c(\"neuron_gene\",\"astro_gene_h\",\"r\")] \n",
    "nodes <- tibble(\n",
    "  name = unique(c(edges$neuron_gene, edges$astro_gene_h)),\n",
    "  type = ifelse(name %in% edges$neuron_gene, \"neuron\", \"astro\")\n",
    ")\n",
    "\n",
    "graph <- graph_from_data_frame(edges, vertices = nodes, directed = FALSE)\n",
    "\n"
   ]
  },
  {
   "cell_type": "code",
   "execution_count": null,
   "id": "95436cf9-1e90-4d04-a275-86005c35557a",
   "metadata": {},
   "outputs": [],
   "source": [
    "#considering only sig corr?\n",
    "#and highlight in bold then the ones in the SNAP?\n",
    "build_cor_network <- function(neu_genes, ast_genes, X, Y, comp_id) {\n",
    "  X_sub <- X[, neu_genes, drop = FALSE]\n",
    "  Y_sub <- Y[, ast_genes, drop = FALSE]\n",
    "\n",
    "  expand.grid(neuron_gene = neu_genes,\n",
    "              astro_gene  = ast_genes) %>%\n",
    "    rowwise() %>%\n",
    "    mutate(\n",
    "      r = cor(X_sub[, neuron_gene], Y_sub[, astro_gene]),\n",
    "      p_value = cor.test(X_sub[, neuron_gene], Y_sub[, astro_gene])$p.value\n",
    "    ) %>%\n",
    "    ungroup() %>%\n",
    "    mutate(component = comp_id)\n",
    "}\n",
    "\n",
    "# Example usage\n",
    "cor_network_c1 <- build_cor_network(neu_genes_selected_c1, ast_genes_selected_c1, X, Y, \"Comp1\")\n",
    "# Combine multiple components if needed\n",
    "# cor_network_all <- bind_rows(cor_network_c1, cor_network_c2, cor_network_c3)\n",
    "\n"
   ]
  },
  {
   "cell_type": "code",
   "execution_count": null,
   "id": "38c34145-954f-469f-961a-96ada009d688",
   "metadata": {},
   "outputs": [],
   "source": [
    "rat_to_human_gprofiler<- function(x){\n",
    "genes<-gorth(query = x, source_organism = \"rnorvegicus\", \n",
    "      target_organism = \"hsapiens\", mthreshold = Inf, filter_na = FALSE)\n",
    "\n",
    "return(genes)\n",
    "}\n",
    "humanized<-rat_to_human_gprofiler(unique(cor_network_c1$astro_gene))\n",
    "humanized <- humanized %>%\n",
    "  # Replace \"N/A\" with original input\n",
    "  mutate(ortholog_name = ifelse(ortholog_name == \"N/A\", input, ortholog_name)) %>%\n",
    "  # Clean strings (remove extra spaces)\n",
    "  mutate(ortholog_name = str_trim(ortholog_name))\n",
    "\n",
    "humanized_combined <- humanized %>%\n",
    "  group_by(input) %>%   # or group by \"input\" if you prefer\n",
    "  summarise(\n",
    "    ortholog_name = paste(unique(ortholog_name), collapse = \"/\"),\n",
    "    across(everything(), first)   # keep the first value of other columns\n",
    "  ) %>%\n",
    "  ungroup()\n",
    "cor_network_c1$astro_gene_h<-factor(humanized_combined$ortholog_name[match(cor_network_c1$astro_gene,humanized_combined$input)])"
   ]
  },
  {
   "cell_type": "code",
   "execution_count": null,
   "id": "2e3d59bc-20fe-46d2-add8-35b5c986d687",
   "metadata": {},
   "outputs": [],
   "source": [
    "write.csv(cor_network_c1,\"cor_network_2000hv_b10000_100genes.csv\")"
   ]
  },
  {
   "cell_type": "code",
   "execution_count": null,
   "id": "b303c30e-fc56-4f8b-8f91-2a49a6e7c7cc",
   "metadata": {},
   "outputs": [],
   "source": [
    "# Filter for significant correlations (e.g., p < 0.05)\n",
    "sig_cor_network <- cor_network_c1 %>% filter(p_value < 0.05)"
   ]
  },
  {
   "cell_type": "code",
   "execution_count": null,
   "id": "9e5d0058-f5d9-468d-8422-8d9edcfbe053",
   "metadata": {},
   "outputs": [],
   "source": [
    "p<-ggplot(sig_cor_network, aes(x=r, fill=component)) +\n",
    "  geom_histogram(bins=100, alpha=0.6, position=\"identity\") +\n",
    "  facet_wrap(~component, scales=\"free_y\") +\n",
    "  theme_minimal()\n",
    "ggsave(paste0('correlations_sig_2000hv_b10000_100genes.pdf'),\n",
    "                  width = 5.3,   # inches\n",
    "                  height = 5,\n",
    "                   plot=p)# inches\n",
    "p"
   ]
  },
  {
   "cell_type": "code",
   "execution_count": null,
   "id": "d6da7848-9ecc-49b1-b01f-d8252422c875",
   "metadata": {},
   "outputs": [],
   "source": [
    "# --- 4. Filter strong correlations ---\n",
    "cor_network_filtered <- sig_cor_network %>% filter(abs(r) >= 0.5)  # adjust threshold\n",
    "#cor_network_filtered$neuron_gene<-factor(paste0(\"n_\",cor_network_filtered$neuron_gene))\n",
    "#cor_network_filtered$astro_gene_h<-factor(paste0(\"a_\",cor_network_filtered$astro_gene_h))\n",
    "# --- 6. Optional: visualize as a network ---\n",
    "edges <- cor_network_filtered[,c(\"neuron_gene\",\"astro_gene_h\",\"r\")] \n",
    "nodes <- tibble(\n",
    "  name = unique(c(edges$neuron_gene, edges$astro_gene_h)),\n",
    "  type = ifelse(name %in% edges$neuron_gene, \"neuron\", \"astro\")\n",
    ")\n",
    "graph <- graph_from_data_frame(edges, vertices = nodes, directed = FALSE)\n",
    "# Compute degree (number of connections)\n",
    "nodes <- nodes %>%\n",
    "  left_join(\n",
    "    tibble(name = names(degree(graph)), degree = degree(graph)),\n",
    "    by = \"name\"\n",
    "  )\n",
    "#make some testing to see how stable are the selected genes when running the algorithm"
   ]
  },
  {
   "cell_type": "code",
   "execution_count": null,
   "id": "4b2ba78f-2cad-4127-9401-7ff2c549302d",
   "metadata": {},
   "outputs": [],
   "source": [
    "ggplot(nodes, aes(x=degree)) +\n",
    "  geom_histogram(bins=50, alpha=0.6, position=\"identity\") +\n",
    " # facet_wrap(~component, scales=\"free_y\") +\n",
    "  theme_minimal()\n",
    "#hist(nodes$degree, break=100)"
   ]
  },
  {
   "cell_type": "code",
   "execution_count": null,
   "id": "76197bab-378c-4ff2-9e8d-82f6407c9256",
   "metadata": {},
   "outputs": [],
   "source": [
    "#show highly connected genes, color by type the text (black and grey) in bold\n",
    "#show intersection with ?SNAP-a, SNAPn,? \n"
   ]
  },
  {
   "cell_type": "code",
   "execution_count": null,
   "id": "b57cca4c-4729-4093-8a8c-d9363babd0db",
   "metadata": {},
   "outputs": [],
   "source": [
    "SNAP_a<-read.csv(\"T:/PIgroup Nael NadifKasri/Sofia/2025/MEA_seq_patient/Code/0.Data/RNAseq_data/curated_gene_lists/SNAP-a.csv\")\n",
    "SNAP_a<-SNAP_a %>% arrange(desc(SNAP.a))  %>%  # sort descending\n",
    "  slice_head(n = 4000)\n",
    "SNAP_n<-read.csv(\"T:/PIgroup Nael NadifKasri/Sofia/2025/MEA_seq_patient/Code/0.Data/RNAseq_data/curated_gene_lists/SNAP-n.csv\")\n",
    "SNAP_n<-SNAP_n %>% arrange(desc(SNAP.n))  %>%  # sort descending\n",
    "  slice_head(n = 4000)        # select top 10 rows"
   ]
  },
  {
   "cell_type": "code",
   "execution_count": null,
   "id": "cca3de5b-091f-4d42-9692-0c859c4b5e71",
   "metadata": {},
   "outputs": [],
   "source": [
    "astro_genes_clean <- unique(unlist(strsplit(as.character(cor_network_filtered$astro_gene_h), \"/\")))\n",
    "#length(astro_genes_clean)"
   ]
  },
  {
   "cell_type": "code",
   "execution_count": null,
   "id": "e595d3d5-5c84-4fe5-8f8a-20d993100b3a",
   "metadata": {},
   "outputs": [],
   "source": [
    "neu_show<-intersect(SNAP_n$Gene,unique(cor_network_filtered$neuron_gene))\n",
    "ast_show<-intersect(SNAP_a$Gene,astro_genes_clean)\n"
   ]
  },
  {
   "cell_type": "code",
   "execution_count": null,
   "id": "b1b7aa78-8c6e-4200-bb34-fad38d38aa4e",
   "metadata": {},
   "outputs": [],
   "source": [
    "# --- 5. Highlight flag with \"/\" handling for astro + hub combination ---\n",
    "nodes <- nodes %>%\n",
    "  rowwise() %>%\n",
    "  mutate(\n",
    "    highlight_flag = {\n",
    "      # Check astro match (with \"/\")\n",
    "      astro_match <- type == \"astro\" && any(strsplit(name, \"/\")[[1]] %in% ast_show)\n",
    "      # Check neuron match\n",
    "      neuron_match <- type == \"neuron\" && name %in% neu_show\n",
    "      # Check hub\n",
    "      hub_match <- degree > 80\n",
    "\n",
    "      if (astro_match && hub_match) {\n",
    "        \"SNAP-a+hub\"\n",
    "      } else if (neuron_match && hub_match) {\n",
    "        \"SNAP-n+hub\"\n",
    "      } else if (astro_match) {\n",
    "        \"SNAP-a\"\n",
    "      } else if (neuron_match) {\n",
    "        \"SNAP-n\"\n",
    "      } else if (hub_match) {\n",
    "        \"hub\"\n",
    "      } else {\n",
    "        \"none\"\n",
    "      }\n",
    "    }\n",
    "  ) %>%\n",
    "  ungroup()"
   ]
  },
  {
   "cell_type": "code",
   "execution_count": null,
   "id": "8cd234e3-a366-4123-9d1e-60f1d642de66",
   "metadata": {},
   "outputs": [],
   "source": [
    "levels(factor(unique(nodes$highlight_flag)))"
   ]
  },
  {
   "cell_type": "code",
   "execution_count": null,
   "id": "4069826f-af33-4af1-a9ab-b3ca95525c38",
   "metadata": {},
   "outputs": [],
   "source": [
    "# --- rebuild graph with updated nodes (with highlight_flag) ---\n",
    "graph <- graph_from_data_frame(edges, vertices = nodes, directed = FALSE)\n"
   ]
  },
  {
   "cell_type": "code",
   "execution_count": null,
   "id": "2a54ffc2-d41c-4c6e-87b5-6703a4f5691a",
   "metadata": {},
   "outputs": [],
   "source": [
    "g <- ggraph(graph, layout = \"dh\") +\n",
    "  # edges first\n",
    "  geom_edge_link(aes(color = r), alpha = 0.8) +\n",
    "  \n",
    "  # nodes: fill = type, border color = highlight_flag, stroke by flag\n",
    "  geom_node_point(\n",
    "    aes(fill = type,\n",
    "        color = highlight_flag,\n",
    "        size = degree,\n",
    "        stroke = ifelse(highlight_flag == \"none\", 0.3, 1.2)),\n",
    "    shape = 21\n",
    "  ) +\n",
    "  \n",
    "  # labels only for highlighted nodes\n",
    "  geom_node_text(\n",
    "    aes(label = ifelse(highlight_flag != \"none\", name, \"\")),\n",
    "    repel = TRUE, size = 3, fontface = \"italic\",\n",
    "  max.overlaps = Inf   # allow all labels to attempt placement\n",
    ") +\n",
    "  \n",
    "  # edge color scale\n",
    "  scale_edge_color_gradient2(low = \"blue\", mid = \"grey80\", high = \"red\", midpoint = 0) +\n",
    "  \n",
    "  # fill = node type (gray tones)\n",
    "  scale_fill_manual(values = c(neuron = \"grey40\", astro = \"grey70\")) +\n",
    "  \n",
    "  # border color = highlight flag\n",
    "  scale_color_manual(values = c(\n",
    "    \"none\"       = \"black\",\n",
    "    \"SNAP-a\"     = \"skyblue\",\n",
    "    \"SNAP-n\"     = \"orange\",\n",
    "    \"hub\"        = \"purple\",\n",
    "    \"SNAP-a+hub\" = \"darkblue\",\n",
    "    \"SNAP-n+hub\" = \"darkred\"\n",
    "  )) +\n",
    "  \n",
    "  scale_size_continuous(range = c(2, 6)) +\n",
    "  theme_void()\n",
    "g\n",
    "ggsave(paste0('NW_2000hv_10000b_100genes_05sig_hub80dh.pdf'),\n",
    "                  width = 6,   # inches\n",
    "                  height = 6,\n",
    "                   plot=g)# inches\n"
   ]
  },
  {
   "cell_type": "code",
   "execution_count": null,
   "id": "e40bac6e-dc2e-4c0c-9450-a7ca4a4f5779",
   "metadata": {},
   "outputs": [],
   "source": [
    "gene_outlier_diff <- apply(X[, neuron_genes], 2, function(g) {\n",
    "  t.test(g[outliers], g[-outliers])\n",
    "})\n"
   ]
  },
  {
   "cell_type": "code",
   "execution_count": null,
   "id": "2eb36b95-fefe-4a56-b785-372c78a6596f",
   "metadata": {},
   "outputs": [],
   "source": [
    "X_stable <- X[, stable_neu1, drop=FALSE]\n",
    "Y_stable <- Y[, stable_ast1, drop=FALSE]"
   ]
  },
  {
   "cell_type": "code",
   "execution_count": null,
   "id": "678dfed1-b9f6-45f7-b40a-c96acaf077cd",
   "metadata": {},
   "outputs": [],
   "source": [
    "outliers_CHD8 <- df[df$outlier & df$cell_line_v2 == \"CHD8_1\", ]\n",
    "rownames(outliers_CHD8)<-outliers_CHD8$sample"
   ]
  },
  {
   "cell_type": "code",
   "execution_count": null,
   "id": "e8bc0004-64de-4f91-b55d-ba64e064889f",
   "metadata": {},
   "outputs": [],
   "source": [
    "Y_pred <- predict(spls_res, X_stable)$predict\n"
   ]
  },
  {
   "cell_type": "code",
   "execution_count": null,
   "id": "10e5b589-5dc6-425d-b7ea-e875326e6f18",
   "metadata": {},
   "outputs": [],
   "source": [
    "# Predict\n",
    "pred_array <- predict(spls_res, X_stable)$predict\n",
    "\n",
    "# If it's a 3D array, take the first component\n",
    "if (length(dim(pred_array)) == 3) {\n",
    "  pred_matrix <- pred_array[, , 1]  # first component\n",
    "} else {\n",
    "  pred_matrix <- pred_array\n",
    "}\n",
    "\n",
    "# Convert to data frame without altering names\n",
    "Y_pred_df <- as.data.frame(pred_matrix)\n"
   ]
  },
  {
   "cell_type": "code",
   "execution_count": null,
   "id": "8de01164-a037-49d3-8862-cd54e5e0c15a",
   "metadata": {},
   "outputs": [],
   "source": [
    "# residual_matrix <- Y_stable - predict(spls_model, newdata = X_stable)\n",
    "# residual_outliers_CHD8 <- residual_matrix[rownames(outliers_CHD8), ]\n",
    "# Predict Y from X using sPLS\n",
    "Y_pred <- predict(spls_res, X_stable)$predict\n",
    "residual_outliers <- Y_stable[rownames(outliers_CHD8), ] - Y_pred_df[rownames(outliers_CHD8), ]\n"
   ]
  },
  {
   "cell_type": "code",
   "execution_count": null,
   "id": "e71e31be-834e-4424-aa75-444b37873b78",
   "metadata": {},
   "outputs": [],
   "source": [
    "# Extract X and Y weights\n",
    "loadings_X <- spls_res$loadings$X  # weights for neuron genes\n",
    "loadings_Y <- spls_res$loadings$Y  # weights for astro genes\n",
    "\n",
    "# Get sPLS component score t (for each sample)\n",
    "t_comp <- as.matrix(X_stable) %*% loadings_X  # n_samples × 1\n",
    "\n",
    "# Predicted Y (per gene) = t * loading of Y\n",
    "Y_pred_mat <- t_comp %*% t(loadings_Y)  # n_samples × n_Y_genes\n",
    "rownames(Y_pred_mat) <- rownames(X_stable)\n",
    "colnames(Y_pred_mat) <- colnames(Y_stable)\n"
   ]
  },
  {
   "cell_type": "code",
   "execution_count": null,
   "id": "95d9d987-55ed-41c1-9f42-b338daba40e6",
   "metadata": {},
   "outputs": [],
   "source": [
    "outliers_CHD8 <- df$cell_line_v2 == \"CHD8_1\"#df$outlier & df$cell_line_v2 == \"CHD8_1\"\n",
    "residual_outliers <- Y_stable[outliers_CHD8, ] - Y_pred_mat[outliers_CHD8, ]\n"
   ]
  },
  {
   "cell_type": "code",
   "execution_count": null,
   "id": "e72ebfb3-b122-40c5-b258-d3575083c0a6",
   "metadata": {},
   "outputs": [],
   "source": [
    "residual_outliers"
   ]
  },
  {
   "cell_type": "code",
   "execution_count": null,
   "id": "c08dea1f-c827-4e1b-aaa1-ee6286aa30ac",
   "metadata": {},
   "outputs": [],
   "source": [
    "# Compute mean residual per gene across samples\n",
    "gene_means <- colMeans(residual_outliers, na.rm = TRUE)\n",
    "\n",
    "# Keep genes with negative mean residual\n",
    "negative_genes <- gene_means[gene_means < 0]\n",
    "\n",
    "# Get gene names\n",
    "neg_gene_names <- names(negative_genes)\n",
    "neg_gene_names\n"
   ]
  },
  {
   "cell_type": "code",
   "execution_count": null,
   "id": "c4867697-dbc5-49fa-9b13-77e6903fc7b3",
   "metadata": {},
   "outputs": [],
   "source": [
    "humanized_outliers<-rat_to_human_gprofiler(rat_genes)\n",
    "humanized_outliers <- humanized_outliers %>%\n",
    "  # Replace \"N/A\" with original input\n",
    "  mutate(ortholog_name = ifelse(ortholog_name == \"N/A\", input, ortholog_name)) %>%\n",
    "  # Clean strings (remove extra spaces)\n",
    "  mutate(ortholog_name = str_trim(ortholog_name))\n",
    "\n",
    "humanized_outliers_combined <- humanized_outliers %>%\n",
    "  group_by(input) %>%   # or group by \"input\" if you prefer\n",
    "  summarise(\n",
    "    ortholog_name = paste(unique(ortholog_name), collapse = \"/\"),\n",
    "    across(everything(), first)   # keep the first value of other columns\n",
    "  ) %>%\n",
    "  ungroup()"
   ]
  },
  {
   "cell_type": "code",
   "execution_count": null,
   "id": "461c089d-4b7a-49f8-86a6-3bcc8bd71ad6",
   "metadata": {},
   "outputs": [],
   "source": [
    "humanized_outliers_combined$ortholog_name"
   ]
  },
  {
   "cell_type": "code",
   "execution_count": null,
   "id": "d3ff2e16-881f-48cb-bb99-92ca7d800639",
   "metadata": {},
   "outputs": [],
   "source": [
    "colnames(res_neg_num)<-humanized_outliers_combined$ortholog_name"
   ]
  },
  {
   "cell_type": "code",
   "execution_count": null,
   "id": "78021346-7c36-4116-8db3-7ae8e58ef2a3",
   "metadata": {},
   "outputs": [],
   "source": [
    "\n",
    "# Subset matrix to negative genes only\n",
    "res_neg <- residual_outliers[, neg_gene_names]\n",
    "# convert to numeric if needed\n",
    "res_neg_num <- as.matrix(res_neg)\n",
    "rat_genes<-colnames(res_neg_num)\n",
    "humanized_outliers<-rat_to_human_gprofiler(rat_genes)\n",
    "humanized_outliers <- humanized_outliers %>%\n",
    "  # Replace \"N/A\" with original input\n",
    "  mutate(ortholog_name = ifelse(ortholog_name == \"N/A\", input, ortholog_name)) %>%\n",
    "  # Clean strings (remove extra spaces)\n",
    "  mutate(ortholog_name = str_trim(ortholog_name))\n",
    "\n",
    "humanized_outliers_combined <- humanized_outliers %>%\n",
    "  group_by(input) %>%   # or group by \"input\" if you prefer\n",
    "  summarise(\n",
    "    ortholog_name = paste(unique(ortholog_name), collapse = \"/\"),\n",
    "    across(everything(), first)   # keep the first value of other columns\n",
    "  ) %>%\n",
    "  ungroup()\n",
    "\n",
    "\n",
    "colnames(res_neg_num)<-humanized_outliers_combined$ortholog_name\n",
    "mode(res_neg_num) <- \"numeric\"\n",
    "\n"
   ]
  },
  {
   "cell_type": "code",
   "execution_count": null,
   "id": "a66699b1-f273-43f0-90cc-22ccaa592179",
   "metadata": {},
   "outputs": [],
   "source": [
    "# Transpose matrix so samples are columns, genes are rows\n",
    "res_neg_num_t <- t(res_neg_num)\n",
    "\n",
    "# define diverging colors centered at zero\n",
    "max_abs <- max(abs(res_neg_num_t), na.rm = TRUE)\n",
    "breaks <- seq(-max_abs, max_abs, length.out = 101)\n",
    "colors <- colorRampPalette(c(\"blue\", \"white\", \"red\"))(100)\n",
    "\n",
    "p<-pheatmap(res_neg_num_t,\n",
    "         color = colors,\n",
    "         breaks = breaks,\n",
    "         clustering_distance_rows = \"correlation\",  # now genes are rows\n",
    "         clustering_distance_cols = \"correlation\",  # now samples are columns\n",
    "         scale = \"none\",\n",
    "         #main = \"Negative residuals per gene across samples\",\n",
    "         angle_col = 45)  # rotate x-axis labels for readability\n",
    "ggsave(paste0('heatmap_negative_astrocyte_residuals_CHD8_b10000.pdf'),\n",
    "                  width = 5,   # inches\n",
    "                  height = 5,\n",
    "                   plot=p)# inches\n"
   ]
  },
  {
   "cell_type": "code",
   "execution_count": null,
   "id": "45236ebe-a829-4a11-8777-ed8a1b70c1c9",
   "metadata": {},
   "outputs": [],
   "source": [
    "write.csv(nodes,\"nodes_1000b.csv\")"
   ]
  }
 ],
 "metadata": {
  "kernelspec": {
   "display_name": "R 4.2.1 (native)",
   "language": "R",
   "name": "ir421_native"
  },
  "language_info": {
   "codemirror_mode": "r",
   "file_extension": ".r",
   "mimetype": "text/x-r-source",
   "name": "R",
   "pygments_lexer": "r",
   "version": "4.2.1"
  }
 },
 "nbformat": 4,
 "nbformat_minor": 5
}
