{
 "cells": [
  {
   "cell_type": "code",
   "execution_count": 2,
   "id": "79628e09-c3ed-4843-854e-a4c7e6c8c7cf",
   "metadata": {},
   "outputs": [],
   "source": [
    "setwd(\"T:/PIgroup Nael NadifKasri/Sofia/2025/MEA_seq_patient/Analysis/RNA-seq/PRPS_integration_neurons\")"
   ]
  },
  {
   "cell_type": "code",
   "execution_count": 3,
   "id": "35b191b7-9204-482d-b342-3657c36f328f",
   "metadata": {},
   "outputs": [
    {
     "name": "stderr",
     "output_type": "stream",
     "text": [
      "Warning message:\n",
      "\"package 'tidyverse' was built under R version 4.2.3\"\n",
      "Warning message:\n",
      "\"package 'tibble' was built under R version 4.2.3\"\n",
      "Warning message:\n",
      "\"package 'tidyr' was built under R version 4.2.3\"\n",
      "Warning message:\n",
      "\"package 'readr' was built under R version 4.2.3\"\n",
      "Warning message:\n",
      "\"package 'purrr' was built under R version 4.2.3\"\n",
      "Warning message:\n",
      "\"package 'dplyr' was built under R version 4.2.3\"\n",
      "Warning message:\n",
      "\"package 'stringr' was built under R version 4.2.3\"\n",
      "Warning message:\n",
      "\"package 'forcats' was built under R version 4.2.3\"\n",
      "Warning message:\n",
      "\"package 'lubridate' was built under R version 4.2.3\"\n",
      "── \u001b[1mAttaching core tidyverse packages\u001b[22m ──────────────────────────────────────────────────────────────── tidyverse 2.0.0 ──\n",
      "\u001b[32m✔\u001b[39m \u001b[34mdplyr    \u001b[39m 1.1.2     \u001b[32m✔\u001b[39m \u001b[34mreadr    \u001b[39m 2.1.5\n",
      "\u001b[32m✔\u001b[39m \u001b[34mforcats  \u001b[39m 1.0.0     \u001b[32m✔\u001b[39m \u001b[34mstringr  \u001b[39m 1.5.1\n",
      "\u001b[32m✔\u001b[39m \u001b[34mggplot2  \u001b[39m 3.5.2     \u001b[32m✔\u001b[39m \u001b[34mtibble   \u001b[39m 3.2.1\n",
      "\u001b[32m✔\u001b[39m \u001b[34mlubridate\u001b[39m 1.9.3     \u001b[32m✔\u001b[39m \u001b[34mtidyr    \u001b[39m 1.3.1\n",
      "\u001b[32m✔\u001b[39m \u001b[34mpurrr    \u001b[39m 1.0.2     \n",
      "── \u001b[1mConflicts\u001b[22m ────────────────────────────────────────────────────────────────────────────────── tidyverse_conflicts() ──\n",
      "\u001b[31m✖\u001b[39m \u001b[34mdplyr\u001b[39m::\u001b[32mfilter()\u001b[39m masks \u001b[34mstats\u001b[39m::filter()\n",
      "\u001b[31m✖\u001b[39m \u001b[34mdplyr\u001b[39m::\u001b[32mlag()\u001b[39m    masks \u001b[34mstats\u001b[39m::lag()\n",
      "\u001b[36mℹ\u001b[39m Use the conflicted package (\u001b[3m\u001b[34m<http://conflicted.r-lib.org/>\u001b[39m\u001b[23m) to force all conflicts to become errors\n",
      "Loading required package: Biobase\n",
      "\n",
      "Loading required package: BiocGenerics\n",
      "\n",
      "\n",
      "Attaching package: 'BiocGenerics'\n",
      "\n",
      "\n",
      "The following objects are masked from 'package:lubridate':\n",
      "\n",
      "    intersect, setdiff, union\n",
      "\n",
      "\n",
      "The following objects are masked from 'package:dplyr':\n",
      "\n",
      "    combine, intersect, setdiff, union\n",
      "\n",
      "\n",
      "The following objects are masked from 'package:stats':\n",
      "\n",
      "    IQR, mad, sd, var, xtabs\n",
      "\n",
      "\n",
      "The following objects are masked from 'package:base':\n",
      "\n",
      "    anyDuplicated, aperm, append, as.data.frame, basename, cbind,\n",
      "    colnames, dirname, do.call, duplicated, eval, evalq, Filter, Find,\n",
      "    get, grep, grepl, intersect, is.unsorted, lapply, Map, mapply,\n",
      "    match, mget, order, paste, pmax, pmax.int, pmin, pmin.int,\n",
      "    Position, rank, rbind, Reduce, rownames, sapply, setdiff, sort,\n",
      "    table, tapply, union, unique, unsplit, which.max, which.min\n",
      "\n",
      "\n",
      "Welcome to Bioconductor\n",
      "\n",
      "    Vignettes contain introductory material; view with\n",
      "    'browseVignettes()'. To cite Bioconductor, see\n",
      "    'citation(\"Biobase\")', and for packages 'citation(\"pkgname\")'.\n",
      "\n",
      "\n",
      "Warning message:\n",
      "\"package 'umap' was built under R version 4.2.3\"\n",
      "\n",
      "Attaching package: 'reshape2'\n",
      "\n",
      "\n",
      "The following object is masked from 'package:tidyr':\n",
      "\n",
      "    smiths\n",
      "\n",
      "\n"
     ]
    }
   ],
   "source": [
    "library(tidyverse)\n",
    "library(dplyr) \n",
    "library(vsn)\n",
    "library(ggplot2)\n",
    "library(umap)\n",
    "library(reshape2)"
   ]
  },
  {
   "cell_type": "code",
   "execution_count": null,
   "id": "21a1005c-91f2-4d98-abd1-57a552172454",
   "metadata": {},
   "outputs": [],
   "source": [
    "counts<-read.table(\"T:/PIgroup Nael NadifKasri/Sofia/2025/MEA_seq_patient/Analysis/RNA-seq/PRPS_integration_neurons/ruviii.2000.norm_voom.txt\")\n",
    "rownames(counts)<-counts$Gene\n",
    "counts <- counts[, -ncol(counts)]\n",
    "#replace \".\" to \"-\" for colnames\n",
    "colnames_counts<-colnames(counts)\n",
    "colnames_counts<-gsub(\"\\\\.\", \"-\", colnames_counts)\n",
    "colnames_counts<-str_replace_all(colnames_counts, \"SMARCB1_KSS_CRISPR\", \"SMARCB1_KSS-CRISPR\")\n",
    "colnames(counts)<-colnames_counts\n",
    "\n"
   ]
  },
  {
   "cell_type": "code",
   "execution_count": 4,
   "id": "6554eb9e-22f8-464b-913e-939551142542",
   "metadata": {},
   "outputs": [],
   "source": [
    "samples_info<-read.csv(\"T:/PIgroup Nael NadifKasri/Sofia/2025/MEA_seq_patient/Code/0.Data/RNAseq_data/samples_info.csv\")\n",
    "samples_info$Well_ID <- sub(\".*_\", \"\", samples_info$sample)\n",
    "rownames(samples_info)<-samples_info$sample"
   ]
  },
  {
   "cell_type": "code",
   "execution_count": null,
   "id": "fa41995c-959b-4e06-809f-fb59d4448469",
   "metadata": {},
   "outputs": [],
   "source": [
    "counts_t<-as.data.frame(t(counts))\n",
    "counts_t$sample<-rownames(counts_t)\n",
    "counts_t<-left_join(counts_t,samples_info,by = \"sample\")\n"
   ]
  },
  {
   "cell_type": "code",
   "execution_count": null,
   "id": "7fb4ad4f-6b16-45c9-82ff-a09470e3d4dc",
   "metadata": {},
   "outputs": [],
   "source": [
    "controls<-counts_t[counts_t$condition==\"control\",]\n",
    "mutant<-counts_t[counts_t$condition==\"mutant\",]"
   ]
  },
  {
   "cell_type": "code",
   "execution_count": null,
   "id": "f3c4fd47-9b68-499c-b00c-bcb54190d936",
   "metadata": {},
   "outputs": [],
   "source": [
    "#group by phenotype first and then all\n",
    "numeric_var<-names(controls)[sapply(controls, is.numeric)]"
   ]
  },
  {
   "cell_type": "code",
   "execution_count": null,
   "id": "4298a2a7-558d-40e3-a533-43c27fc36d75",
   "metadata": {},
   "outputs": [],
   "source": [
    "mean_individual_controls<-controls %>% group_by(group)   %>% \n",
    "             summarise_at(numeric_var, mean) %>% as.data.frame()"
   ]
  },
  {
   "cell_type": "code",
   "execution_count": null,
   "id": "a9f83591-3949-4c44-8cda-d0fa8188ee87",
   "metadata": {},
   "outputs": [],
   "source": [
    "mean_individual_controls<-controls %>% group_by(group)   %>% \n",
    "             summarise_at(numeric_var, mean) %>% as.data.frame()\n",
    "mean_controls<-mean_individual_controls %>% \n",
    "             summarise_at(numeric_var, mean) %>% as.data.frame()\n",
    "mean_controls$group<-\"All_controls\"\n",
    "rownames(mean_controls)<-mean_controls$group\n",
    "mean_controls <- mean_controls[, -ncol(mean_controls)]\n",
    "\n",
    "rownames(mean_individual_controls)<-mean_individual_controls$group\n",
    "mean_individual_controls <- mean_individual_controls[-1]"
   ]
  },
  {
   "cell_type": "code",
   "execution_count": null,
   "id": "f4961fa0-9fee-4600-aef6-45eacabd8ea7",
   "metadata": {},
   "outputs": [],
   "source": [
    "all_control_mean_of_means<-rbind(mean_individual_controls,mean_controls)\n"
   ]
  },
  {
   "cell_type": "code",
   "execution_count": null,
   "id": "b81d7c06-a890-4378-86c1-129de91a0628",
   "metadata": {},
   "outputs": [],
   "source": [
    "rownames(mutant)<-mutant$sample"
   ]
  },
  {
   "cell_type": "code",
   "execution_count": null,
   "id": "596f1eeb-17d6-4ddb-8582-2fdbc3f29f98",
   "metadata": {},
   "outputs": [],
   "source": [
    "mutant_normalized<-mutant\n",
    "mutant_normalized_list<-list()\n",
    "for (r in rownames(mutant_normalized)){\n",
    "    df<-mutant_normalized[r,]\n",
    "    pool_to_norm<-df[,\"own_control\"]\n",
    "    norm_row<-all_control_mean_of_means[pool_to_norm,numeric_var]#all_control_means\n",
    "#     df[,colnames(df) %in% numeric_var]\n",
    "#     norm_row\n",
    "    df[,colnames(df) %in% numeric_var]<-df[,colnames(df) %in% numeric_var]-norm_row    #/norm_row, now substract becaus is in log scale\n",
    "    mutant_normalized_list[[r]]<-df\n",
    "}\n",
    "mutant_normalized_list<-do.call(rbind,mutant_normalized_list)"
   ]
  },
  {
   "cell_type": "code",
   "execution_count": null,
   "id": "a53661aa-99ef-42e2-992a-15a1aecdd0f2",
   "metadata": {},
   "outputs": [],
   "source": [
    "counts_norm<-mutant_normalized_list[,numeric_var]"
   ]
  },
  {
   "cell_type": "code",
   "execution_count": null,
   "id": "ffdc3896-efb9-4b24-a32e-843f5ae73fbf",
   "metadata": {},
   "outputs": [],
   "source": [
    "#write.table(t(counts_norm),\"PRPS_voom_norm_control.txt\")"
   ]
  },
  {
   "cell_type": "code",
   "execution_count": 5,
   "id": "61ded37c-62b2-416d-9fa0-cc1dc3e87157",
   "metadata": {},
   "outputs": [],
   "source": [
    "norm_df<-read.table(\"PRPS_voom_norm_control.txt\")\n",
    "\n",
    "\n",
    "norm_df_samples<-gsub(\"\\\\.\", \"-\", colnames(norm_df))\n",
    "norm_df_samples<-str_replace_all(norm_df_samples, \"SMARCB1_KSS_CRISPR\", \"SMARCB1_KSS-CRISPR\")\n",
    "colnames(norm_df)<-norm_df_samples"
   ]
  },
  {
   "cell_type": "code",
   "execution_count": 6,
   "id": "a80d21b4-f32e-4c14-b720-1fc9d32f8f02",
   "metadata": {},
   "outputs": [],
   "source": [
    "counts_norm<-norm_df"
   ]
  },
  {
   "cell_type": "code",
   "execution_count": 7,
   "id": "503c4c19-ca6f-4019-af84-cd8a05739bef",
   "metadata": {},
   "outputs": [],
   "source": [
    "color_vector_cell_line<- setNames(samples_info$color_2,samples_info$cell_line_v2) \n",
    "color_vector_cell_line <- color_vector_cell_line[!duplicated(names(color_vector_cell_line))]\n",
    "\n",
    "shape_project <- c(\"S105199\" = 21, \"S105586\" = 22,\"S106319\"=23)"
   ]
  },
  {
   "cell_type": "code",
   "execution_count": 8,
   "id": "3c90d213-b58d-477e-859a-1f7b5d3323a3",
   "metadata": {},
   "outputs": [
    {
     "data": {
      "text/html": [
       "<style>\n",
       ".dl-inline {width: auto; margin:0; padding: 0}\n",
       ".dl-inline>dt, .dl-inline>dd {float: none; width: auto; display: inline-block}\n",
       ".dl-inline>dt::after {content: \":\\0020\"; padding-right: .5ex}\n",
       ".dl-inline>dt:not(:first-of-type) {padding-left: .5ex}\n",
       "</style><dl class=dl-inline><dt>1</dt><dd>0.164441598279718</dd><dt>2</dt><dd>0.118301000259502</dd><dt>3</dt><dd>0.0919420989690213</dd><dt>4</dt><dd>0.0743173569734621</dd><dt>5</dt><dd>0.0710344794321133</dd><dt>6</dt><dd>0.053374586090632</dd><dt>7</dt><dd>0.0441249278970679</dd><dt>8</dt><dd>0.0379614003148561</dd><dt>9</dt><dd>0.0347166475135383</dd><dt>10</dt><dd>0.0260753881272188</dd><dt>11</dt><dd>0.0208284939494547</dd><dt>12</dt><dd>0.0190215860572409</dd><dt>13</dt><dd>0.0180906534780349</dd><dt>14</dt><dd>0.0166032663145295</dd><dt>15</dt><dd>0.015881210872836</dd><dt>16</dt><dd>0.0138214227675013</dd><dt>17</dt><dd>0.0129224072393682</dd><dt>18</dt><dd>0.0127615907726544</dd><dt>19</dt><dd>0.0124830673262649</dd><dt>20</dt><dd>0.0111421107256909</dd><dt>21</dt><dd>0.0102202154924622</dd><dt>22</dt><dd>0.00939184432321793</dd><dt>23</dt><dd>0.00898612259481436</dd><dt>24</dt><dd>0.00864640090168998</dd><dt>25</dt><dd>0.00829827424040515</dd><dt>26</dt><dd>0.0082703051345287</dd><dt>27</dt><dd>0.00792275901764538</dd><dt>28</dt><dd>0.00763996052400199</dd><dt>29</dt><dd>0.00737558136689626</dd><dt>30</dt><dd>0.0072165425657208</dd><dt>31</dt><dd>0.00710122681451257</dd><dt>32</dt><dd>0.0068716203724838</dd><dt>33</dt><dd>0.00682138463256112</dd><dt>34</dt><dd>0.00659691141093396</dd><dt>35</dt><dd>0.00645355781412467</dd><dt>36</dt><dd>0.00626144494130125</dd><dt>37</dt><dd>0.00608055449199358</dd><dt>38</dt><dd>5.17356461966098e-31</dd></dl>\n"
      ],
      "text/latex": [
       "\\begin{description*}\n",
       "\\item[1] 0.164441598279718\n",
       "\\item[2] 0.118301000259502\n",
       "\\item[3] 0.0919420989690213\n",
       "\\item[4] 0.0743173569734621\n",
       "\\item[5] 0.0710344794321133\n",
       "\\item[6] 0.053374586090632\n",
       "\\item[7] 0.0441249278970679\n",
       "\\item[8] 0.0379614003148561\n",
       "\\item[9] 0.0347166475135383\n",
       "\\item[10] 0.0260753881272188\n",
       "\\item[11] 0.0208284939494547\n",
       "\\item[12] 0.0190215860572409\n",
       "\\item[13] 0.0180906534780349\n",
       "\\item[14] 0.0166032663145295\n",
       "\\item[15] 0.015881210872836\n",
       "\\item[16] 0.0138214227675013\n",
       "\\item[17] 0.0129224072393682\n",
       "\\item[18] 0.0127615907726544\n",
       "\\item[19] 0.0124830673262649\n",
       "\\item[20] 0.0111421107256909\n",
       "\\item[21] 0.0102202154924622\n",
       "\\item[22] 0.00939184432321793\n",
       "\\item[23] 0.00898612259481436\n",
       "\\item[24] 0.00864640090168998\n",
       "\\item[25] 0.00829827424040515\n",
       "\\item[26] 0.0082703051345287\n",
       "\\item[27] 0.00792275901764538\n",
       "\\item[28] 0.00763996052400199\n",
       "\\item[29] 0.00737558136689626\n",
       "\\item[30] 0.0072165425657208\n",
       "\\item[31] 0.00710122681451257\n",
       "\\item[32] 0.0068716203724838\n",
       "\\item[33] 0.00682138463256112\n",
       "\\item[34] 0.00659691141093396\n",
       "\\item[35] 0.00645355781412467\n",
       "\\item[36] 0.00626144494130125\n",
       "\\item[37] 0.00608055449199358\n",
       "\\item[38] 5.17356461966098e-31\n",
       "\\end{description*}\n"
      ],
      "text/markdown": [
       "1\n",
       ":   0.1644415982797182\n",
       ":   0.1183010002595023\n",
       ":   0.09194209896902134\n",
       ":   0.07431735697346215\n",
       ":   0.07103447943211336\n",
       ":   0.0533745860906327\n",
       ":   0.04412492789706798\n",
       ":   0.03796140031485619\n",
       ":   0.034716647513538310\n",
       ":   0.026075388127218811\n",
       ":   0.020828493949454712\n",
       ":   0.019021586057240913\n",
       ":   0.018090653478034914\n",
       ":   0.016603266314529515\n",
       ":   0.01588121087283616\n",
       ":   0.013821422767501317\n",
       ":   0.012922407239368218\n",
       ":   0.012761590772654419\n",
       ":   0.012483067326264920\n",
       ":   0.011142110725690921\n",
       ":   0.010220215492462222\n",
       ":   0.0093918443232179323\n",
       ":   0.0089861225948143624\n",
       ":   0.0086464009016899825\n",
       ":   0.0082982742404051526\n",
       ":   0.008270305134528727\n",
       ":   0.0079227590176453828\n",
       ":   0.0076399605240019929\n",
       ":   0.0073755813668962630\n",
       ":   0.007216542565720831\n",
       ":   0.0071012268145125732\n",
       ":   0.006871620372483833\n",
       ":   0.0068213846325611234\n",
       ":   0.0065969114109339635\n",
       ":   0.0064535578141246736\n",
       ":   0.0062614449413012537\n",
       ":   0.0060805544919935838\n",
       ":   5.17356461966098e-31\n",
       "\n"
      ],
      "text/plain": [
       "           1            2            3            4            5            6 \n",
       "1.644416e-01 1.183010e-01 9.194210e-02 7.431736e-02 7.103448e-02 5.337459e-02 \n",
       "           7            8            9           10           11           12 \n",
       "4.412493e-02 3.796140e-02 3.471665e-02 2.607539e-02 2.082849e-02 1.902159e-02 \n",
       "          13           14           15           16           17           18 \n",
       "1.809065e-02 1.660327e-02 1.588121e-02 1.382142e-02 1.292241e-02 1.276159e-02 \n",
       "          19           20           21           22           23           24 \n",
       "1.248307e-02 1.114211e-02 1.022022e-02 9.391844e-03 8.986123e-03 8.646401e-03 \n",
       "          25           26           27           28           29           30 \n",
       "8.298274e-03 8.270305e-03 7.922759e-03 7.639961e-03 7.375581e-03 7.216543e-03 \n",
       "          31           32           33           34           35           36 \n",
       "7.101227e-03 6.871620e-03 6.821385e-03 6.596911e-03 6.453558e-03 6.261445e-03 \n",
       "          37           38 \n",
       "6.080554e-03 5.173565e-31 "
      ]
     },
     "metadata": {},
     "output_type": "display_data"
    }
   ],
   "source": [
    "# Perform PCA\n",
    "pca_result <- prcomp(t(counts_norm), center = TRUE, scale. = TRUE)\n",
    "pca_pc_metrics<-as.data.frame(pca_result$x)\n",
    "pca_pc_metrics$sample<-rownames(pca_pc_metrics)\n",
    "pca_pc_metrics<-inner_join(pca_pc_metrics,samples_info, by=\"sample\")\n",
    "pca_pc_metrics$cell_line<-factor(pca_pc_metrics$cell_line_v2,levels=samples_info$order)#, levels=pca_pc_metrics$order\n",
    "summ <- summary(pca_result)\n",
    "summ_var<-summ$importance[2,]\n",
    "summ_var<-unname(summ_var[1:50])\n",
    "# Extract the loadings (rotation matrix)\n",
    "loadings <- pca_result$rotation\n",
    "# Extract the proportion of variance explained by each component\n",
    "explained_variance <- pca_result$sdev^2 / sum(pca_result$sdev^2)\n",
    "\n",
    "setNames(explained_variance, seq_along(explained_variance))"
   ]
  },
  {
   "cell_type": "code",
   "execution_count": 9,
   "id": "6f934524-008e-49fd-ba20-3b3c9cf9bfad",
   "metadata": {},
   "outputs": [],
   "source": [
    "custom.config <- umap.defaults\n",
    "custom.config$random_state <- 123"
   ]
  },
  {
   "cell_type": "code",
   "execution_count": 11,
   "id": "8e2d78ec-0402-4ed8-af45-2d5e293bc8c2",
   "metadata": {},
   "outputs": [
    {
     "name": "stderr",
     "output_type": "stream",
     "text": [
      "Warning message in dir.create(paste0(\"PC\", n.components)):\n",
      "\"'PC13' already exists\"\n"
     ]
    }
   ],
   "source": [
    "#make a UMAP?\n",
    "rownames(pca_pc_metrics)<-pca_pc_metrics$sample\n",
    "for (n in 13){\n",
    "    n.components=n\n",
    "    dir.create(paste0(\"PC\",n.components))\n",
    "    umap_m<-pca_pc_metrics[1:n.components]\n",
    "    umap_fit <- umap_m %>%\n",
    "      dplyr::select(where(is.numeric)) %>%  # Select only numeric columns\n",
    "      #scale() %>%                   # Standardize the data\n",
    "      umap(config = custom.config)  # Run UMAP with the custom configuration\n",
    "    umap_df <- as.data.frame(umap_fit$layout)\n",
    "    umap_df$sample<-rownames(umap_df)\n",
    "    colnames(umap_df)<-c(\"UMAP1\",\"UMAP2\",\"sample\")\n",
    "    umap_df<-inner_join(umap_df, samples_info, by=\"sample\")\n",
    "    umap_df$cell_line<-factor(umap_df$cell_line_v2, levels=samples_info$order)\n",
    "\n",
    "    \n",
    "    p<-ggplot(umap_df, aes(UMAP1, UMAP2,  fill=cell_line)) +\n",
    "    geom_point(size=5,shape = 21, # Specify shape and colour as fixed local parameters    \n",
    "             colour = \"black\") + scale_fill_manual(values=color_vector_cell_line)+\n",
    "           theme_minimal()\n",
    " \n",
    "    \n",
    "  \n",
    "    # Display the plot\n",
    "    ggsave(paste0('PC',n.components,'/UMAP_PCA_PRPS_cell_line.pdf'),\n",
    "                  width = 5.3,   # inches\n",
    "                  height = 5,\n",
    "                   plot=p# inches\n",
    "    )\n",
    "    p <- ggplot(umap_df, aes(UMAP1, UMAP2)) +\n",
    "      # First layer: Points with fill and shape, but no border\n",
    "      geom_point(\n",
    "        size = 5, \n",
    "        aes(color = cell_line,shape = project,fill = cell_line), \n",
    "        show.legend = TRUE  # Ensure fill and shape legends are shown\n",
    "      ) + \n",
    "     scale_fill_manual(values = color_vector_cell_line) +  # Color scale for 'fill'\n",
    "      scale_color_manual(values = color_vector_cell_line) +  # Black border color\n",
    "      # Second layer: Black border without fill\n",
    "      geom_point(\n",
    "        size = 5, \n",
    "        aes(shape = project),color=\"black\",  # Black border, no fill\n",
    "        stroke = 1,  # Adjust border thickness if needed\n",
    "        show.legend = FALSE  # Do not show color legend again\n",
    "      ) +\n",
    "     \n",
    "      scale_shape_manual(values = shape_project) +  # Shape scale for 'project'\n",
    "      theme_minimal() +\n",
    "             geom_text(aes(label = Well_ID))  # Avoid overlapping text labels\n",
    "    \n",
    "    # # Save the plot as a TIFF file\n",
    "    tiff(paste0('PC',n.components,'/UMAP_PCA_PRPS_cell_line_labels.tiff'), \n",
    "         res = 300, units = \"in\", width = 5.3, height = 5)\n",
    "    print(p)  # Explicitly print the plot\n",
    "    dev.off()\n",
    "    ggsave(paste0('PC',n.components,'/UMAP_PCA_PRPS_cell_line_labels.pdf'),\n",
    "                  width = 5.3,   # inches\n",
    "                  height = 5,\n",
    "                   plot=p# inches\n",
    "    )\n",
    "    \n",
    "}"
   ]
  }
 ],
 "metadata": {
  "kernelspec": {
   "display_name": "R 4.2.1 (native)",
   "language": "R",
   "name": "ir421_native"
  },
  "language_info": {
   "codemirror_mode": "r",
   "file_extension": ".r",
   "mimetype": "text/x-r-source",
   "name": "R",
   "pygments_lexer": "r",
   "version": "4.2.1"
  }
 },
 "nbformat": 4,
 "nbformat_minor": 5
}
