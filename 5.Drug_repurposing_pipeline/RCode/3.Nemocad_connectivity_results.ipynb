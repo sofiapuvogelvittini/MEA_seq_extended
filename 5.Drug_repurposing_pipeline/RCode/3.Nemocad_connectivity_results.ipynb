{
 "cells": [
  {
   "cell_type": "code",
   "execution_count": 1,
   "id": "a038143f-4eb4-44ff-88bc-e22eb5d22e90",
   "metadata": {},
   "outputs": [
    {
     "name": "stderr",
     "output_type": "stream",
     "text": [
      "Warning message:\n",
      "\"package 'dplyr' was built under R version 4.2.3\"\n",
      "\n",
      "Attaching package: 'dplyr'\n",
      "\n",
      "\n",
      "The following objects are masked from 'package:stats':\n",
      "\n",
      "    filter, lag\n",
      "\n",
      "\n",
      "The following objects are masked from 'package:base':\n",
      "\n",
      "    intersect, setdiff, setequal, union\n",
      "\n",
      "\n",
      "Warning message:\n",
      "\"package 'writexl' was built under R version 4.2.3\"\n",
      "Warning message:\n",
      "\"package 'stringr' was built under R version 4.2.3\"\n",
      "Warning message:\n",
      "\"package 'tidyr' was built under R version 4.2.3\"\n",
      "\n",
      "Attaching package: 'tidyr'\n",
      "\n",
      "\n",
      "The following object is masked from 'package:reshape2':\n",
      "\n",
      "    smiths\n",
      "\n",
      "\n",
      "Warning message:\n",
      "\"package 'ggvenn' was built under R version 4.2.3\"\n",
      "Loading required package: grid\n",
      "\n",
      "Warning message:\n",
      "\"package 'gtools' was built under R version 4.2.3\"\n",
      "Warning message:\n",
      "\"package 'tibble' was built under R version 4.2.3\"\n"
     ]
    }
   ],
   "source": [
    "#identify best drugs for new rescuing experiments\n",
    "#identify best scores, which ones are consistent?\n",
    "library(dplyr)\n",
    "library(ggplot2)\n",
    "library(reshape2) # For data transformation\n",
    "library(writexl)\n",
    "library(stringr)\n",
    "library(tidyr)\n",
    "library(scales) \n",
    "library(ggvenn)\n",
    "library(gtools)\n",
    "library(tibble)\n"
   ]
  },
  {
   "cell_type": "code",
   "execution_count": 2,
   "id": "61443600-08d7-4926-84a4-54d69c103b62",
   "metadata": {},
   "outputs": [],
   "source": [
    "setwd(\"T:/PIgroup Nael NadifKasri/Sofia/2025/MEA_seq_patient/Analysis/Drug_repurposing/results\")"
   ]
  },
  {
   "cell_type": "code",
   "execution_count": 3,
   "id": "7fef2b21-de4c-488d-a531-1c568100fb2f",
   "metadata": {},
   "outputs": [],
   "source": [
    "predictions<-read.csv(\"nemocad_RCSM_drugs_predictions.csv\")\n"
   ]
  },
  {
   "cell_type": "code",
   "execution_count": 4,
   "id": "f37b34f6-a599-4da5-ac07-f2eadd0c3d28",
   "metadata": {},
   "outputs": [],
   "source": [
    "#now we want to foc on rescuing, but we also learn from disease by looking at inducing, so take both\n",
    "# Define a helper function to perform the quantile analysis and summarize\n",
    "calc_sum_ncs <- function(scores) {\n",
    "  quantiles <- quantile(scores, probs = c(0.33, 0.67), na.rm = TRUE)\n",
    "  compound_ncs_q_l <- quantiles[1]\n",
    "  compound_ncs_q_h <- quantiles[2]\n",
    "  sum_ncs <- ifelse(abs(compound_ncs_q_h) >= abs(compound_ncs_q_l),\n",
    "                    compound_ncs_q_h, compound_ncs_q_l)\n",
    "  return(sum_ncs)\n",
    "}\n"
   ]
  },
  {
   "cell_type": "code",
   "execution_count": 5,
   "id": "86f88902-fce5-4f73-8e22-62c108863ca3",
   "metadata": {
    "scrolled": true
   },
   "outputs": [],
   "source": [
    "df_summary <- predictions %>%\n",
    "  group_by(cluster, cmap_name) %>%\n",
    "  summarise(\n",
    "    positive_count = sum(mean_col_scaled > 0, na.rm = TRUE),  \n",
    "    negative_count = sum(mean_col_scaled < 0, na.rm = TRUE),  \n",
    "      cell_line = paste(\n",
    "      paste0(unique(cell_mfc_name), \": \",\n",
    "             sapply(unique(cell_mfc_name), function(x) sum(cell_mfc_name == x))),\n",
    "      collapse = \"; \"\n",
    "    ),\n",
    "    .groups = \"drop\"\n",
    "  )\n",
    "    \n"
   ]
  },
  {
   "cell_type": "code",
   "execution_count": 6,
   "id": "b7a34c36-4855-457d-9221-b57e65e16b7b",
   "metadata": {},
   "outputs": [
    {
     "name": "stderr",
     "output_type": "stream",
     "text": [
      "\u001b[1m\u001b[22m`summarise()` has grouped output by 'cluster'. You can override using the `.groups` argument.\n"
     ]
    }
   ],
   "source": [
    "df_with_sum_ncs <- predictions %>%\n",
    "  group_by(cluster, cmap_name) %>%\n",
    "  summarise(\n",
    "    sum_ncs = calc_sum_ncs(mean_col_scaled)\n",
    "  ) %>%\n",
    "  ungroup()"
   ]
  },
  {
   "cell_type": "code",
   "execution_count": 7,
   "id": "e90e2f08-f3c0-483e-81b3-4620de33d26d",
   "metadata": {},
   "outputs": [],
   "source": [
    "df_merged <- df_summary %>%\n",
    "  left_join(df_with_sum_ncs, by = c(\"cluster\", \"cmap_name\"))"
   ]
  },
  {
   "cell_type": "code",
   "execution_count": 8,
   "id": "6a0bc8bb-ade3-488f-b422-f6e72c4ead86",
   "metadata": {},
   "outputs": [],
   "source": [
    "#check from where i can get some MOA!\n",
    "df_merged$effect<-ifelse(df_merged$sum_ncs > 0 , \"induce\", \"rescue\")"
   ]
  },
  {
   "cell_type": "code",
   "execution_count": 9,
   "id": "d1188839-00a6-482a-abae-51cc7200fe2a",
   "metadata": {},
   "outputs": [],
   "source": [
    "#from the induce and rescue see top repeated MOA!\n",
    "#explore beta\n",
    "compound_info<-read.table(\"T:/PIgroup Nael NadifKasri/Sofia/2025/MEA_seq_patient/Code/0.Data/LINCS_beta/compoundinfo_beta.txt\",  header = TRUE,\n",
    "  sep = \"\\t\",\n",
    "  quote = \"\",\n",
    "  fill = TRUE\n",
    ")"
   ]
  },
  {
   "cell_type": "code",
   "execution_count": 10,
   "id": "5c5725ef-4216-443c-9f9c-76a506a42500",
   "metadata": {},
   "outputs": [],
   "source": [
    "counts<-read.table(\"T:/PIgroup Nael NadifKasri/Sofia/2025/MEA_seq_patient/Analysis/RNA-seq/PRPS_integration_neurons/ruviii.2000.norm_voom.txt\")\n",
    "rownames(counts)<-counts$Gene\n",
    "counts <- counts[, -ncol(counts)]\n",
    "#replace \".\" to \"-\" for colnames\n",
    "colnames_counts<-colnames(counts)\n",
    "colnames_counts<-gsub(\"\\\\.\", \"-\", colnames_counts)\n",
    "colnames_counts<-str_replace_all(colnames_counts, \"SMARCB1_KSS_CRISPR\", \"SMARCB1_KSS-CRISPR\")\n",
    "colnames(counts)<-colnames_counts\n",
    "\n",
    "samples_info<-read.csv(\"T:/PIgroup Nael NadifKasri/Sofia/2025/MEA_seq_patient/Code/0.Data/RNAseq_data/samples_info.csv\")\n",
    "samples_info$Well_ID <- sub(\".*_\", \"\", samples_info$sample)\n",
    "rownames(samples_info)<-samples_info$sample\n",
    "\n",
    "selected_genes<-unique(compound_info$target)\n",
    "selected_genes <- selected_genes[selected_genes %in% rownames(counts)]\n",
    "\n",
    "selected_genes<-selected_genes[!selected_genes == '\"\"']\n",
    "#selected_genes\n",
    "gene_means<-rowMeans(counts[selected_genes,])\n",
    "qs <- quantile(gene_means, probs = c(0.33, 0.67))\n",
    "mean_value <- mean(gene_means)\n",
    "# Create a new vector of categories\n",
    "gene_expression_category <- ifelse(\n",
    "  gene_means <= 0, \n",
    "  \"low\",\n",
    "  ifelse(gene_means <= mean_value, \"below_mean\", \"above_mean\")\n",
    ")\n",
    "#gene_expression_category"
   ]
  },
  {
   "cell_type": "code",
   "execution_count": 11,
   "id": "63a1f6cd-0cf6-4e74-ac0c-684c285bda83",
   "metadata": {},
   "outputs": [],
   "source": [
    "# 1️⃣ Put the named vector into a data frame\n",
    "gene_expression_df <- data.frame(\n",
    "  target = names(gene_expression_category),\n",
    "  target_expression = gene_expression_category,\n",
    "  stringsAsFactors = FALSE\n",
    ")\n",
    "\n",
    "# 2️⃣ Join by \"target\"\n",
    "compound_info <- compound_info %>%\n",
    "  left_join(gene_expression_df, by = \"target\")\n",
    "\n",
    "# 3️⃣ Done!\n",
    "#head(compound_info)"
   ]
  },
  {
   "cell_type": "code",
   "execution_count": 12,
   "id": "8981d10f-b8d7-4ad5-b0b0-3318bad605c1",
   "metadata": {},
   "outputs": [],
   "source": [
    "compound_info_unique <- compound_info %>%\n",
    "  group_by(cmap_name) %>%\n",
    "  summarize(\n",
    "    moa = paste(unique(moa), collapse = \"; \"),\n",
    "     \n",
    "    target_with_expr = paste(unique(paste(target, target_expression, sep = \":\")), collapse = \"; \"),\n",
    "    .groups = \"drop\"\n",
    "  )"
   ]
  },
  {
   "cell_type": "code",
   "execution_count": 13,
   "id": "a1054e1a-4708-4f84-a8dc-df3077421d7e",
   "metadata": {},
   "outputs": [],
   "source": [
    "#add target and MOA to df_merged\n",
    "\n",
    "df_merged <- df_merged %>%\n",
    "  left_join(compound_info_unique %>% select(cmap_name, moa, target_with_expr), by = \"cmap_name\")"
   ]
  },
  {
   "cell_type": "code",
   "execution_count": 14,
   "id": "dc798e17-1a56-4da7-8c48-d29ac34b770c",
   "metadata": {},
   "outputs": [],
   "source": [
    "df_merged$groups<-paste0(df_merged$cluster, \"_\", df_merged$effect)"
   ]
  },
  {
   "cell_type": "code",
   "execution_count": 17,
   "id": "e335513e-c9b5-40ed-b447-23cb4299d810",
   "metadata": {},
   "outputs": [
    {
     "data": {
      "text/html": [
       "<strong>pdf:</strong> 2"
      ],
      "text/latex": [
       "\\textbf{pdf:} 2"
      ],
      "text/markdown": [
       "**pdf:** 2"
      ],
      "text/plain": [
       "pdf \n",
       "  2 "
      ]
     },
     "metadata": {},
     "output_type": "display_data"
    },
    {
     "data": {
      "image/png": "[encoded data removed]",
      "text/plain": [
       "plot without title"
      ]
     },
     "metadata": {
      "image/png": {
       "height": 420,
       "width": 420
      }
     },
     "output_type": "display_data"
    }
   ],
   "source": [
    "\n",
    "\n",
    "# Basic histogram with mean_col_scaled\n",
    "p <- ggplot(predictions, aes(x = mean_col_scaled)) +\n",
    "  geom_histogram(binwidth = 0.1, fill = \"#CCCCCC\", color = \"black\") +\n",
    "#  geom_vline(xintercept = -1, linetype = \"dashed\", color = \"black\", size = 1) +\n",
    "#  geom_vline(xintercept = 1, linetype = \"dashed\", color = \"black\", size = 1) +\n",
    "  labs(\n",
    "    #title = \"Distribution of mean_col_scaled\",\n",
    "    x = \"mean connectivity\",\n",
    "    y = \"Count\"\n",
    "  ) +\n",
    "  theme_minimal()\n",
    "\n",
    "print(p)\n",
    "\n",
    "ggsave(\"mean_col_scaled.pdf\",bg = \"transparent\",\n",
    "                  width = 3,   # inches\n",
    "                  height = 3,\n",
    "                   plot=p# inches\n",
    ")"
   ]
  },
  {
   "cell_type": "code",
   "execution_count": 15,
   "id": "ebb7247d-3d55-408f-b3ea-228c2b704883",
   "metadata": {},
   "outputs": [],
   "source": [
    "df_merged_list<-split(df_merged,df_merged$groups)\n",
    "df_merged_list<-lapply(df_merged_list, function(df) {df[order(-abs(df$sum_ncs)),]\n",
    "                                                  })"
   ]
  },
  {
   "cell_type": "code",
   "execution_count": 19,
   "id": "68a7ad5d-c472-4747-ba6b-78864fb187bd",
   "metadata": {},
   "outputs": [
    {
     "name": "stderr",
     "output_type": "stream",
     "text": [
      "Warning message:\n",
      "\"\u001b[1m\u001b[22mUsing `size` aesthetic for lines was deprecated in ggplot2 3.4.0.\n",
      "\u001b[36mℹ\u001b[39m Please use `linewidth` instead.\"\n"
     ]
    },
    {
     "data": {
      "image/png": "[encoded data removed]",
      "text/plain": [
       "plot without title"
      ]
     },
     "metadata": {
      "image/png": {
       "height": 420,
       "width": 420
      }
     },
     "output_type": "display_data"
    }
   ],
   "source": [
    "# Basic histogram with mean_col_scaled\n",
    "p <- ggplot(df_merged, aes(x = sum_ncs)) +\n",
    "  geom_histogram(binwidth = 0.1, fill = \"#CCCCCC\", color = \"black\") +\n",
    "  geom_vline(xintercept = -1, linetype = \"dashed\", color = \"black\", size = 1) +\n",
    "  geom_vline(xintercept = 1, linetype = \"dashed\", color = \"black\", size = 1) +\n",
    "  labs(\n",
    "    #title = \"Distribution of mean_col_scaled\",\n",
    "    x = \"summarized connectivity\",\n",
    "    y = \"Count\"\n",
    "  ) +\n",
    "  theme_minimal()\n",
    "\n",
    "print(p)\n",
    "\n",
    "\n",
    "ggsave(\"sum_ncs.pdf\",bg = \"transparent\",\n",
    "                  width = 3,   # inches\n",
    "                  height = 3,\n",
    "                   plot=p# inches\n",
    ")"
   ]
  },
  {
   "cell_type": "code",
   "execution_count": 20,
   "id": "8eaf2363-a389-4016-b446-cd435c9cb797",
   "metadata": {},
   "outputs": [],
   "source": [
    "\n",
    "# Write to a single Excel file:\n",
    "write_xlsx(df_merged_list, path = \"Averaged_nemocad_connectivity_results_PLSR.xlsx\")"
   ]
  },
  {
   "cell_type": "code",
   "execution_count": 16,
   "id": "e6794a9f-a399-4ac5-9c4e-0fe5cecd30d9",
   "metadata": {},
   "outputs": [],
   "source": [
    "df_merged_filtered<-df_merged[abs(df_merged$sum_ncs) >= 1,]"
   ]
  },
  {
   "cell_type": "code",
   "execution_count": 17,
   "id": "aa1ee84a-56cb-4a17-906d-b3911fe3d671",
   "metadata": {},
   "outputs": [
    {
     "data": {
      "text/plain": [
       "\n",
       "clust1_induce clust1_rescue clust2_induce clust2_rescue clust3_induce \n",
       "           50            75            10            29            41 \n",
       "clust3_rescue clust4_induce clust4_rescue \n",
       "           24            20            24 "
      ]
     },
     "metadata": {},
     "output_type": "display_data"
    }
   ],
   "source": [
    "table(df_merged_filtered$groups)"
   ]
  },
  {
   "cell_type": "code",
   "execution_count": 18,
   "id": "3a9f7cb5-ebd7-4d35-a71f-59d518c9aaa8",
   "metadata": {},
   "outputs": [],
   "source": [
    "# 1️⃣ Split the MOA column, trim spaces, handle unknowns\n",
    "df_long <- df_merged_filtered %>%\n",
    "  separate_rows(moa, sep = \";\") %>%          # Split on ;\n",
    "  mutate(\n",
    "    moa = str_trim(moa),\n",
    "    moa = str_replace_all(moa, '^\"\"$', \"Unknown\"),\n",
    "    moa = ifelse(is.na(moa) | moa == \"\" | moa == \" \", \"Unknown\", moa)\n",
    "\n",
    "  )"
   ]
  },
  {
   "cell_type": "code",
   "execution_count": 19,
   "id": "7db28afb-0600-495a-873d-0c04241b5562",
   "metadata": {},
   "outputs": [],
   "source": [
    "moa_order <- df_long %>%\n",
    "  group_by(groups, moa) %>%\n",
    "  summarise(max_abs_sum_ncs = max(abs(sum_ncs), na.rm = TRUE), .groups = \"drop\")"
   ]
  },
  {
   "cell_type": "code",
   "execution_count": 20,
   "id": "142ace08-de70-47df-b92d-6390d9fc833e",
   "metadata": {},
   "outputs": [],
   "source": [
    "moa_counts <- df_long %>%\n",
    "  group_by(groups, moa) %>%\n",
    "  summarise(n = n(), .groups = \"drop\")"
   ]
  },
  {
   "cell_type": "code",
   "execution_count": 21,
   "id": "f62c5fbb-abb7-4e22-ba09-73a019dcab97",
   "metadata": {},
   "outputs": [],
   "source": [
    "moa_counts <- moa_counts %>%\n",
    "  left_join(moa_order, by = c(\"groups\", \"moa\"))\n"
   ]
  },
  {
   "cell_type": "code",
   "execution_count": 22,
   "id": "1ef3fc4f-f8e9-4fe0-8c2d-836f86f0ddb6",
   "metadata": {},
   "outputs": [],
   "source": [
    "for (group in levels(factor(moa_counts$groups))){\n",
    "    df<-moa_counts[moa_counts$groups == group, ]\n",
    "    n_moa<-length(unique(df$moa))\n",
    "    est <- max(n_moa * 0.15, 3) \n",
    "    p<- ggplot(df, aes(x = n, y =  reorder(moa, max_abs_sum_ncs))) +\n",
    "    geom_bar(stat = \"identity\") +\n",
    "    \n",
    "    scale_x_continuous(\n",
    "      breaks = pretty_breaks(n = 3),  # 5 nice integer breaks\n",
    "      expand = c(0, 0)\n",
    "    ) +\n",
    "    \n",
    "    labs(\n",
    "    x = \"Count\",\n",
    "    y = \"MOA\"#,\n",
    "   # title = \"MOA counts per group\"\n",
    "  )\n",
    "\n",
    "\n",
    "\n",
    "    ggsave(paste0(\"moa_\",group,\".pdf\"),bg = \"transparent\",\n",
    "                  width = 6,   # inches\n",
    "                  height = est,\n",
    "                   plot=p# inches\n",
    ")\n",
    "    \n",
    "}\n",
    "\n"
   ]
  },
  {
   "cell_type": "code",
   "execution_count": 28,
   "id": "91c2e614-fbae-438a-aa6e-bdceea6ccbd2",
   "metadata": {},
   "outputs": [],
   "source": [
    "n_colors=c(\"1\"=\"#B7A4D1\",\"2\"=\"#008B45\",\"3\"=\"#66FFFF\",\"4\"=\"#F1C6A7\",\"5\"=\"#8896A0\",\"6\"=\"#D6C45C\",\"7\"=\"#3B5A80\",\n",
    "          \"8\"=\"#F1C6A7\", \"9\"=\"#0000FF\",\"10\"=\"#66FFFF\",\"11\"=\"#FF9933\",\"12\"=\"#CCCC00\") #washed out"
   ]
  },
  {
   "cell_type": "code",
   "execution_count": 29,
   "id": "5a37463e-7e57-4595-89d1-83cdc1d4f4e7",
   "metadata": {},
   "outputs": [
    {
     "name": "stderr",
     "output_type": "stream",
     "text": [
      "\n",
      "Attaching package: 'ggVennDiagram'\n",
      "\n",
      "\n",
      "The following object is masked from 'package:tidyr':\n",
      "\n",
      "    unite\n",
      "\n",
      "\n"
     ]
    }
   ],
   "source": [
    "library(ggVennDiagram)\n"
   ]
  },
  {
   "cell_type": "code",
   "execution_count": 30,
   "id": "33b392e9-6135-4bad-82ab-bdd0c6295f32",
   "metadata": {},
   "outputs": [],
   "source": [
    "induce<-df_merged_list[c(1,3,5,7)]\n",
    "rescue<-df_merged_list[c(2,4,6,8)]\n",
    "induce_drugs<-lapply(induce, function (df) df[[\"cmap_name\"]])\n",
    "rescue_drugs<-lapply(rescue, function (df) df[[\"cmap_name\"]])\n",
    "\n",
    "p<-ggvenn(\n",
    "  induce_drugs,\n",
    "  fill_color =  c(\"#C1CDCD\", \"#6E8B3D\", \"#8B7B8B\", \"#F1C6A7\"),  # circle fill colors\n",
    "  stroke_size = 0.5,\n",
    "  set_name_size = 0,\n",
    "  text_size = 4.5\n",
    ")\n",
    "\n",
    "# tiff(\"overlaping_induce_drugs.tiff\", res = 400, units = \"in\", width =5, height = 6)\n",
    "#     print(p)\n",
    "# dev.off()\n",
    "ggsave(\"overlaping_induce_drugs.pdf\", bg = \"transparent\",\n",
    "                  width = 5,   # inches\n",
    "                  height = 6,\n",
    "                   plot=p# inches\n",
    ")\n",
    "\n",
    "                "
   ]
  },
  {
   "cell_type": "code",
   "execution_count": 31,
   "id": "8f65c09f-3972-445c-bff2-42db6bf3d612",
   "metadata": {},
   "outputs": [],
   "source": [
    "induce<-df_merged_list[c(1,3,5,7)]\n",
    "rescue<-df_merged_list[c(2,4,6,8)]\n",
    "induce_drugs<-lapply(induce, function (df) df[[\"cmap_name\"]])\n",
    "rescue_drugs<-lapply(rescue, function (df) df[[\"cmap_name\"]])\n",
    "\n",
    "p<-ggvenn(\n",
    "  rescue_drugs,\n",
    "  fill_color =  c(\"#C1CDCD\", \"#6E8B3D\", \"#8B7B8B\", \"#F1C6A7\"),  # circle fill colors\n",
    "  stroke_size = 0.5,\n",
    "  set_name_size = 0,\n",
    "  text_size = 4.5\n",
    ")\n",
    "\n",
    "# tiff(\"overlaping_rescue_drugs_top6.tiff\", res = 400, units = \"in\", width =5, height = 6)\n",
    "#     print(p)\n",
    "# dev.off()\n",
    "ggsave(\"overlaping_rescue_drugs.pdf\", bg = \"transparent\",\n",
    "                  width = 5,   # inches\n",
    "                  height = 6,\n",
    "                   plot=p# inches\n",
    ")"
   ]
  },
  {
   "cell_type": "code",
   "execution_count": 32,
   "id": "3f627c78-9eaa-4fc9-8221-350c39830047",
   "metadata": {},
   "outputs": [],
   "source": [
    "# Keep each combination group as a list element\n",
    "comb_list <- lapply(2:4, function(k) {\n",
    "  combinations(n = length(rescue_drugs), r = k, v = names(rescue_drugs))\n",
    "})\n",
    "\n",
    "# If you want all combinations in one long list of character vectors:\n",
    "comb_vector_list <- unlist(\n",
    "  lapply(comb_list, function(mat) split(mat, seq(nrow(mat)))),\n",
    "  recursive = FALSE\n",
    ")\n",
    "    # Store intersections in a named list\n",
    "intersections <- list()\n",
    "\n",
    "for (i in 1:length(comb_vector_list)) {\n",
    "  combo <- comb_vector_list[[i]]\n",
    "  combo_name <- paste(combo, collapse = \"_&_\")\n",
    "  intersections[[combo_name]] <- Reduce(intersect, rescue_drugs[combo])\n",
    "}\n",
    "\n",
    "# Example: View 2-way overlap between clust1 and clust2\n",
    "# Convert to tibble and unnest the list column\n",
    "intersections_df <- enframe(intersections, name = \"combination\", value = \"drug\") %>%\n",
    "  unnest(cols = drug)\n",
    "\n",
    "# Write to CSV\n",
    "write.csv(intersections_df, \"drug_rescue_intersections.csv\", row.names = FALSE)"
   ]
  },
  {
   "cell_type": "code",
   "execution_count": 33,
   "id": "7ef0bbca-a074-47bf-8b1d-c1ed0abed0ca",
   "metadata": {},
   "outputs": [],
   "source": [
    "# 1️⃣ Split the MOA column, trim spaces, handle unknowns\n",
    "df_long <- df_merged_filtered %>%\n",
    "  separate_rows(moa, sep = \";\") %>%          # Split on ;\n",
    "  mutate(\n",
    "    moa = str_trim(moa),\n",
    "    moa = str_replace_all(moa, '^\"\"$', \"Unknown\"),\n",
    "    moa = ifelse(is.na(moa) | moa == \"\" | moa == \" \", \"Unknown\", moa)\n",
    "\n",
    "  )"
   ]
  },
  {
   "cell_type": "code",
   "execution_count": 34,
   "id": "9ac4787d-e09e-470b-8118-96b071d28072",
   "metadata": {},
   "outputs": [],
   "source": [
    "df_merged_list<-split(df_long,df_long$groups)\n",
    "df_merged_list<-lapply(df_merged_list, function(df) {df[order(-abs(df$sum_ncs)),]\n",
    "                                                  })\n",
    "df_merged_list<-lapply(df_merged_list, function(df) {df[order(-abs(df$sum_ncs)),]})\n",
    "induce<-df_merged_list[c(1,3,5,7)]\n",
    "rescue<-df_merged_list[c(2,4,6,8)]\n",
    "induce_drugs<-lapply(induce, function (df) df[[\"moa\"]])\n",
    "rescue_drugs<-lapply(rescue, function (df) df[[\"moa\"]])\n",
    "rescue_drugs <- lapply(rescue_drugs, function(x) x[x != \"Unknown\"])\n",
    "induce_drugs <- lapply(induce_drugs, function(x) x[x != \"Unknown\"])\n",
    "\n",
    "names(rescue_drugs) <- c(\"clust1\", \"clust2\", \"clust3\", \"clust4\")\n",
    "names(induce_drugs) <- c(\"clust1\", \"clust2\", \"clust3\", \"clust4\")           "
   ]
  },
  {
   "cell_type": "code",
   "execution_count": 35,
   "id": "333a9b06-cb59-4e46-a475-dbde216cbc18",
   "metadata": {},
   "outputs": [],
   "source": [
    "\n",
    "p<-ggvenn(\n",
    "  induce_drugs,\n",
    "  fill_color =  c(\"#C1CDCD\", \"#6E8B3D\", \"#8B7B8B\", \"#F1C6A7\"),  # circle fill colors\n",
    "  stroke_size = 0.5,\n",
    "  set_name_size = 0,\n",
    "  text_size = 4.5\n",
    ")\n",
    "\n",
    "# tiff(\"overlaping_induce_moa_top6.tiff\", res = 400, units = \"in\", width =5, height = 6)\n",
    "#     print(p)\n",
    "# dev.off()\n",
    "ggsave(\"overlaping_induce_moa_drugs.pdf\", bg = \"transparent\",\n",
    "                  width = 5,   # inches\n",
    "                  height = 6,\n",
    "                   plot=p# inches\n",
    ")"
   ]
  },
  {
   "cell_type": "code",
   "execution_count": 36,
   "id": "2bafc46a-7a86-42bf-9c85-85fa3d7ef36f",
   "metadata": {},
   "outputs": [],
   "source": [
    "p<-ggvenn(\n",
    "rescue_drugs,\n",
    "  fill_color =  c(\"#C1CDCD\", \"#6E8B3D\", \"#8B7B8B\", \"#F1C6A7\"),  # circle fill colors\n",
    "  stroke_size = 0.5,\n",
    "  set_name_size = 0,\n",
    "  text_size = 4.5\n",
    ")\n",
    "\n",
    "# tiff(\"overlaping_rescue_moa_top6.tiff\", res = 400, units = \"in\", width =5, height = 6)\n",
    "#     print(p)\n",
    "# dev.off()\n",
    "ggsave(\"overlaping_rescue_moa_drugs.pdf\", bg = \"transparent\",\n",
    "                  width = 5,   # inches\n",
    "                  height = 6,\n",
    "                   plot=p# inches\n",
    ")"
   ]
  },
  {
   "cell_type": "code",
   "execution_count": 37,
   "id": "68814850-a333-4fe8-8ee5-c298fe27991b",
   "metadata": {},
   "outputs": [],
   "source": [
    "# Keep each combination group as a list element\n",
    "comb_list <- lapply(2:4, function(k) {\n",
    "  combinations(n = length(rescue_drugs), r = k, v = names(rescue_drugs))\n",
    "})\n",
    "\n",
    "# If you want all combinations in one long list of character vectors:\n",
    "comb_vector_list <- unlist(\n",
    "  lapply(comb_list, function(mat) split(mat, seq(nrow(mat)))),\n",
    "  recursive = FALSE\n",
    ")\n",
    "    # Store intersections in a named list\n",
    "intersections <- list()\n",
    "\n",
    "for (i in 1:length(comb_vector_list)) {\n",
    "  combo <- comb_vector_list[[i]]\n",
    "  combo_name <- paste(combo, collapse = \"_&_\")\n",
    "  intersections[[combo_name]] <- Reduce(intersect, rescue_drugs[combo])\n",
    "}\n",
    "\n",
    "# Example: View 2-way overlap between clust1 and clust2\n",
    "# Convert to tibble and unnest the list column\n",
    "intersections_df <- enframe(intersections, name = \"combination\", value = \"drug\") %>%\n",
    "  unnest(cols = drug)\n",
    "\n",
    "# Write to CSV\n",
    "write.csv(intersections_df, \"moa_rescue_intersections.csv\", row.names = FALSE)"
   ]
  },
  {
   "cell_type": "code",
   "execution_count": 38,
   "id": "d9de64c4-6a27-41d8-b280-8f694850d3ee",
   "metadata": {},
   "outputs": [],
   "source": [
    "# Keep each combination group as a list element\n",
    "comb_list <- lapply(2:4, function(k) {\n",
    "  combinations(n = length(induce_drugs), r = k, v = names(induce_drugs))\n",
    "})\n",
    "\n",
    "# If you want all combinations in one long list of character vectors:\n",
    "comb_vector_list <- unlist(\n",
    "  lapply(comb_list, function(mat) split(mat, seq(nrow(mat)))),\n",
    "  recursive = FALSE\n",
    ")\n",
    "    # Store intersections in a named list\n",
    "intersections <- list()\n",
    "\n",
    "for (i in 1:length(comb_vector_list)) {\n",
    "  combo <- comb_vector_list[[i]]\n",
    "  combo_name <- paste(combo, collapse = \"_&_\")\n",
    "  intersections[[combo_name]] <- Reduce(intersect, induce_drugs[combo])\n",
    "}\n",
    "\n",
    "# Example: View 2-way overlap between clust1 and clust2\n",
    "# Convert to tibble and unnest the list column\n",
    "intersections_df <- enframe(intersections, name = \"combination\", value = \"drug\") %>%\n",
    "  unnest(cols = drug)\n",
    "\n",
    "# Write to CSV\n",
    "write.csv(intersections_df, \"moa_induce_intersections.csv\", row.names = FALSE)"
   ]
  }
 ],
 "metadata": {
  "kernelspec": {
   "display_name": "R 4.2.1 (native)",
   "language": "R",
   "name": "ir421_native"
  },
  "language_info": {
   "codemirror_mode": "r",
   "file_extension": ".r",
   "mimetype": "text/x-r-source",
   "name": "R",
   "pygments_lexer": "r",
   "version": "4.2.1"
  }
 },
 "nbformat": 4,
 "nbformat_minor": 5
}
