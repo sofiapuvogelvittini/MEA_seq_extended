{
 "cells": [
  {
   "cell_type": "code",
   "execution_count": 1,
   "id": "fec0bb32-fa80-4616-9e78-435a1549b816",
   "metadata": {},
   "outputs": [
    {
     "name": "stderr",
     "output_type": "stream",
     "text": [
      "Warning message:\n",
      "“package ‘cmapR’ was built under R version 4.4.3”\n",
      "Warning message:\n",
      "“package ‘tibble’ was built under R version 4.4.3”\n",
      "\n",
      "Attaching package: ‘dplyr’\n",
      "\n",
      "\n",
      "The following objects are masked from ‘package:stats’:\n",
      "\n",
      "    filter, lag\n",
      "\n",
      "\n",
      "The following objects are masked from ‘package:base’:\n",
      "\n",
      "    intersect, setdiff, setequal, union\n",
      "\n",
      "\n"
     ]
    }
   ],
   "source": [
    "library(\"cmapR\")\n",
    "library(\"RCSM\")\n",
    "library(\"tibble\")\n",
    "library(\"dplyr\")"
   ]
  },
  {
   "cell_type": "code",
   "execution_count": 2,
   "id": "b6cc7df0-c493-40e2-ab69-a8057387a2c8",
   "metadata": {},
   "outputs": [],
   "source": [
    "trans <- read.table(\"T:/PIgroup Nael NadifKasri/Sofia/2025/MEA_seq_patient/Code/0.Data/LINCS_beta/geneinfo_beta.txt\", header=T, sep=\"\\t\",quote = \"\")\n",
    "colnames(trans)[2] <- \"X\""
   ]
  },
  {
   "cell_type": "code",
   "execution_count": 3,
   "id": "ead69355-f076-4e8d-9a04-c58e9e84b899",
   "metadata": {},
   "outputs": [],
   "source": [
    "\n",
    "drugs<-read.table(\"T:/PIgroup Nael NadifKasri/Sofia/2025/MEA_seq_patient/Code/0.Data/NemoCad_output/drugs_in_full_signature_PLSR.txt\", header=F, sep=\"\\t\",quote = \"\")\n",
    "drugs<-drugs$V1\n",
    "#"
   ]
  },
  {
   "cell_type": "code",
   "execution_count": 4,
   "id": "e85a06b2-c81d-480e-832e-d640a8511bac",
   "metadata": {},
   "outputs": [],
   "source": [
    "sig <- read.table(\"T:/PIgroup Nael NadifKasri/Sofia/2025/MEA_seq_patient/Code/0.Data/LINCS_beta/siginfo_beta.txt\", header=T, sep=\"\\t\",quote = \"\")\n"
   ]
  },
  {
   "cell_type": "code",
   "execution_count": 5,
   "id": "770e6725-4cfd-4919-ba9d-692812a12d34",
   "metadata": {},
   "outputs": [],
   "source": [
    "sig<-sig[sig$cmap_name %in% drugs,]\n",
    "# considering only relevant cell types to reduce the dimesnion of this?\n",
    "relevant_cell<-unique(sig$cell_mfc_name[grepl(\"NEU|NPC\",sig$cell_mfc_name)])\n",
    "relevant_cell<-relevant_cell[!relevant_cell==\"FIBRNPC\"]\n",
    "sig<-sig[sig$cell_mfc_name %in% relevant_cell,]\n"
   ]
  },
  {
   "cell_type": "code",
   "execution_count": 6,
   "id": "23f588cd-f0ca-41bf-97d6-dd2a28d988b0",
   "metadata": {},
   "outputs": [
    {
     "data": {
      "text/html": [
       "2453"
      ],
      "text/latex": [
       "2453"
      ],
      "text/markdown": [
       "2453"
      ],
      "text/plain": [
       "[1] 2453"
      ]
     },
     "metadata": {},
     "output_type": "display_data"
    }
   ],
   "source": [
    "signatures_parse<-unique(sig$sig_id)\n",
    "length(signatures_parse)"
   ]
  },
  {
   "cell_type": "code",
   "execution_count": 8,
   "id": "b3cf3030-948f-4f43-9f54-c5f1c15d8f2e",
   "metadata": {},
   "outputs": [
    {
     "name": "stderr",
     "output_type": "stream",
     "text": [
      "reading /mnt/data/RNAseq_pipeline/ConnectivityMap/LINCS/beta/level5_beta_trt_cp_n720216x12328.gctx\n",
      "\n",
      "done\n",
      "\n"
     ]
    }
   ],
   "source": [
    "my_ds <- parse_gctx(\"T:/PIgroup Nael NadifKasri/Sofia/2025/MEA_seq_patient/Code/0.Data/LINCS_beta/level5_beta_trt_cp_n720216x12328.gctx\",cid=signatures_parse)\n",
    "m <- mat(my_ds) #the parsing should be on the interesitng drugs"
   ]
  },
  {
   "cell_type": "code",
   "execution_count": 9,
   "id": "16e1efb9-47cd-4a78-8ad1-3685da0d0cc6",
   "metadata": {},
   "outputs": [],
   "source": [
    "final_signatures<-colnames(m)"
   ]
  },
  {
   "cell_type": "code",
   "execution_count": 10,
   "id": "4304bd07-bedc-4027-9ab8-b5a9b6504392",
   "metadata": {},
   "outputs": [],
   "source": [
    "sig<-sig[sig$sig_id %in% final_signatures,]\n"
   ]
  },
  {
   "cell_type": "code",
   "execution_count": null,
   "id": "debb393b-1d4d-4ef3-a1b3-1a9e258954bf",
   "metadata": {},
   "outputs": [],
   "source": [
    "setdiff(drugs,unique(sig$cmap_name))"
   ]
  },
  {
   "cell_type": "code",
   "execution_count": 13,
   "id": "a738ae30-ae5c-4226-93ff-f1ee3b4c702f",
   "metadata": {},
   "outputs": [
    {
     "data": {
      "text/html": [
       "<style>\n",
       ".list-inline {list-style: none; margin:0; padding: 0}\n",
       ".list-inline>li {display: inline-block}\n",
       ".list-inline>li:not(:last-child)::after {content: \"\\00b7\"; padding: 0 .5ex}\n",
       "</style>\n",
       "<ol class=list-inline><li>'clust1'</li><li>'clust2'</li><li>'clust3'</li><li>'clust4'</li></ol>\n"
      ],
      "text/latex": [
       "\\begin{enumerate*}\n",
       "\\item 'clust1'\n",
       "\\item 'clust2'\n",
       "\\item 'clust3'\n",
       "\\item 'clust4'\n",
       "\\end{enumerate*}\n"
      ],
      "text/markdown": [
       "1. 'clust1'\n",
       "2. 'clust2'\n",
       "3. 'clust3'\n",
       "4. 'clust4'\n",
       "\n",
       "\n"
      ],
      "text/plain": [
       "[1] \"clust1\" \"clust2\" \"clust3\" \"clust4\""
      ]
     },
     "metadata": {},
     "output_type": "display_data"
    }
   ],
   "source": [
    "#signatures<-read.csv(\"/mnt/data/RNAseq_pipeline/ConnectivityMap/data/all_results_nemocad_MM0Accuracy_top6.csv\")\n",
    "signatures<-read.csv(\"T:/PIgroup Nael NadifKasri/Sofia/2025/MEA_seq_patient/Analysis/Drug_repurposing/all_results_nemocad_PLSR.csv\")\n",
    "clusters<-levels(factor(signatures$cluster))\n",
    "clusters"
   ]
  },
  {
   "cell_type": "code",
   "execution_count": 19,
   "id": "94599ea6-d787-4247-a635-e067f3e73168",
   "metadata": {},
   "outputs": [
    {
     "name": "stdout",
     "output_type": "stream",
     "text": [
      "[1] \"ready with cmap6\"\n",
      "[1] \"ready with cmap6\"\n",
      "[1] \"ready with cmap6\"\n",
      "[1] \"ready with cmap6\"\n"
     ]
    }
   ],
   "source": [
    "results<-list()\n",
    "for (cluster in clusters){\n",
    "\n",
    "\n",
    "    Up<-signatures[signatures$cluster==cluster & signatures$regulation==1,]#hier_clus\n",
    "    Up$X=Up$gene\n",
    "    Up_trans<-merge(trans, Up, by=\"X\")\n",
    "    Down<-signatures[signatures$cluster==cluster & signatures$regulation==0,]\n",
    "    Down$X=Down$gene\n",
    "    Down_trans<-merge(trans, Down, by=\"X\")\n",
    "    \n",
    "    cmap1 <- GSEAweight0Score(m, as.character(Up_trans[,2]), as.character(Down_trans[,2]), permuteNum = 1,pAdjMethod = \"BH\", mcCore = 15)\n",
    "    #print(\"ready with cmap1\")\n",
    "    cmap2 <- GSEAweight1Score(m, as.character(Up_trans[,2]), as.character(Down_trans[,2]), permuteNum = 1,pAdjMethod = \"BH\", mcCore = 15)\n",
    "    #print(\"ready with cmap2\")\n",
    "\n",
    "    cmap3 <- GSEAweight2Score(m, as.character(Up_trans[,2]), as.character(Down_trans[,2]), permuteNum = 1,pAdjMethod = \"BH\", mcCore = 15)\n",
    "    #print(\"ready with cmap3\")\n",
    "\n",
    "    cmap4 <- ZhangScore(m, as.character(Up_trans[,2]), as.character(Down_trans[,2]), permuteNum = 1,pAdjMethod = \"BH\", mcCore = 15)\n",
    "    #print(\"ready with cmap4\")\n",
    "\n",
    "    cmap5 <- KSScore(m, as.character(Up_trans[,2]), as.character(Down_trans[,2]), permuteNum = 1,pAdjMethod = \"BH\", mcCore = 15)\n",
    "    #print(\"ready with cmap5\")\n",
    "\n",
    "    cmap6 <- XSumScore(m, as.character(Up_trans[,2]), as.character(Down_trans[,2]), permuteNum = 1,pAdjMethod = \"BH\", mcCore = 15)\n",
    "    print(\"ready with cmap6\")\n",
    "\n",
    "    cmap1 <- rownames_to_column(cmap1)\n",
    "    cmap2 <- rownames_to_column(cmap2)\n",
    "    cmap3 <- rownames_to_column(cmap3)\n",
    "    cmap4 <- rownames_to_column(cmap4)\n",
    "    cmap5 <- rownames_to_column(cmap5)\n",
    "    cmap6 <- rownames_to_column(cmap6)\n",
    "\n",
    "    colnames(cmap1) <- c(\"sig_id\",\"GSEAweight0Score\",\"GSEAweight0Score_P\",\"GSEAweight0Score_adjP\")\n",
    "    colnames(cmap2) <- c(\"sig_id\",\"GSEAweight1Score\",\"GSEAweight1Score_P\",\"GSEAweight1Score_adjP\")\n",
    "    colnames(cmap3) <- c(\"sig_id\",\"GSEAweight2Score\",\"GSEAweight2Score_P\",\"GSEAweight2Score_adjP\")\n",
    "    colnames(cmap4) <- c(\"sig_id\",\"ZhangScore\",\"ZhangScore_P\",\"ZhangScore_adjP\")\n",
    "    colnames(cmap5) <- c(\"sig_id\",\"KSScore\",\"KSScore_P\",\"KSScore_adjP\")\n",
    "    colnames(cmap6) <- c(\"sig_id\",\"XSumScore\",\"XSumScore_P\",\"XSumScore_adjP\")\n",
    "\n",
    "    merge <- merge(cmap1, cmap2, by=\"sig_id\")\n",
    "    merge <- merge(merge, cmap3, by=\"sig_id\")\n",
    "    merge <- merge(merge, cmap4, by=\"sig_id\")\n",
    "    merge <- merge(merge, cmap5, by=\"sig_id\")\n",
    "    merge <- merge(merge, cmap6, by=\"sig_id\")\n",
    "\n",
    "    merge <- mutate(merge, mean_col = rowMeans(select(merge,c(\"GSEAweight0Score\",\"GSEAweight1Score\",\"GSEAweight2Score\",\"ZhangScore\"\n",
    "    ,\"KSScore\",\"XSumScore\")), na.rm = TRUE))\n",
    "    \n",
    "    merge <- merge(sig, merge, by=\"sig_id\")\n",
    "    #merge <- merge(pert, merge, by=\"pert_id\")\n",
    "    #dim(merge)\n",
    "    results[[cluster]]<-merge\n",
    "\n",
    "    }\n"
   ]
  },
  {
   "cell_type": "code",
   "execution_count": 20,
   "id": "72e291af-18bb-42d3-b08b-d29e1e63daf3",
   "metadata": {},
   "outputs": [],
   "source": [
    "names(results)<-clusters\n",
    "\n",
    "results_2<-results\n",
    "for (cl in names(results_2)){\n",
    "    df<-results_2[[cl]]\n",
    "    df$cluster<-cl\n",
    "    results_2[[cl]]<-df\n",
    "    }\n",
    "\n",
    "all_results<-do.call(rbind, results_2)\n",
    "all_results<- all_results %>% mutate(across(c(\"GSEAweight0Score\",\"GSEAweight1Score\",\"GSEAweight2Score\",\"ZhangScore\",\n",
    "    \"KSScore\",\"XSumScore\"), scale, .names = \"scaled_{.col}\")) %>%\n",
    "    mutate(mean_col_scaled = rowMeans(select(., starts_with(\"scaled_\")), na.rm=TRUE))\n",
    "write.csv(all_results, \"T:/PIgroup Nael NadifKasri/Sofia/2025/MEA_seq_patient/Analysis/Drug_repurposing/results/nemocad_RCSM_drugs_predictions.csv\")    "
   ]
  }
 ],
 "metadata": {
  "kernelspec": {
   "display_name": "R",
   "language": "R",
   "name": "r_rhis"
  },
  "language_info": {
   "codemirror_mode": "r",
   "file_extension": ".r",
   "mimetype": "text/x-r-source",
   "name": "R",
   "pygments_lexer": "r",
   "version": "4.4.2"
  }
 },
 "nbformat": 4,
 "nbformat_minor": 5
}
