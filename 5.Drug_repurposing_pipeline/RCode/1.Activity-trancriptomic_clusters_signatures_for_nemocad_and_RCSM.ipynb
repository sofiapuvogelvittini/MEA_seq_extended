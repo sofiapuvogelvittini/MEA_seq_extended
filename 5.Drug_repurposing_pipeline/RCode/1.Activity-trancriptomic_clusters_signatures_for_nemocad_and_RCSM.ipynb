{
 "cells": [
  {
   "cell_type": "code",
   "execution_count": 1,
   "id": "f73abd16-6bff-4d12-bfde-fcc64a5dae00",
   "metadata": {},
   "outputs": [],
   "source": [
    "setwd(\"T:/PIgroup Nael NadifKasri/Sofia/2025/MEA_seq_patient/Analysis/Drug_repurposing\")"
   ]
  },
  {
   "cell_type": "code",
   "execution_count": 2,
   "id": "81dbd43f-fd34-43be-8e8b-2238c01a0718",
   "metadata": {},
   "outputs": [
    {
     "name": "stderr",
     "output_type": "stream",
     "text": [
      "Warning message:\n",
      "\"package 'dplyr' was built under R version 4.2.3\"\n",
      "\n",
      "Attaching package: 'dplyr'\n",
      "\n",
      "\n",
      "The following objects are masked from 'package:stats':\n",
      "\n",
      "    filter, lag\n",
      "\n",
      "\n",
      "The following objects are masked from 'package:base':\n",
      "\n",
      "    intersect, setdiff, setequal, union\n",
      "\n",
      "\n",
      "Warning message:\n",
      "\"package 'ggrepel' was built under R version 4.2.3\"\n",
      "Warning message:\n",
      "\"package 'tidyverse' was built under R version 4.2.3\"\n",
      "Warning message:\n",
      "\"package 'tibble' was built under R version 4.2.3\"\n",
      "Warning message:\n",
      "\"package 'tidyr' was built under R version 4.2.3\"\n",
      "Warning message:\n",
      "\"package 'readr' was built under R version 4.2.3\"\n",
      "Warning message:\n",
      "\"package 'purrr' was built under R version 4.2.3\"\n",
      "Warning message:\n",
      "\"package 'stringr' was built under R version 4.2.3\"\n",
      "Warning message:\n",
      "\"package 'forcats' was built under R version 4.2.3\"\n",
      "Warning message:\n",
      "\"package 'lubridate' was built under R version 4.2.3\"\n",
      "── \u001b[1mAttaching core tidyverse packages\u001b[22m ──────────────────────────────────────────────────────────────── tidyverse 2.0.0 ──\n",
      "\u001b[32m✔\u001b[39m \u001b[34mforcats  \u001b[39m 1.0.0     \u001b[32m✔\u001b[39m \u001b[34mstringr  \u001b[39m 1.5.1\n",
      "\u001b[32m✔\u001b[39m \u001b[34mlubridate\u001b[39m 1.9.3     \u001b[32m✔\u001b[39m \u001b[34mtibble   \u001b[39m 3.2.1\n",
      "\u001b[32m✔\u001b[39m \u001b[34mpurrr    \u001b[39m 1.0.2     \u001b[32m✔\u001b[39m \u001b[34mtidyr    \u001b[39m 1.3.1\n",
      "\u001b[32m✔\u001b[39m \u001b[34mreadr    \u001b[39m 2.1.5     \n",
      "── \u001b[1mConflicts\u001b[22m ────────────────────────────────────────────────────────────────────────────────── tidyverse_conflicts() ──\n",
      "\u001b[31m✖\u001b[39m \u001b[34mdplyr\u001b[39m::\u001b[32mfilter()\u001b[39m masks \u001b[34mstats\u001b[39m::filter()\n",
      "\u001b[31m✖\u001b[39m \u001b[34mdplyr\u001b[39m::\u001b[32mlag()\u001b[39m    masks \u001b[34mstats\u001b[39m::lag()\n",
      "\u001b[36mℹ\u001b[39m Use the conflicted package (\u001b[3m\u001b[34m<http://conflicted.r-lib.org/>\u001b[39m\u001b[23m) to force all conflicts to become errors\n",
      "\n",
      "Attaching package: 'gridExtra'\n",
      "\n",
      "\n",
      "The following object is masked from 'package:dplyr':\n",
      "\n",
      "    combine\n",
      "\n",
      "\n"
     ]
    }
   ],
   "source": [
    "library(ggplot2)\n",
    "library(reshape2)\n",
    "library(dplyr)\n",
    "library(ggrepel)\n",
    "library(tidyverse)\n",
    "library(CorLevelPlot)\n",
    "library(gridExtra)\n"
   ]
  },
  {
   "cell_type": "code",
   "execution_count": 5,
   "id": "2abdc25a-c6ea-430f-8bd2-71bc693da60c",
   "metadata": {},
   "outputs": [],
   "source": [
    "genes_modules<-read.csv(\"T:/PIgroup Nael NadifKasri/Sofia/2025/MEA_seq_patient/Analysis/RNA-seq/PRPS_integration_neurons/WGCNA/genes_modules_sp16.csv\")\n",
    "rownames(genes_modules)<-genes_modules$X\n",
    "genes_modules<-genes_modules[-1]\n",
    "genes_modules$module<-paste0(\"ME\",genes_modules$module)\n",
    "genes_modules_l<-split(genes_modules,f=genes_modules$module)\n",
    "#head(genes_modules_l)"
   ]
  },
  {
   "cell_type": "code",
   "execution_count": 6,
   "id": "22c8b5aa-7d0d-4e31-b217-7dd994df011f",
   "metadata": {},
   "outputs": [
    {
     "data": {
      "text/html": [
       "<style>\n",
       ".list-inline {list-style: none; margin:0; padding: 0}\n",
       ".list-inline>li {display: inline-block}\n",
       ".list-inline>li:not(:last-child)::after {content: \"\\00b7\"; padding: 0 .5ex}\n",
       "</style>\n",
       "<ol class=list-inline><li>'MEdarkorange'</li><li>'MEdarkturquoise'</li><li>'MElightcyan'</li><li>'MElightgreen'</li><li>'MEorangered4'</li><li>'MEsienna3'</li><li>'MEdarkmagenta'</li></ol>\n"
      ],
      "text/latex": [
       "\\begin{enumerate*}\n",
       "\\item 'MEdarkorange'\n",
       "\\item 'MEdarkturquoise'\n",
       "\\item 'MElightcyan'\n",
       "\\item 'MElightgreen'\n",
       "\\item 'MEorangered4'\n",
       "\\item 'MEsienna3'\n",
       "\\item 'MEdarkmagenta'\n",
       "\\end{enumerate*}\n"
      ],
      "text/markdown": [
       "1. 'MEdarkorange'\n",
       "2. 'MEdarkturquoise'\n",
       "3. 'MElightcyan'\n",
       "4. 'MElightgreen'\n",
       "5. 'MEorangered4'\n",
       "6. 'MEsienna3'\n",
       "7. 'MEdarkmagenta'\n",
       "\n",
       "\n"
      ],
      "text/plain": [
       "[1] \"MEdarkorange\"    \"MEdarkturquoise\" \"MElightcyan\"     \"MElightgreen\"   \n",
       "[5] \"MEorangered4\"    \"MEsienna3\"       \"MEdarkmagenta\"  "
      ]
     },
     "metadata": {},
     "output_type": "display_data"
    }
   ],
   "source": [
    "genes_to_nemocad_all<-read.csv(\"T:/PIgroup Nael NadifKasri/Sofia/2025/MEA_seq_patient/Analysis/MEA-seq/WGCNA_sPLSR/gene_modules_cluster_wilcox_th_sd03_prop08.csv\")\n",
    "genes_to_nemocad<-unique(genes_to_nemocad_all[genes_to_nemocad_all$consistent_significance != \"ns\",\"module\"])\n",
    "genes_to_nemocad"
   ]
  },
  {
   "cell_type": "code",
   "execution_count": 7,
   "id": "e50531dc-0712-43d8-ac84-4d7867326fc8",
   "metadata": {},
   "outputs": [],
   "source": [
    "genes_modules_nemocad<-genes_modules[genes_modules$module %in% genes_to_nemocad,]"
   ]
  },
  {
   "cell_type": "code",
   "execution_count": 8,
   "id": "18b63830-c9dc-4cac-8814-41f2fd6ca545",
   "metadata": {},
   "outputs": [],
   "source": [
    "#this is for nemocad\n",
    "write.table(\n",
    "  genes_modules_nemocad$gene,          # \n",
    "  file = \"full_signature_PLSR.txt\",    # \n",
    "  quote = FALSE,                        # \n",
    "  row.names = FALSE,                     # n\n",
    "  col.names = FALSE                      #\n",
    ")"
   ]
  },
  {
   "cell_type": "code",
   "execution_count": 9,
   "id": "900c1b1f-de4f-4e9e-8c8d-f7ff7a3262b6",
   "metadata": {},
   "outputs": [],
   "source": [
    "genes_to_nemocad_all<- genes_to_nemocad_all %>% mutate(regulation = case_when(\n",
    "      consistent_significance == \"up\" ~ 1,\n",
    "      consistent_significance == \"down\" ~ 0,\n",
    "      consistent_significance == \"ns\" ~ 0.5\n",
    "    ))"
   ]
  },
  {
   "cell_type": "code",
   "execution_count": 10,
   "id": "2bbc3534-54b6-47ab-9170-c8f329665293",
   "metadata": {
    "scrolled": true
   },
   "outputs": [
    {
     "name": "stderr",
     "output_type": "stream",
     "text": [
      "Warning message in left_join(., genes_to_nemocad_all, by = \"module\"):\n",
      "\"\u001b[1m\u001b[22mDetected an unexpected many-to-many relationship between `x` and `y`.\n",
      "\u001b[36mℹ\u001b[39m Row 1 of `x` matches multiple rows in `y`.\n",
      "\u001b[36mℹ\u001b[39m Row 3 of `y` matches multiple rows in `x`.\n",
      "\u001b[36mℹ\u001b[39m If a many-to-many relationship is expected, set `relationship = \"many-to-many\"` to silence this warning.\"\n"
     ]
    }
   ],
   "source": [
    "# Join the two data frames by the module\n",
    "genes_with_info <- genes_modules_nemocad %>%\n",
    "  left_join(\n",
    "    genes_to_nemocad_all, \n",
    "    by = \"module\"\n",
    "  )\n",
    "genes_with_info<-genes_with_info %>%   select(cluster, gene, regulation, module)  # reorder columns\n"
   ]
  },
  {
   "cell_type": "code",
   "execution_count": 11,
   "id": "644ea2c4-9133-4bf1-88cf-94955c1999b2",
   "metadata": {},
   "outputs": [],
   "source": [
    "#This output is then used for 2.RCSM_beta_lincs_connectivity\n",
    "write.csv(genes_with_info,\"all_results_nemocad_PLSR.csv\")"
   ]
  }
 ],
 "metadata": {
  "kernelspec": {
   "display_name": "R 4.2.1 (native)",
   "language": "R",
   "name": "ir421_native"
  },
  "language_info": {
   "codemirror_mode": "r",
   "file_extension": ".r",
   "mimetype": "text/x-r-source",
   "name": "R",
   "pygments_lexer": "r",
   "version": "4.2.1"
  }
 },
 "nbformat": 4,
 "nbformat_minor": 5
}
