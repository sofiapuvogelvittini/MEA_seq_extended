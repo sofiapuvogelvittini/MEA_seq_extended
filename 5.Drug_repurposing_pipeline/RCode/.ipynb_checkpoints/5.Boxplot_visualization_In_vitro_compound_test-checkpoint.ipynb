{
 "cells": [
  {
   "cell_type": "code",
   "execution_count": 1,
   "id": "6761be63-eca0-434b-ace2-3d0dfd184efc",
   "metadata": {},
   "outputs": [],
   "source": [
    "setwd(\"T:/PIgroup Nael NadifKasri/Sofia/2025/MEA_seq_patient/Analysis/Drug_repurposing/results/in_vitro_induction\")"
   ]
  },
  {
   "cell_type": "code",
   "execution_count": 61,
   "id": "6b1fd290-0969-444c-876d-9cb12e265d99",
   "metadata": {},
   "outputs": [],
   "source": [
    "library(pheatmap)\n",
    "library(RColorBrewer)\n",
    "library(randomcoloR)\n",
    "library(tidyverse)\n",
    "library(reshape2)\n",
    "library(dplyr)\n",
    "library(patchwork)  # for arranging plots"
   ]
  },
  {
   "cell_type": "code",
   "execution_count": 4,
   "id": "3ce2e4ec-54e8-42e9-b2b0-67f2963f80d0",
   "metadata": {},
   "outputs": [],
   "source": [
    "data<-read.csv(\"T:/PIgroup Nael NadifKasri/Sofia/2025/MEA_seq_patient/Code/0.Data/MEA_data/ready/Well_summary_parameters_NB_drugs_48_96wpt_and_mutants.csv\")\n",
    "data<-data[-1]\n",
    "rownames(data)<-data$Unique_ID\n",
    "data$NB_rate<-data$hf_and_NB_rate - data$hfNB_rate\n",
    "#Remove the column 'column_name'\n",
    "data <- data %>% select(-hf_and_NB_rate)\n",
    "data$Identidy<-ifelse(data$Phenotype==\"DMSO\",\"Drug_C\",data$Identidy)\n",
    "data$Own_control<-ifelse(data$Phenotype==\"DMSO\",\"WTC\",data$Own_control)\n",
    "data$Own_control<-ifelse(data$Identidy==\"Drug\",\"WTC\",data$Own_control)\n",
    "\n",
    "final_selected_variables<-read.csv(\"T:/PIgroup Nael NadifKasri/Sofia/2025/MEA_seq_patient/Analysis/DIV28/final_selected_variables_001_top4.csv\")\n",
    "final_selected_variables<-final_selected_variables$x\n",
    "data_meta<-data %>%  select(where(is.factor) | where(is.character))\n",
    "\n",
    "data<- merge(data[final_selected_variables], data_meta, by = 0)\n",
    "drugs_info<-read.csv(\"T:/PIgroup Nael NadifKasri/Sofia/2025/MEA_seq_patient/Code/0.Data/MEA_data/drugs_colors.csv\")\n",
    "data$Phenotype<-factor(data$Phenotype,levels=drugs_info$Phenotype)\n",
    "desired_batch<-c('109-4916','109-4955','110-5711','97-0505')\n",
    "data<-data[data$batch %in% desired_batch,]\n",
    "\n",
    "color_Phenotype<-drugs_info$Color_v3\n",
    "\n",
    "names(color_Phenotype)<-drugs_info$Phenotype\n",
    "#ADNP, YY1 and WTC measeq!\n",
    "data <- mutate(data, MEAseq_wells = ifelse(batch == \"97-0505\" & Well_Label %in% c(\"A1\",\"C1\",\"A2\", #WTC\n",
    "                                                                                  \"A5\",\"A6\",\"B6\", #YY1\n",
    "                                                                                  \"C3\",\"C4\",\"B4\"), #adnp\n",
    "                                           \"yes\", \"no\"))"
   ]
  },
  {
   "cell_type": "code",
   "execution_count": 5,
   "id": "2cb6775a-ef34-4e29-bfd4-908abe4f47f1",
   "metadata": {},
   "outputs": [
    {
     "name": "stderr",
     "output_type": "stream",
     "text": [
      "Warning message in cbind(parts$left, chars$ellip_h, parts$right, deparse.level = 0L):\n",
      "\"number of rows of result is not a multiple of vector length (arg 2)\"\n",
      "Warning message in cbind(parts$left, chars$ellip_h, parts$right, deparse.level = 0L):\n",
      "\"number of rows of result is not a multiple of vector length (arg 2)\"\n",
      "Warning message in cbind(parts$left, chars$ellip_h, parts$right, deparse.level = 0L):\n",
      "\"number of rows of result is not a multiple of vector length (arg 2)\"\n",
      "Warning message in cbind(parts$left, chars$ellip_h, parts$right, deparse.level = 0L):\n",
      "\"number of rows of result is not a multiple of vector length (arg 2)\"\n"
     ]
    },
    {
     "data": {
      "text/html": [
       "<table class=\"dataframe\">\n",
       "<caption>A data.frame: 0 × 42</caption>\n",
       "<thead>\n",
       "\t<tr><th scope=col>Row.names</th><th scope=col>INBI</th><th scope=col>IEBI_CV</th><th scope=col>EB_prop</th><th scope=col>INBI_Std</th><th scope=col>EB_rate_Std</th><th scope=col>EB_ISI</th><th scope=col>Firing_rate_Hz</th><th scope=col>NB_rate</th><th scope=col>Spikes_per_EB_Std</th><th scope=col>⋯</th><th scope=col>Own_control</th><th scope=col>isogenic</th><th scope=col>Pool_Kleefstra</th><th scope=col>Pool_WTC_CHD2</th><th scope=col>Pool_CACNA1A</th><th scope=col>Pool_SMARCB1</th><th scope=col>Pool_ARID1B_2_rescue</th><th scope=col>Unique_ID</th><th scope=col>PT_all_path_Well_Label</th><th scope=col>MEAseq_wells</th></tr>\n",
       "\t<tr><th scope=col>&lt;I&lt;chr&gt;&gt;</th><th scope=col>&lt;dbl&gt;</th><th scope=col>&lt;dbl&gt;</th><th scope=col>&lt;dbl&gt;</th><th scope=col>&lt;dbl&gt;</th><th scope=col>&lt;dbl&gt;</th><th scope=col>&lt;dbl&gt;</th><th scope=col>&lt;dbl&gt;</th><th scope=col>&lt;dbl&gt;</th><th scope=col>&lt;dbl&gt;</th><th scope=col>⋯</th><th scope=col>&lt;chr&gt;</th><th scope=col>&lt;chr&gt;</th><th scope=col>&lt;chr&gt;</th><th scope=col>&lt;chr&gt;</th><th scope=col>&lt;chr&gt;</th><th scope=col>&lt;chr&gt;</th><th scope=col>&lt;chr&gt;</th><th scope=col>&lt;chr&gt;</th><th scope=col>&lt;chr&gt;</th><th scope=col>&lt;chr&gt;</th></tr>\n",
       "</thead>\n",
       "<tbody>\n",
       "</tbody>\n",
       "</table>\n"
      ],
      "text/latex": [
       "A data.frame: 0 × 42\n",
       "\\begin{tabular}{lllllllllllllllllllll}\n",
       " Row.names & INBI & IEBI\\_CV & EB\\_prop & INBI\\_Std & EB\\_rate\\_Std & EB\\_ISI & Firing\\_rate\\_Hz & NB\\_rate & Spikes\\_per\\_EB\\_Std & ⋯ & Own\\_control & isogenic & Pool\\_Kleefstra & Pool\\_WTC\\_CHD2 & Pool\\_CACNA1A & Pool\\_SMARCB1 & Pool\\_ARID1B\\_2\\_rescue & Unique\\_ID & PT\\_all\\_path\\_Well\\_Label & MEAseq\\_wells\\\\\n",
       " <I<chr>> & <dbl> & <dbl> & <dbl> & <dbl> & <dbl> & <dbl> & <dbl> & <dbl> & <dbl> & ⋯ & <chr> & <chr> & <chr> & <chr> & <chr> & <chr> & <chr> & <chr> & <chr> & <chr>\\\\\n",
       "\\hline\n",
       "\\end{tabular}\n"
      ],
      "text/markdown": [
       "\n",
       "A data.frame: 0 × 42\n",
       "\n",
       "| Row.names &lt;I&lt;chr&gt;&gt; | INBI &lt;dbl&gt; | IEBI_CV &lt;dbl&gt; | EB_prop &lt;dbl&gt; | INBI_Std &lt;dbl&gt; | EB_rate_Std &lt;dbl&gt; | EB_ISI &lt;dbl&gt; | Firing_rate_Hz &lt;dbl&gt; | NB_rate &lt;dbl&gt; | Spikes_per_EB_Std &lt;dbl&gt; | ⋯ ⋯ | Own_control &lt;chr&gt; | isogenic &lt;chr&gt; | Pool_Kleefstra &lt;chr&gt; | Pool_WTC_CHD2 &lt;chr&gt; | Pool_CACNA1A &lt;chr&gt; | Pool_SMARCB1 &lt;chr&gt; | Pool_ARID1B_2_rescue &lt;chr&gt; | Unique_ID &lt;chr&gt; | PT_all_path_Well_Label &lt;chr&gt; | MEAseq_wells &lt;chr&gt; |\n",
       "|---|---|---|---|---|---|---|---|---|---|---|---|---|---|---|---|---|---|---|---|---|\n",
       "\n"
      ],
      "text/plain": [
       "     Row.names INBI IEBI_CV EB_prop INBI_Std EB_rate_Std EB_ISI Firing_rate_Hz\n",
       "     NB_rate Spikes_per_EB_Std ⋯ Own_control isogenic Pool_Kleefstra\n",
       "     Pool_WTC_CHD2 Pool_CACNA1A Pool_SMARCB1 Pool_ARID1B_2_rescue Unique_ID\n",
       "     PT_all_path_Well_Label MEAseq_wells"
      ]
     },
     "metadata": {},
     "output_type": "display_data"
    }
   ],
   "source": [
    "exclude_noMEAseq<-data[data$Phenotype %in% c(\"ADNP_CR\",\"YY1_CR\") & data$MEAseq_wells==\"no\",]\n",
    "exclude_WTCnoMEAseq<-data[data$Phenotype %in% c(\"WTC\") & data$batch == \"97-0505\" & data$MEAseq_wells==\"no\",]\n",
    "data_measeq<-data[!rownames(data) %in% rownames(exclude_noMEAseq),]\n",
    "data_measeq<-data_measeq[!rownames(data_measeq) %in% rownames(exclude_WTCnoMEAseq),]\n",
    "#ALSO EXCLUDE A3, A4, A5, from 109-4955!! bad cultures\n",
    "exclude_bad_WTC <- data_measeq[data_measeq$batch==\"109-4955\" & data_measeq$Well_Label %in% c(\"A3\",\"A4\",\"A5\"),]\n",
    "data_measeq<-data_measeq[!rownames(data_measeq) %in% rownames(exclude_bad_WTC),]\n",
    "data_measeq<-droplevels(data_measeq)\n",
    "data_measeq[data_measeq$batch==\"109-4955\" & data_measeq$Well_Label %in% c(\"A3\",\"A4\",\"A5\"),]"
   ]
  },
  {
   "cell_type": "code",
   "execution_count": 40,
   "id": "3265a2bc-8e10-417e-ae72-97de221dcfa5",
   "metadata": {},
   "outputs": [],
   "source": [
    "#now select the drugs and plut shred all \n",
    "keep<-c('DMSO',     \n",
    "        'EpothiloneB[5nM]','EpothiloneB[10nM]',\n",
    "        'CytochalastinD[1µM]','CytochalastinD[2.5µM]',\n",
    "       'ADNP_CR','YY1_CR')\n",
    "DIV_keep<-c(\"DIV28\", \"DIV35\", \"DIV42\", \"DIV49\")"
   ]
  },
  {
   "cell_type": "code",
   "execution_count": 41,
   "id": "b3d61e3d-d69c-4866-8c5f-df2559f2859f",
   "metadata": {},
   "outputs": [],
   "source": [
    "boxplot_data<-data_measeq[data_measeq$Phenotype %in% keep,]\n",
    "boxplot_data<-boxplot_data[boxplot_data$DIV_range %in% DIV_keep,]\n",
    "\n",
    "boxplot_data<-droplevels(boxplot_data)"
   ]
  },
  {
   "cell_type": "code",
   "execution_count": 42,
   "id": "1574b1ed-cba9-4fb4-82d1-5f003144f15d",
   "metadata": {},
   "outputs": [],
   "source": [
    "color_Phenotype<-drugs_info$Color_v3\n",
    "names(color_Phenotype)<-drugs_info$Phenotype"
   ]
  },
  {
   "cell_type": "code",
   "execution_count": 43,
   "id": "c1442f3f-a21e-443c-b969-d9b2f59c260d",
   "metadata": {},
   "outputs": [],
   "source": [
    "boxplot_data$Phenotype<-factor(boxplot_data$Phenotype, levels=c(\"DMSO\",\n",
    "                                                                \"EpothiloneB[5nM]\",\"EpothiloneB[10nM]\",\n",
    "                                                                \"CytochalastinD[1µM]\",\"CytochalastinD[2.5µM]\",\n",
    "                                                                \"ADNP_CR\",\"YY1_CR\"))"
   ]
  },
  {
   "cell_type": "code",
   "execution_count": 20,
   "id": "163b93c5-f60e-448e-aa6b-adb17616f509",
   "metadata": {},
   "outputs": [
    {
     "data": {
      "text/html": [
       "<style>\n",
       ".list-inline {list-style: none; margin:0; padding: 0}\n",
       ".list-inline>li {display: inline-block}\n",
       ".list-inline>li:not(:last-child)::after {content: \"\\00b7\"; padding: 0 .5ex}\n",
       "</style>\n",
       "<ol class=list-inline><li>'DMSO'</li><li>'EpothiloneB[5nM]'</li><li>'EpothiloneB[10nM]'</li><li>'CytochalastinD[1µM]'</li><li>'CytochalastinD[2.5µM]'</li><li>'ADNP_CR'</li><li>'YY1_CR'</li></ol>\n"
      ],
      "text/latex": [
       "\\begin{enumerate*}\n",
       "\\item 'DMSO'\n",
       "\\item 'EpothiloneB{[}5nM{]}'\n",
       "\\item 'EpothiloneB{[}10nM{]}'\n",
       "\\item 'CytochalastinD{[}1µM{]}'\n",
       "\\item 'CytochalastinD{[}2.5µM{]}'\n",
       "\\item 'ADNP\\_CR'\n",
       "\\item 'YY1\\_CR'\n",
       "\\end{enumerate*}\n"
      ],
      "text/markdown": [
       "1. 'DMSO'\n",
       "2. 'EpothiloneB[5nM]'\n",
       "3. 'EpothiloneB[10nM]'\n",
       "4. 'CytochalastinD[1µM]'\n",
       "5. 'CytochalastinD[2.5µM]'\n",
       "6. 'ADNP_CR'\n",
       "7. 'YY1_CR'\n",
       "\n",
       "\n"
      ],
      "text/plain": [
       "[1] \"DMSO\"                  \"EpothiloneB[5nM]\"      \"EpothiloneB[10nM]\"    \n",
       "[4] \"CytochalastinD[1µM]\"   \"CytochalastinD[2.5µM]\" \"ADNP_CR\"              \n",
       "[7] \"YY1_CR\"               "
      ]
     },
     "metadata": {},
     "output_type": "display_data"
    }
   ],
   "source": [
    "levels(boxplot_data$Phenotype)"
   ]
  },
  {
   "cell_type": "code",
   "execution_count": 44,
   "id": "282b37cc-35d1-4296-a3cc-8b57ab9b5d76",
   "metadata": {},
   "outputs": [],
   "source": [
    "# Convert to long format for ggplot\n",
    "df_long <- boxplot_data %>%\n",
    "  pivot_longer(cols = all_of(final_selected_variables),\n",
    "               names_to = \"variable\",\n",
    "               values_to = \"value\")"
   ]
  },
  {
   "cell_type": "code",
   "execution_count": 59,
   "id": "17089dcb-fb1c-4ed5-ba9d-facfe480affe",
   "metadata": {},
   "outputs": [],
   "source": [
    "# ---- Loop through each variable ----\n",
    "for (var in final_selected_variables) {\n",
    "\n",
    "  df_sub <- df_long %>% filter(variable == var)\n",
    "\n",
    "  # Make sure factors have consistent levels for uniform spacing\n",
    "  df_sub <- df_sub %>%\n",
    "    mutate(\n",
    "      DIV_range = factor(DIV_range, levels = unique(df_long$DIV_range)),\n",
    "      Phenotype = factor(Phenotype, levels = names(color_Phenotype))\n",
    "    )\n",
    "\n",
    "  # Define dodge for alignment\n",
    "  dodge <- position_dodge(width = 0.8)\n",
    "\n",
    "  p <- ggplot(df_sub, aes(x = DIV_range, y = value, fill = Phenotype)) +\n",
    "    \n",
    "    # Boxplot — fixed width, semi-transparent\n",
    "    geom_boxplot(\n",
    "      outlier.shape = NA,\n",
    "      alpha = 0.5,\n",
    "      position = dodge,\n",
    "      color = \"black\",\n",
    "      width = 0.6\n",
    "    ) +\n",
    "\n",
    "    # Dots — fill by Phenotype, black border, shape by batch\n",
    "    geom_point(\n",
    "      aes(shape = batch, fill = Phenotype, group = Phenotype),\n",
    "      color = \"black\",\n",
    "      position = position_jitterdodge(jitter.width = 0.1, dodge.width = 0.8),\n",
    "      size = 3,\n",
    "      stroke = 0.6\n",
    "    ) +\n",
    "\n",
    "    scale_fill_manual(values = color_Phenotype) +\n",
    "    scale_shape_manual(values = 21:25) +  # fillable shapes for batches\n",
    "\n",
    "    # Theme with all text black\n",
    "    theme_bw(base_size = 14) +\n",
    "    theme(\n",
    "      axis.text.x = element_text(angle = 45, hjust = 1, color = \"black\"),\n",
    "      axis.text.y = element_text(color = \"black\"),\n",
    "      axis.title = element_text(color = \"black\"),\n",
    "      legend.text = element_text(color = \"black\"),\n",
    "      legend.title = element_text(color = \"black\"),\n",
    "      strip.text = element_text(color = \"black\"),\n",
    "      panel.grid.minor = element_blank()\n",
    "    ) +\n",
    "    labs(\n",
    "      x = \"DIV Range\",\n",
    "      y = var\n",
    "    )\n",
    "\n",
    "  # Save each plot as a PDF (A4 landscape, slim)\n",
    "  filename <- paste0(\"boxplots/\", var, \".pdf\")\n",
    "  ggsave(filename, plot = p, width = 11.7, height = 5, units = \"in\")\n",
    "}\n"
   ]
  },
  {
   "cell_type": "code",
   "execution_count": 57,
   "id": "00115a7f-e868-4bee-b540-f48ed954bf89",
   "metadata": {},
   "outputs": [],
   "source": [
    "# ---- Filter data for DIV49 and relevant Phenotypes ----\n",
    "df_sub <- df_long %>%\n",
    "  filter(DIV_range == \"DIV49\", Phenotype %in% c(\"DMSO\", \"ADNP_CR\", \"YY1_CR\"))\n",
    "\n",
    "df_sub <- df_sub %>%\n",
    "  mutate(\n",
    "    Combined = case_when(\n",
    "      Phenotype %in% c(\"ADNP_CR\", \"YY1_CR\") ~ \"cluster_4\",\n",
    "      Phenotype == \"DMSO\" ~ \"DMSO\"\n",
    "    )\n",
    "  )\n",
    "\n",
    "\n",
    "# Initialize results dataframe\n",
    "results <- data.frame(\n",
    "  variable = character(),\n",
    "  group1 = character(),\n",
    "  group2 = character(),\n",
    "  p_value = numeric(),\n",
    "  stringsAsFactors = FALSE\n",
    ")\n",
    "\n",
    "# ---- Loop through variables and perform Wilcoxon test ----\n",
    "for (var in final_selected_variables) {\n",
    "  \n",
    "  # Filter for this variable\n",
    "  df_var <- df_sub %>% filter(variable == var)\n",
    "  \n",
    "  # Extract values per group\n",
    "  vals_CR <- df_var %>% filter(Combined == \"cluster_4\") %>% pull(value)\n",
    "  vals_DMSO <- df_var %>% filter(Combined == \"DMSO\") %>% pull(value)\n",
    "  \n",
    "  # Wilcoxon rank-sum test (non-parametric)\n",
    "  if (length(vals_CR) > 0 & length(vals_DMSO) > 0) {\n",
    "    test <- wilcox.test(vals_CR, vals_DMSO, exact = FALSE)\n",
    "    p <- test$p.value\n",
    "  } else {\n",
    "    p <- NA\n",
    "  }\n",
    "  \n",
    "  # Store results\n",
    "  results <- rbind(results, data.frame(\n",
    "    variable = var,\n",
    "    group1 = \"cluster_4\",\n",
    "    group2 = \"DMSO\",\n",
    "    p_value = p,\n",
    "    stringsAsFactors = FALSE\n",
    "  ))\n",
    "}\n",
    "\n",
    "# ---- Save to CSV ----\n",
    "write.csv(results, \"DIV49_cluster_4_vs_DMSO_wilcox.csv\", row.names = FALSE)"
   ]
  },
  {
   "cell_type": "code",
   "execution_count": 80,
   "id": "f9fe6bbd-61e9-439e-9afd-d410de96b5a0",
   "metadata": {},
   "outputs": [],
   "source": [
    "# ---- Filter variables with p-value < 0.05 and sort by p-value ----\n",
    "selected_vars <- results %>%\n",
    "  filter(p_value < 0.05) %>%\n",
    "  arrange(p_value) %>%\n",
    "  pull(variable)\n",
    "\n",
    "# ---- Filter df_long for selected variables ----\n",
    "df_sub <- df_long %>%\n",
    "  filter(variable %in% selected_vars) %>%\n",
    "  mutate(\n",
    "    DIV_range = factor(DIV_range, levels = unique(df_long$DIV_range)),\n",
    "    Phenotype = factor(Phenotype, levels = c(\n",
    "      \"DMSO\",\n",
    "      \"EpothiloneB[5nM]\", \"EpothiloneB[10nM]\",\n",
    "      \"CytochalastinD[1µM]\", \"CytochalastinD[2.5µM]\",\n",
    "      \"ADNP_CR\", \"YY1_CR\"\n",
    "    ))\n",
    "  )\n",
    "# ---- Define dodge for boxplots ----\n",
    "dodge <- position_dodge(width = 0.8)\n",
    "\n",
    "# ---- Facet plot ----\n",
    "facet_plot <- ggplot(df_sub, aes(x = DIV_range, y = value, fill = Phenotype)) +\n",
    "  \n",
    "  geom_boxplot(\n",
    "    outlier.shape = NA,\n",
    "    alpha = 0.5,\n",
    "    position = dodge,\n",
    "    color = \"black\",\n",
    "    width = 0.6\n",
    "  ) +\n",
    "\n",
    "  geom_point(\n",
    "    aes(shape = batch, fill = Phenotype, group = Phenotype),\n",
    "    color = \"black\",\n",
    "    position = position_jitterdodge(jitter.width = 0.1, dodge.width = 0.8),\n",
    "    size = 2,\n",
    "    stroke = 0.6\n",
    "  ) +\n",
    "\n",
    "  scale_fill_manual(values = color_Phenotype) +\n",
    "  scale_shape_manual(values = 21:25) +\n",
    "\n",
    "  facet_wrap(~variable, scales = \"free_y\", ncol = 1) +\n",
    "\n",
    "  theme_minimal(base_size = 12) +\n",
    "  theme(\n",
    "    axis.text.x = element_text(size = 10, angle = 45, hjust = 1, color = \"black\"),\n",
    "    axis.text.y = element_text(size = 10, color = \"black\"),\n",
    "    axis.title.y = element_blank(),   # remove generic y-label\n",
    "    strip.text = element_text(size = 10, face = \"bold\", color = \"black\"),\n",
    "    panel.background = element_rect(fill = NA, colour = NA),\n",
    "    panel.border = element_rect(color = \"black\", fill = NA),\n",
    "    plot.background = element_rect(fill = NA, colour = NA),\n",
    "    legend.position = \"none\"\n",
    "  ) +\n",
    "  xlab(\"DIV Range\")\n",
    "# ---- Save A4 PDF ----\n",
    "ggsave(\n",
    "  \"boxplots/significant_variables_facet_plot_A4.pdf\",\n",
    "  plot = facet_plot,\n",
    "  width = 8, height = 12,   # A4 portrait size\n",
    "  bg = \"transparent\"\n",
    ")"
   ]
  }
 ],
 "metadata": {
  "kernelspec": {
   "display_name": "R 4.2.1 (native)",
   "language": "R",
   "name": "ir421_native"
  },
  "language_info": {
   "codemirror_mode": "r",
   "file_extension": ".r",
   "mimetype": "text/x-r-source",
   "name": "R",
   "pygments_lexer": "r",
   "version": "4.2.1"
  }
 },
 "nbformat": 4,
 "nbformat_minor": 5
}
