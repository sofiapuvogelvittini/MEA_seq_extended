{
 "cells": [
  {
   "cell_type": "code",
   "execution_count": 1,
   "id": "bd773863",
   "metadata": {},
   "outputs": [
    {
     "data": {
      "text/html": [
       "        <script type=\"text/javascript\">\n",
       "        window.PlotlyConfig = {MathJaxConfig: 'local'};\n",
       "        if (window.MathJax && window.MathJax.Hub && window.MathJax.Hub.Config) {window.MathJax.Hub.Config({SVG: {font: \"STIX-Web\"}});}\n",
       "        if (typeof require !== 'undefined') {\n",
       "        require.undef(\"plotly\");\n",
       "        requirejs.config({\n",
       "            paths: {\n",
       "                'plotly': ['https://cdn.plot.ly/plotly-2.27.0.min']\n",
       "            }\n",
       "        });\n",
       "        require(['plotly'], function(Plotly) {\n",
       "            window._Plotly = Plotly;\n",
       "        });\n",
       "        }\n",
       "        </script>\n",
       "        "
      ]
     },
     "metadata": {},
     "output_type": "display_data"
    }
   ],
   "source": [
    "import nemocad as nemo\n",
    "import cmapPy\n",
    "import os\n",
    "import numpy as np\n",
    "import pandas as pd\n",
    "import plotly.offline as py\n",
    "import plotly.figure_factory as ff\n",
    "import plotly.graph_objs as gobj\n"
   ]
  },
  {
   "cell_type": "code",
   "execution_count": null,
   "id": "b149fe95",
   "metadata": {},
   "outputs": [],
   "source": [
    "#I adjusted def parse_lincs_metadata() funciton in nemocad code to read beta lincs files "
   ]
  },
  {
   "cell_type": "code",
   "execution_count": null,
   "id": "50db3912",
   "metadata": {},
   "outputs": [],
   "source": [
    "new_prob = nemo.estimate_probs()"
   ]
  },
  {
   "cell_type": "code",
   "execution_count": null,
   "id": "acd1302d",
   "metadata": {
    "scrolled": true
   },
   "outputs": [],
   "source": [
    "beta= nemo.parse_lincs_metadata()"
   ]
  },
  {
   "cell_type": "code",
   "execution_count": 2,
   "id": "4af1f11a",
   "metadata": {},
   "outputs": [],
   "source": [
    "from cmapPy.pandasGEXpress.parse import parse"
   ]
  },
  {
   "cell_type": "code",
   "execution_count": 3,
   "id": "a8f6d19b",
   "metadata": {},
   "outputs": [],
   "source": [
    "time_averaged=True \n",
    "lengthscale=1.0\n",
    "interval=(0, float('inf'))\n",
    "data_dir=None \n",
    "suffix='_custom'\n",
    "verbose=False"
   ]
  },
  {
   "cell_type": "code",
   "execution_count": 4,
   "id": "5068912e",
   "metadata": {},
   "outputs": [],
   "source": [
    "data_dir=\"/home/sofia.puvogel@mydre.org/anaconda3/envs/nemocad/lib/python3.7/site-packages/nemocad/dat/lincs/\""
   ]
  },
  {
   "cell_type": "code",
   "execution_count": 5,
   "id": "6ddb5e1b",
   "metadata": {},
   "outputs": [],
   "source": [
    "sig_metadata, gene_metadata, pert_metadata, gene_syms, gene_id2sym_dict, gene_sym2id_dict, lincs_pert_set = nemo.parse_lincs_metadata()\n"
   ]
  },
  {
   "cell_type": "code",
   "execution_count": 6,
   "id": "d9121694",
   "metadata": {},
   "outputs": [
    {
     "data": {
      "text/plain": [
       "'/home/sofia.puvogel@mydre.org/anaconda3/envs/nemocad/lib/python3.7/site-packages/nemocad/dat/lincs/level5_beta_trt_cp_n720216x12328.gctx'"
      ]
     },
     "execution_count": 6,
     "metadata": {},
     "output_type": "execute_result"
    }
   ],
   "source": [
    "sig_data_file =  os.path.join(data_dir,'level5_beta_trt_cp_n720216x12328.gctx')\n",
    "sig_data_file"
   ]
  },
  {
   "cell_type": "code",
   "execution_count": 8,
   "id": "94f13f49",
   "metadata": {},
   "outputs": [],
   "source": [
    "probs_dict = dict()\n",
    "for entity_name in lincs_pert_set[interval[0]:min(len(lincs_pert_set), interval[1])]:\n",
    "    \n",
    "    ids_for_pert = sig_metadata['sig_id'][(sig_metadata['cmap_name'] == entity_name) & (sig_metadata['pert_type'] == 'trt_cp')]\n",
    "    if verbose: print('For', entity_name, 'found', str(len(ids_for_pert)), 'perturbation experiments')\n",
    "    #ids_for_pert = [str(i.encode()) for i in ids_for_pert]\n",
    "    if len(ids_for_pert)>0:\n",
    "        dat_for_pert = parse(sig_data_file, cid=ids_for_pert)\n",
    "        prob_vector = (1 + dat_for_pert.data_df.sum(axis=1).multiply((-lengthscale*dat_for_pert.data_df.std(axis=1, ddof=0)).rpow(2)).div(dat_for_pert.data_df.abs().sum(axis=1)))/2\n",
    "\n",
    "    \n",
    "        prob_vector.fillna(0.5, inplace=True)\n",
    "        prob_vector.rename(index=gene_id2sym_dict, inplace=True)\n",
    "    \n",
    "    \n",
    "    \n",
    "        if verbose:\n",
    "            print('Summary statistics of probabilistic effects of', entity_name, 'on genes')\n",
    "            print(prob_vector.describe())\n",
    "            print('Most upregulated gene is\\n', prob_vector.idxmax())\n",
    "            print('Most downregulated gene is\\n', prob_vector.idxmin())\n",
    "\n",
    "        if prob_vector is not None: probs_dict[entity_name] = prob_vector\n",
    "probs_df = pd.DataFrame.from_dict(probs_dict, orient='index')\n",
    "probs_df.to_csv(os.path.join(data_dir,'lincs_probabilities_beta.csv'))"
   ]
  },
  {
   "cell_type": "code",
   "execution_count": 10,
   "id": "cece8833",
   "metadata": {},
   "outputs": [
    {
     "data": {
      "text/html": [
       "<div>\n",
       "<style scoped>\n",
       "    .dataframe tbody tr th:only-of-type {\n",
       "        vertical-align: middle;\n",
       "    }\n",
       "\n",
       "    .dataframe tbody tr th {\n",
       "        vertical-align: top;\n",
       "    }\n",
       "\n",
       "    .dataframe thead th {\n",
       "        text-align: right;\n",
       "    }\n",
       "</style>\n",
       "<table border=\"1\" class=\"dataframe\">\n",
       "  <thead>\n",
       "    <tr style=\"text-align: right;\">\n",
       "      <th></th>\n",
       "      <th>NAT2</th>\n",
       "      <th>ADA</th>\n",
       "      <th>CDH2</th>\n",
       "      <th>AKT3</th>\n",
       "      <th>MED6</th>\n",
       "      <th>NAALAD2</th>\n",
       "      <th>NAALADL1</th>\n",
       "      <th>ACOT8</th>\n",
       "      <th>ABI1</th>\n",
       "      <th>GNPDA1</th>\n",
       "      <th>...</th>\n",
       "      <th>REC8</th>\n",
       "      <th>HNRNPDL</th>\n",
       "      <th>DMTF1</th>\n",
       "      <th>PPP4R1</th>\n",
       "      <th>CDH1</th>\n",
       "      <th>SLC12A6</th>\n",
       "      <th>PTBP3</th>\n",
       "      <th>KCNE2</th>\n",
       "      <th>DGCR2</th>\n",
       "      <th>SCO2</th>\n",
       "    </tr>\n",
       "  </thead>\n",
       "  <tbody>\n",
       "    <tr>\n",
       "      <th>BRD-K33057338</th>\n",
       "      <td>0.617811</td>\n",
       "      <td>0.501177</td>\n",
       "      <td>0.787618</td>\n",
       "      <td>0.822623</td>\n",
       "      <td>0.527507</td>\n",
       "      <td>0.499875</td>\n",
       "      <td>0.439572</td>\n",
       "      <td>0.262593</td>\n",
       "      <td>0.410854</td>\n",
       "      <td>0.533232</td>\n",
       "      <td>...</td>\n",
       "      <td>0.507804</td>\n",
       "      <td>0.606077</td>\n",
       "      <td>0.361184</td>\n",
       "      <td>0.629931</td>\n",
       "      <td>0.553332</td>\n",
       "      <td>0.666061</td>\n",
       "      <td>0.222450</td>\n",
       "      <td>0.366073</td>\n",
       "      <td>0.084856</td>\n",
       "      <td>0.409289</td>\n",
       "    </tr>\n",
       "    <tr>\n",
       "      <th>guaifenesin</th>\n",
       "      <td>0.394366</td>\n",
       "      <td>0.527570</td>\n",
       "      <td>0.698008</td>\n",
       "      <td>0.484667</td>\n",
       "      <td>0.585660</td>\n",
       "      <td>0.554627</td>\n",
       "      <td>0.485378</td>\n",
       "      <td>0.558805</td>\n",
       "      <td>0.451605</td>\n",
       "      <td>0.353858</td>\n",
       "      <td>...</td>\n",
       "      <td>0.538181</td>\n",
       "      <td>0.633237</td>\n",
       "      <td>0.490446</td>\n",
       "      <td>0.619831</td>\n",
       "      <td>0.434728</td>\n",
       "      <td>0.496196</td>\n",
       "      <td>0.604974</td>\n",
       "      <td>0.384107</td>\n",
       "      <td>0.425089</td>\n",
       "      <td>0.623076</td>\n",
       "    </tr>\n",
       "    <tr>\n",
       "      <th>BRD-K76513704</th>\n",
       "      <td>1.000000</td>\n",
       "      <td>1.000000</td>\n",
       "      <td>0.000000</td>\n",
       "      <td>0.000000</td>\n",
       "      <td>1.000000</td>\n",
       "      <td>1.000000</td>\n",
       "      <td>0.000000</td>\n",
       "      <td>1.000000</td>\n",
       "      <td>1.000000</td>\n",
       "      <td>1.000000</td>\n",
       "      <td>...</td>\n",
       "      <td>1.000000</td>\n",
       "      <td>1.000000</td>\n",
       "      <td>1.000000</td>\n",
       "      <td>1.000000</td>\n",
       "      <td>0.000000</td>\n",
       "      <td>0.000000</td>\n",
       "      <td>0.000000</td>\n",
       "      <td>1.000000</td>\n",
       "      <td>1.000000</td>\n",
       "      <td>0.000000</td>\n",
       "    </tr>\n",
       "    <tr>\n",
       "      <th>BRD-K27638063</th>\n",
       "      <td>0.000000</td>\n",
       "      <td>0.000000</td>\n",
       "      <td>0.000000</td>\n",
       "      <td>1.000000</td>\n",
       "      <td>1.000000</td>\n",
       "      <td>0.000000</td>\n",
       "      <td>1.000000</td>\n",
       "      <td>0.000000</td>\n",
       "      <td>0.000000</td>\n",
       "      <td>1.000000</td>\n",
       "      <td>...</td>\n",
       "      <td>0.000000</td>\n",
       "      <td>1.000000</td>\n",
       "      <td>0.000000</td>\n",
       "      <td>0.000000</td>\n",
       "      <td>1.000000</td>\n",
       "      <td>1.000000</td>\n",
       "      <td>0.000000</td>\n",
       "      <td>1.000000</td>\n",
       "      <td>1.000000</td>\n",
       "      <td>1.000000</td>\n",
       "    </tr>\n",
       "    <tr>\n",
       "      <th>BRD-K32947579</th>\n",
       "      <td>1.000000</td>\n",
       "      <td>0.000000</td>\n",
       "      <td>0.000000</td>\n",
       "      <td>0.000000</td>\n",
       "      <td>0.000000</td>\n",
       "      <td>0.000000</td>\n",
       "      <td>1.000000</td>\n",
       "      <td>0.000000</td>\n",
       "      <td>0.000000</td>\n",
       "      <td>0.000000</td>\n",
       "      <td>...</td>\n",
       "      <td>1.000000</td>\n",
       "      <td>0.000000</td>\n",
       "      <td>0.000000</td>\n",
       "      <td>0.000000</td>\n",
       "      <td>1.000000</td>\n",
       "      <td>1.000000</td>\n",
       "      <td>1.000000</td>\n",
       "      <td>1.000000</td>\n",
       "      <td>1.000000</td>\n",
       "      <td>1.000000</td>\n",
       "    </tr>\n",
       "  </tbody>\n",
       "</table>\n",
       "<p>5 rows × 12327 columns</p>\n",
       "</div>"
      ],
      "text/plain": [
       "                   NAT2       ADA      CDH2      AKT3      MED6   NAALAD2  \\\n",
       "BRD-K33057338  0.617811  0.501177  0.787618  0.822623  0.527507  0.499875   \n",
       "guaifenesin    0.394366  0.527570  0.698008  0.484667  0.585660  0.554627   \n",
       "BRD-K76513704  1.000000  1.000000  0.000000  0.000000  1.000000  1.000000   \n",
       "BRD-K27638063  0.000000  0.000000  0.000000  1.000000  1.000000  0.000000   \n",
       "BRD-K32947579  1.000000  0.000000  0.000000  0.000000  0.000000  0.000000   \n",
       "\n",
       "               NAALADL1     ACOT8      ABI1    GNPDA1  ...      REC8  \\\n",
       "BRD-K33057338  0.439572  0.262593  0.410854  0.533232  ...  0.507804   \n",
       "guaifenesin    0.485378  0.558805  0.451605  0.353858  ...  0.538181   \n",
       "BRD-K76513704  0.000000  1.000000  1.000000  1.000000  ...  1.000000   \n",
       "BRD-K27638063  1.000000  0.000000  0.000000  1.000000  ...  0.000000   \n",
       "BRD-K32947579  1.000000  0.000000  0.000000  0.000000  ...  1.000000   \n",
       "\n",
       "                HNRNPDL     DMTF1    PPP4R1      CDH1   SLC12A6     PTBP3  \\\n",
       "BRD-K33057338  0.606077  0.361184  0.629931  0.553332  0.666061  0.222450   \n",
       "guaifenesin    0.633237  0.490446  0.619831  0.434728  0.496196  0.604974   \n",
       "BRD-K76513704  1.000000  1.000000  1.000000  0.000000  0.000000  0.000000   \n",
       "BRD-K27638063  1.000000  0.000000  0.000000  1.000000  1.000000  0.000000   \n",
       "BRD-K32947579  0.000000  0.000000  0.000000  1.000000  1.000000  1.000000   \n",
       "\n",
       "                  KCNE2     DGCR2      SCO2  \n",
       "BRD-K33057338  0.366073  0.084856  0.409289  \n",
       "guaifenesin    0.384107  0.425089  0.623076  \n",
       "BRD-K76513704  1.000000  1.000000  0.000000  \n",
       "BRD-K27638063  1.000000  1.000000  1.000000  \n",
       "BRD-K32947579  1.000000  1.000000  1.000000  \n",
       "\n",
       "[5 rows x 12327 columns]"
      ]
     },
     "execution_count": 10,
     "metadata": {},
     "output_type": "execute_result"
    }
   ],
   "source": [
    "probs_df.head()"
   ]
  }
 ],
 "metadata": {
  "kernelspec": {
   "display_name": "Python 3 (ipykernel)",
   "language": "python",
   "name": "python3"
  },
  "language_info": {
   "codemirror_mode": {
    "name": "ipython",
    "version": 3
   },
   "file_extension": ".py",
   "mimetype": "text/x-python",
   "name": "python",
   "nbconvert_exporter": "python",
   "pygments_lexer": "ipython3",
   "version": "3.12.4"
  }
 },
 "nbformat": 4,
 "nbformat_minor": 5
}
