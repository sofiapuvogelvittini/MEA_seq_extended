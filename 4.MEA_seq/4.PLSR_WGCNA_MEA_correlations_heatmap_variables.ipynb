{
 "cells": [
  {
   "cell_type": "code",
   "execution_count": null,
   "id": "a2efd563-bdee-4a64-a7f6-dd226e679bfa",
   "metadata": {},
   "outputs": [],
   "source": [
    "#we need eigengenes for the stable WGCNA, and the variables, and plot the correlations!"
   ]
  },
  {
   "cell_type": "code",
   "execution_count": 3,
   "id": "bde27214-12ac-4fc8-9763-8250c87078cf",
   "metadata": {},
   "outputs": [],
   "source": [
    "setwd(\"T:/PIgroup Nael NadifKasri/Sofia/2025/MEA_seq_patient/Analysis/MEA-seq/WGCNA_sPLSR\")"
   ]
  },
  {
   "cell_type": "code",
   "execution_count": 4,
   "id": "6114c91c-c348-441c-9477-7401e9eabd93",
   "metadata": {},
   "outputs": [],
   "source": [
    "library(tibble)\n",
    "library(dplyr)\n",
    "library(tidyr)\n",
    "library(ggplot2)\n",
    "library(tidyverse)\n",
    "library(DESeq2)\n",
    "library(tidyverse)\n",
    "library(WGCNA)\n",
    "library(mixOmics)\n",
    "library(writexl)\n",
    "library(RColorBrewer)\n",
    "library(stringr)\n",
    "library(pheatmap)"
   ]
  },
  {
   "cell_type": "code",
   "execution_count": 5,
   "id": "bb540d3c-a324-4cf4-b2d2-93830d7913d5",
   "metadata": {},
   "outputs": [
    {
     "data": {
      "text/html": [
       "<style>\n",
       ".list-inline {list-style: none; margin:0; padding: 0}\n",
       ".list-inline>li {display: inline-block}\n",
       ".list-inline>li:not(:last-child)::after {content: \"\\00b7\"; padding: 0 .5ex}\n",
       "</style>\n",
       "<ol class=list-inline><li>'EB_Dur'</li><li>'EB_Dur_Std'</li><li>'EB_ISI'</li><li>'EB_prop'</li><li>'EB_prop_Std'</li><li>'EB_rate_Std'</li><li>'Firing_Rate_in_NB_Hz'</li><li>'hfNB_and_NB_prop'</li><li>'hfNB_rate'</li><li>'IEBI_CV'</li><li>'IEBI_Std'</li><li>'INBI_Std'</li><li>'NB_dur'</li><li>'NB_prop'</li><li>'Spikes_per_EB'</li></ol>\n"
      ],
      "text/latex": [
       "\\begin{enumerate*}\n",
       "\\item 'EB\\_Dur'\n",
       "\\item 'EB\\_Dur\\_Std'\n",
       "\\item 'EB\\_ISI'\n",
       "\\item 'EB\\_prop'\n",
       "\\item 'EB\\_prop\\_Std'\n",
       "\\item 'EB\\_rate\\_Std'\n",
       "\\item 'Firing\\_Rate\\_in\\_NB\\_Hz'\n",
       "\\item 'hfNB\\_and\\_NB\\_prop'\n",
       "\\item 'hfNB\\_rate'\n",
       "\\item 'IEBI\\_CV'\n",
       "\\item 'IEBI\\_Std'\n",
       "\\item 'INBI\\_Std'\n",
       "\\item 'NB\\_dur'\n",
       "\\item 'NB\\_prop'\n",
       "\\item 'Spikes\\_per\\_EB'\n",
       "\\end{enumerate*}\n"
      ],
      "text/markdown": [
       "1. 'EB_Dur'\n",
       "2. 'EB_Dur_Std'\n",
       "3. 'EB_ISI'\n",
       "4. 'EB_prop'\n",
       "5. 'EB_prop_Std'\n",
       "6. 'EB_rate_Std'\n",
       "7. 'Firing_Rate_in_NB_Hz'\n",
       "8. 'hfNB_and_NB_prop'\n",
       "9. 'hfNB_rate'\n",
       "10. 'IEBI_CV'\n",
       "11. 'IEBI_Std'\n",
       "12. 'INBI_Std'\n",
       "13. 'NB_dur'\n",
       "14. 'NB_prop'\n",
       "15. 'Spikes_per_EB'\n",
       "\n",
       "\n"
      ],
      "text/plain": [
       " [1] \"EB_Dur\"               \"EB_Dur_Std\"           \"EB_ISI\"              \n",
       " [4] \"EB_prop\"              \"EB_prop_Std\"          \"EB_rate_Std\"         \n",
       " [7] \"Firing_Rate_in_NB_Hz\" \"hfNB_and_NB_prop\"     \"hfNB_rate\"           \n",
       "[10] \"IEBI_CV\"              \"IEBI_Std\"             \"INBI_Std\"            \n",
       "[13] \"NB_dur\"               \"NB_prop\"              \"Spikes_per_EB\"       "
      ]
     },
     "metadata": {},
     "output_type": "display_data"
    }
   ],
   "source": [
    "freq_WGCNA<-read.table(\"freq_WGCNA_1C_X40_Y10_10000.txt\")\n",
    "n_boot <- 10000\n",
    "stable_WGCNA <- freq_WGCNA[freq_WGCNA$Freq >= 0.97*n_boot ,\"Var1\"]\n",
    "\n",
    "freq_MEA<-read.table(\"freq_MEA_1C_X40_Y10_10000.txt\")\n",
    "stable_MEA <-freq_MEA[freq_MEA$Freq >= 0.1*n_boot ,\"Var1\"]\n",
    "stable_MEA\n",
    "\n"
   ]
  },
  {
   "cell_type": "code",
   "execution_count": 6,
   "id": "bf56f9cb-9872-4355-bcec-444f213012c8",
   "metadata": {},
   "outputs": [],
   "source": [
    "#MEASEQ\n",
    "mea_traits<-read.csv(\"T:/PIgroup Nael NadifKasri/Sofia/2025/MEA_seq_patient/Analysis/MEA-seq/patients_normalized_hier_PC13.csv\")\n",
    "rownames(mea_traits)<-mea_traits$sample\n",
    "mea_traits<-mea_traits[-1]\n",
    "mea_traits$Phenotype_Well_Label <-paste0(mea_traits$Phenotype,\"_\",mea_traits$Well_Label)\n",
    "mea_seq_samples<-mea_traits$sample\n",
    "rownames(mea_traits)<-mea_traits$sample\n",
    "mea_traits_noMeta<-mea_traits[,stable_MEA]\n",
    "mea_traits_noMeta <-mea_traits_noMeta[, !names(mea_traits_noMeta) %in% \"hier_clust\"]  # Remove using a condition\n",
    "\n",
    "\n",
    "samples_info<-read.csv(\"T:/PIgroup Nael NadifKasri/Sofia/2025/MEA_seq_patient/Code/0.Data/RNAseq_data/samples_info.csv\")\n",
    "\n",
    "samples_info$Well_ID <- sub(\".*_\", \"\", samples_info$sample)\n",
    "rownames(samples_info)<-samples_info$sample\n",
    "sampleTable<-samples_info\n"
   ]
  },
  {
   "cell_type": "code",
   "execution_count": null,
   "id": "61a56071-ec59-41d6-86a5-8df70e2249b2",
   "metadata": {},
   "outputs": [],
   "source": [
    "#correlate module eigengenes with activity \n",
    "#then make a heatmap with ** for the significant\n"
   ]
  },
  {
   "cell_type": "code",
   "execution_count": 10,
   "id": "2938b608-4819-469e-ae56-0b940dd60f41",
   "metadata": {},
   "outputs": [],
   "source": [
    "module_eigengenes<-read.csv(\"T:/PIgroup Nael NadifKasri/Sofia/2025/MEA_seq_patient/Analysis/RNA-seq/PRPS_integration_neurons/WGCNA/module_eigengenes_NT_signed_sp16.csv\")\n",
    "rownames(module_eigengenes)<-module_eigengenes$X\n",
    "module_eigengenes<-module_eigengenes[-1]\n",
    "module_eigengenes_ex<-module_eigengenes[mea_seq_samples,stable_WGCNA]\n"
   ]
  },
  {
   "cell_type": "code",
   "execution_count": 11,
   "id": "209024c1-8197-452d-9564-26b85c97fd68",
   "metadata": {},
   "outputs": [
    {
     "data": {
      "text/html": [
       "7"
      ],
      "text/latex": [
       "7"
      ],
      "text/markdown": [
       "7"
      ],
      "text/plain": [
       "[1] 7"
      ]
     },
     "metadata": {},
     "output_type": "display_data"
    },
    {
     "data": {
      "text/html": [
       "15"
      ],
      "text/latex": [
       "15"
      ],
      "text/markdown": [
       "15"
      ],
      "text/plain": [
       "[1] 15"
      ]
     },
     "metadata": {},
     "output_type": "display_data"
    }
   ],
   "source": [
    "# Define numbers of genes and samples\n",
    "nModules <- ncol(module_eigengenes_ex)\n",
    "nMetrics <- ncol(mea_traits_noMeta)\n",
    "numb_of_traits=length(mea_traits_noMeta)\n",
    "nModules\n",
    "nMetrics"
   ]
  },
  {
   "cell_type": "code",
   "execution_count": 12,
   "id": "7346007f-17ce-49e1-8152-dcdff55c61e8",
   "metadata": {},
   "outputs": [],
   "source": [
    "est_list<-list()\n",
    "pval_list<-list()\n",
    "for (i in 1:nMetrics){\n",
    "    est <- c()\n",
    "    p <- c()\n",
    "    for (j in 1:nModules){\n",
    "    s_corr<-cor.test(mea_traits_noMeta[[i]],module_eigengenes_ex[[j]],method = 'spearman',exact = FALSE)\n",
    "    p_val<-s_corr$p.value\n",
    "    estimate<-unname(s_corr$estimate)\n",
    "     est[j]<- estimate  \n",
    "     p[j]<- p_val  \n",
    "    }\n",
    "    est_list[[i]]<-est\n",
    "    pval_list[[i]]<-p\n",
    "    }\n",
    "names(est_list)<-colnames(mea_traits_noMeta)\n",
    "names(pval_list)<-colnames(mea_traits_noMeta)"
   ]
  },
  {
   "cell_type": "code",
   "execution_count": 13,
   "id": "f185cd12-a25b-41b3-b05b-36cbd4b46f7c",
   "metadata": {},
   "outputs": [],
   "source": [
    "est_list<-do.call(cbind,est_list)\n",
    "pval_list<-do.call(cbind,pval_list)\n",
    "rownames(est_list)<-colnames(module_eigengenes_ex)\n",
    "rownames(pval_list)<-colnames(module_eigengenes_ex)\n",
    "all_adj<-round(p.adjust(c(pval_list), method =\"fdr\", n = length(c(pval_list))),3)\n",
    "all_adj<-split(all_adj,ceiling(seq_along(all_adj) / nModules))\n",
    "all_adj<-as.data.frame(t(do.call(rbind, all_adj)))\n",
    "rownames(all_adj)<-rownames(pval_list)\n",
    "colnames(all_adj)<-colnames(pval_list)\n",
    "all_adj<-as.matrix(all_adj)"
   ]
  },
  {
   "cell_type": "code",
   "execution_count": 14,
   "id": "39882f71-a1c7-4bb4-84d4-0a2d642b5209",
   "metadata": {},
   "outputs": [],
   "source": [
    "#make a pheatmap\n",
    "# --- 1. Generate matrix of asterisks based on p-values ---\n",
    "sig_labels <- ifelse(all_adj <= 0.001, \"***\",\n",
    "              ifelse(all_adj <= 0.01,  \"**\",\n",
    "              ifelse(all_adj <= 0.05,  \"*\", \"\")))"
   ]
  },
  {
   "cell_type": "code",
   "execution_count": 15,
   "id": "3935d96f-8065-4bbe-9f91-4405bbd05c31",
   "metadata": {},
   "outputs": [
    {
     "data": {
      "image/png": "[encoded data removed]",
      "text/plain": [
       "plot without title"
      ]
     },
     "metadata": {
      "image/png": {
       "height": 420,
       "width": 420
      }
     },
     "output_type": "display_data"
    }
   ],
   "source": [
    "# --- 2. Plot heatmap ---\n",
    "p<-pheatmap(est_list,\n",
    "         color = colorRampPalette(c(\"blue\", \"white\", \"red\"))(100),\n",
    "         breaks = seq(-1, 1, length.out = 101),   # correlations assumed in [-1,1]\n",
    "         display_numbers = sig_labels,            # overlay stars\n",
    "         number_color = \"black\",\n",
    "         fontsize_number = 10,\n",
    "         cluster_rows = TRUE, cluster_cols = TRUE,\n",
    "         main = \"Geene modules-activity variables correlations\",  angle_col = 45)\n",
    "\n",
    "ggsave(\"heatmap_activity_modules.pdf\",bg = \"transparent\",\n",
    "                  width = 6,   # inches\n",
    "                  height = 4,   # inches\n",
    "                plot=p\n",
    "            )"
   ]
  }
 ],
 "metadata": {
  "kernelspec": {
   "display_name": "R 4.2.1 (native)",
   "language": "R",
   "name": "ir421_native"
  },
  "language_info": {
   "codemirror_mode": "r",
   "file_extension": ".r",
   "mimetype": "text/x-r-source",
   "name": "R",
   "pygments_lexer": "r",
   "version": "4.2.1"
  }
 },
 "nbformat": 4,
 "nbformat_minor": 5
}
